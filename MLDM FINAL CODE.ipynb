{
  "cells": [
    {
      "cell_type": "code",
      "execution_count": 305,
      "id": "1c4ad6b2",
      "metadata": {
        "id": "1c4ad6b2"
      },
      "outputs": [],
      "source": [
        "# 1 import the lib\n",
        "import pandas as pd #For data related tasks\n",
        "import matplotlib.pyplot as plt #for data visualization \n",
        "from sklearn.linear_model import LinearRegression"
      ]
    },
    {
      "cell_type": "code",
      "execution_count": 306,
      "id": "18c44a2e",
      "metadata": {
        "colab": {
          "base_uri": "https://localhost:8080/",
          "height": 206
        },
        "id": "18c44a2e",
        "outputId": "ee3379b1-cba8-4813-8759-4e6af9ec8860"
      },
      "outputs": [
        {
          "output_type": "execute_result",
          "data": {
            "text/plain": [
              "         Date    Open    High     Low    Last   Close  Total Trade Quantity  \\\n",
              "0  08/10/2018  208.00  222.25  206.85  216.00  215.15             4642146.0   \n",
              "1  05/10/2018  217.00  218.60  205.90  210.25  209.20             3519515.0   \n",
              "2  04/10/2018  223.50  227.80  216.15  217.25  218.20             1728786.0   \n",
              "3  03/10/2018  230.00  237.50  225.75  226.45  227.60             1708590.0   \n",
              "4  01/10/2018  234.55  234.60  221.05  230.30  230.90             1534749.0   \n",
              "\n",
              "   Turnover (Lacs) stock_price_change_in _percentage     trend  \n",
              "0         10062.83                            3.4375  positive  \n",
              "1          7407.06                      -3.594470046  negative  \n",
              "2          3815.79                      -2.371364653  negative  \n",
              "3          3960.27                      -1.043478261  negative  \n",
              "4              NaN                      -1.556171392  negative  "
            ],
            "text/html": [
              "\n",
              "  <div id=\"df-00570dd6-4990-46db-a2ae-8b79b7e4aa4c\">\n",
              "    <div class=\"colab-df-container\">\n",
              "      <div>\n",
              "<style scoped>\n",
              "    .dataframe tbody tr th:only-of-type {\n",
              "        vertical-align: middle;\n",
              "    }\n",
              "\n",
              "    .dataframe tbody tr th {\n",
              "        vertical-align: top;\n",
              "    }\n",
              "\n",
              "    .dataframe thead th {\n",
              "        text-align: right;\n",
              "    }\n",
              "</style>\n",
              "<table border=\"1\" class=\"dataframe\">\n",
              "  <thead>\n",
              "    <tr style=\"text-align: right;\">\n",
              "      <th></th>\n",
              "      <th>Date</th>\n",
              "      <th>Open</th>\n",
              "      <th>High</th>\n",
              "      <th>Low</th>\n",
              "      <th>Last</th>\n",
              "      <th>Close</th>\n",
              "      <th>Total Trade Quantity</th>\n",
              "      <th>Turnover (Lacs)</th>\n",
              "      <th>stock_price_change_in _percentage</th>\n",
              "      <th>trend</th>\n",
              "    </tr>\n",
              "  </thead>\n",
              "  <tbody>\n",
              "    <tr>\n",
              "      <th>0</th>\n",
              "      <td>08/10/2018</td>\n",
              "      <td>208.00</td>\n",
              "      <td>222.25</td>\n",
              "      <td>206.85</td>\n",
              "      <td>216.00</td>\n",
              "      <td>215.15</td>\n",
              "      <td>4642146.0</td>\n",
              "      <td>10062.83</td>\n",
              "      <td>3.4375</td>\n",
              "      <td>positive</td>\n",
              "    </tr>\n",
              "    <tr>\n",
              "      <th>1</th>\n",
              "      <td>05/10/2018</td>\n",
              "      <td>217.00</td>\n",
              "      <td>218.60</td>\n",
              "      <td>205.90</td>\n",
              "      <td>210.25</td>\n",
              "      <td>209.20</td>\n",
              "      <td>3519515.0</td>\n",
              "      <td>7407.06</td>\n",
              "      <td>-3.594470046</td>\n",
              "      <td>negative</td>\n",
              "    </tr>\n",
              "    <tr>\n",
              "      <th>2</th>\n",
              "      <td>04/10/2018</td>\n",
              "      <td>223.50</td>\n",
              "      <td>227.80</td>\n",
              "      <td>216.15</td>\n",
              "      <td>217.25</td>\n",
              "      <td>218.20</td>\n",
              "      <td>1728786.0</td>\n",
              "      <td>3815.79</td>\n",
              "      <td>-2.371364653</td>\n",
              "      <td>negative</td>\n",
              "    </tr>\n",
              "    <tr>\n",
              "      <th>3</th>\n",
              "      <td>03/10/2018</td>\n",
              "      <td>230.00</td>\n",
              "      <td>237.50</td>\n",
              "      <td>225.75</td>\n",
              "      <td>226.45</td>\n",
              "      <td>227.60</td>\n",
              "      <td>1708590.0</td>\n",
              "      <td>3960.27</td>\n",
              "      <td>-1.043478261</td>\n",
              "      <td>negative</td>\n",
              "    </tr>\n",
              "    <tr>\n",
              "      <th>4</th>\n",
              "      <td>01/10/2018</td>\n",
              "      <td>234.55</td>\n",
              "      <td>234.60</td>\n",
              "      <td>221.05</td>\n",
              "      <td>230.30</td>\n",
              "      <td>230.90</td>\n",
              "      <td>1534749.0</td>\n",
              "      <td>NaN</td>\n",
              "      <td>-1.556171392</td>\n",
              "      <td>negative</td>\n",
              "    </tr>\n",
              "  </tbody>\n",
              "</table>\n",
              "</div>\n",
              "      <button class=\"colab-df-convert\" onclick=\"convertToInteractive('df-00570dd6-4990-46db-a2ae-8b79b7e4aa4c')\"\n",
              "              title=\"Convert this dataframe to an interactive table.\"\n",
              "              style=\"display:none;\">\n",
              "        \n",
              "  <svg xmlns=\"http://www.w3.org/2000/svg\" height=\"24px\"viewBox=\"0 0 24 24\"\n",
              "       width=\"24px\">\n",
              "    <path d=\"M0 0h24v24H0V0z\" fill=\"none\"/>\n",
              "    <path d=\"M18.56 5.44l.94 2.06.94-2.06 2.06-.94-2.06-.94-.94-2.06-.94 2.06-2.06.94zm-11 1L8.5 8.5l.94-2.06 2.06-.94-2.06-.94L8.5 2.5l-.94 2.06-2.06.94zm10 10l.94 2.06.94-2.06 2.06-.94-2.06-.94-.94-2.06-.94 2.06-2.06.94z\"/><path d=\"M17.41 7.96l-1.37-1.37c-.4-.4-.92-.59-1.43-.59-.52 0-1.04.2-1.43.59L10.3 9.45l-7.72 7.72c-.78.78-.78 2.05 0 2.83L4 21.41c.39.39.9.59 1.41.59.51 0 1.02-.2 1.41-.59l7.78-7.78 2.81-2.81c.8-.78.8-2.07 0-2.86zM5.41 20L4 18.59l7.72-7.72 1.47 1.35L5.41 20z\"/>\n",
              "  </svg>\n",
              "      </button>\n",
              "      \n",
              "  <style>\n",
              "    .colab-df-container {\n",
              "      display:flex;\n",
              "      flex-wrap:wrap;\n",
              "      gap: 12px;\n",
              "    }\n",
              "\n",
              "    .colab-df-convert {\n",
              "      background-color: #E8F0FE;\n",
              "      border: none;\n",
              "      border-radius: 50%;\n",
              "      cursor: pointer;\n",
              "      display: none;\n",
              "      fill: #1967D2;\n",
              "      height: 32px;\n",
              "      padding: 0 0 0 0;\n",
              "      width: 32px;\n",
              "    }\n",
              "\n",
              "    .colab-df-convert:hover {\n",
              "      background-color: #E2EBFA;\n",
              "      box-shadow: 0px 1px 2px rgba(60, 64, 67, 0.3), 0px 1px 3px 1px rgba(60, 64, 67, 0.15);\n",
              "      fill: #174EA6;\n",
              "    }\n",
              "\n",
              "    [theme=dark] .colab-df-convert {\n",
              "      background-color: #3B4455;\n",
              "      fill: #D2E3FC;\n",
              "    }\n",
              "\n",
              "    [theme=dark] .colab-df-convert:hover {\n",
              "      background-color: #434B5C;\n",
              "      box-shadow: 0px 1px 3px 1px rgba(0, 0, 0, 0.15);\n",
              "      filter: drop-shadow(0px 1px 2px rgba(0, 0, 0, 0.3));\n",
              "      fill: #FFFFFF;\n",
              "    }\n",
              "  </style>\n",
              "\n",
              "      <script>\n",
              "        const buttonEl =\n",
              "          document.querySelector('#df-00570dd6-4990-46db-a2ae-8b79b7e4aa4c button.colab-df-convert');\n",
              "        buttonEl.style.display =\n",
              "          google.colab.kernel.accessAllowed ? 'block' : 'none';\n",
              "\n",
              "        async function convertToInteractive(key) {\n",
              "          const element = document.querySelector('#df-00570dd6-4990-46db-a2ae-8b79b7e4aa4c');\n",
              "          const dataTable =\n",
              "            await google.colab.kernel.invokeFunction('convertToInteractive',\n",
              "                                                     [key], {});\n",
              "          if (!dataTable) return;\n",
              "\n",
              "          const docLinkHtml = 'Like what you see? Visit the ' +\n",
              "            '<a target=\"_blank\" href=https://colab.research.google.com/notebooks/data_table.ipynb>data table notebook</a>'\n",
              "            + ' to learn more about interactive tables.';\n",
              "          element.innerHTML = '';\n",
              "          dataTable['output_type'] = 'display_data';\n",
              "          await google.colab.output.renderOutput(dataTable, element);\n",
              "          const docLink = document.createElement('div');\n",
              "          docLink.innerHTML = docLinkHtml;\n",
              "          element.appendChild(docLink);\n",
              "        }\n",
              "      </script>\n",
              "    </div>\n",
              "  </div>\n",
              "  "
            ]
          },
          "metadata": {},
          "execution_count": 306
        }
      ],
      "source": [
        "# 2) Load the dataset----Read the dataset\n",
        "data=pd.read_csv(\"NSE-Tata-Global-Beverages-Limited (1).csv\")\n",
        "data.head()"
      ]
    },
    {
      "cell_type": "markdown",
      "source": [
        "# New Section"
      ],
      "metadata": {
        "id": "B9PdW8VwmQon"
      },
      "id": "B9PdW8VwmQon"
    },
    {
      "cell_type": "code",
      "execution_count": 307,
      "id": "e66a19ca",
      "metadata": {
        "colab": {
          "base_uri": "https://localhost:8080/"
        },
        "id": "e66a19ca",
        "outputId": "c1bedc25-ded2-4895-c7b9-c6c668cac6eb"
      },
      "outputs": [
        {
          "output_type": "stream",
          "name": "stdout",
          "text": [
            "<class 'pandas.core.frame.DataFrame'>\n",
            "RangeIndex: 1235 entries, 0 to 1234\n",
            "Data columns (total 10 columns):\n",
            " #   Column                             Non-Null Count  Dtype  \n",
            "---  ------                             --------------  -----  \n",
            " 0   Date                               1235 non-null   object \n",
            " 1   Open                               1223 non-null   float64\n",
            " 2   High                               1230 non-null   float64\n",
            " 3   Low                                1234 non-null   float64\n",
            " 4   Last                               1232 non-null   float64\n",
            " 5   Close                              1234 non-null   float64\n",
            " 6   Total Trade Quantity               1233 non-null   float64\n",
            " 7   Turnover (Lacs)                    1232 non-null   float64\n",
            " 8   stock_price_change_in _percentage  1235 non-null   object \n",
            " 9   trend                              1235 non-null   object \n",
            "dtypes: float64(7), object(3)\n",
            "memory usage: 96.6+ KB\n"
          ]
        }
      ],
      "source": [
        "data.info()"
      ]
    },
    {
      "cell_type": "code",
      "execution_count": 308,
      "id": "d8900ea0",
      "metadata": {
        "colab": {
          "base_uri": "https://localhost:8080/",
          "height": 424
        },
        "id": "d8900ea0",
        "outputId": "e721364d-91f9-4dcd-81cc-9e41dd1d3213"
      },
      "outputs": [
        {
          "output_type": "execute_result",
          "data": {
            "text/plain": [
              "            Date    Open    High     Low    Last   Close  \\\n",
              "0     08/10/2018  208.00  222.25  206.85  216.00  215.15   \n",
              "1     05/10/2018  217.00  218.60  205.90  210.25  209.20   \n",
              "2     04/10/2018  223.50  227.80  216.15  217.25  218.20   \n",
              "3     03/10/2018  230.00  237.50  225.75  226.45  227.60   \n",
              "4     01/10/2018  234.55  234.60  221.05  230.30  230.90   \n",
              "...          ...     ...     ...     ...     ...     ...   \n",
              "1230  14/10/2013  160.85  161.45  157.70  159.30  159.45   \n",
              "1231  11/10/2013  161.15  163.45  159.00  159.80  160.05   \n",
              "1232  10/10/2013  156.00  160.80  155.85  160.30  160.15   \n",
              "1233  09/10/2013  155.70  158.20  154.15  155.30  155.55   \n",
              "1234  08/10/2013  157.00  157.80  155.20  155.80  155.80   \n",
              "\n",
              "      Total Trade Quantity  Turnover (Lacs) stock_price_change_in _percentage  \\\n",
              "0                4642146.0         10062.83                            3.4375   \n",
              "1                3519515.0          7407.06                      -3.594470046   \n",
              "2                1728786.0          3815.79                      -2.371364653   \n",
              "3                1708590.0          3960.27                      -1.043478261   \n",
              "4                1534749.0              NaN                      -1.556171392   \n",
              "...                    ...              ...                               ...   \n",
              "1230             1281419.0          2039.09                      -0.870376127   \n",
              "1231             1880046.0          3030.76                      -0.682593857   \n",
              "1232             3124853.0          4978.80                        2.66025641   \n",
              "1233             2049580.0          3204.49                      -0.096339114   \n",
              "1234             1720413.0          2688.94                       -0.76433121   \n",
              "\n",
              "         trend  \n",
              "0     positive  \n",
              "1     negative  \n",
              "2     negative  \n",
              "3     negative  \n",
              "4     negative  \n",
              "...        ...  \n",
              "1230  negative  \n",
              "1231  negative  \n",
              "1232  positive  \n",
              "1233  negative  \n",
              "1234  negative  \n",
              "\n",
              "[1235 rows x 10 columns]"
            ],
            "text/html": [
              "\n",
              "  <div id=\"df-4e71b80e-523f-41ee-8a63-8ed1e6d2d9c6\">\n",
              "    <div class=\"colab-df-container\">\n",
              "      <div>\n",
              "<style scoped>\n",
              "    .dataframe tbody tr th:only-of-type {\n",
              "        vertical-align: middle;\n",
              "    }\n",
              "\n",
              "    .dataframe tbody tr th {\n",
              "        vertical-align: top;\n",
              "    }\n",
              "\n",
              "    .dataframe thead th {\n",
              "        text-align: right;\n",
              "    }\n",
              "</style>\n",
              "<table border=\"1\" class=\"dataframe\">\n",
              "  <thead>\n",
              "    <tr style=\"text-align: right;\">\n",
              "      <th></th>\n",
              "      <th>Date</th>\n",
              "      <th>Open</th>\n",
              "      <th>High</th>\n",
              "      <th>Low</th>\n",
              "      <th>Last</th>\n",
              "      <th>Close</th>\n",
              "      <th>Total Trade Quantity</th>\n",
              "      <th>Turnover (Lacs)</th>\n",
              "      <th>stock_price_change_in _percentage</th>\n",
              "      <th>trend</th>\n",
              "    </tr>\n",
              "  </thead>\n",
              "  <tbody>\n",
              "    <tr>\n",
              "      <th>0</th>\n",
              "      <td>08/10/2018</td>\n",
              "      <td>208.00</td>\n",
              "      <td>222.25</td>\n",
              "      <td>206.85</td>\n",
              "      <td>216.00</td>\n",
              "      <td>215.15</td>\n",
              "      <td>4642146.0</td>\n",
              "      <td>10062.83</td>\n",
              "      <td>3.4375</td>\n",
              "      <td>positive</td>\n",
              "    </tr>\n",
              "    <tr>\n",
              "      <th>1</th>\n",
              "      <td>05/10/2018</td>\n",
              "      <td>217.00</td>\n",
              "      <td>218.60</td>\n",
              "      <td>205.90</td>\n",
              "      <td>210.25</td>\n",
              "      <td>209.20</td>\n",
              "      <td>3519515.0</td>\n",
              "      <td>7407.06</td>\n",
              "      <td>-3.594470046</td>\n",
              "      <td>negative</td>\n",
              "    </tr>\n",
              "    <tr>\n",
              "      <th>2</th>\n",
              "      <td>04/10/2018</td>\n",
              "      <td>223.50</td>\n",
              "      <td>227.80</td>\n",
              "      <td>216.15</td>\n",
              "      <td>217.25</td>\n",
              "      <td>218.20</td>\n",
              "      <td>1728786.0</td>\n",
              "      <td>3815.79</td>\n",
              "      <td>-2.371364653</td>\n",
              "      <td>negative</td>\n",
              "    </tr>\n",
              "    <tr>\n",
              "      <th>3</th>\n",
              "      <td>03/10/2018</td>\n",
              "      <td>230.00</td>\n",
              "      <td>237.50</td>\n",
              "      <td>225.75</td>\n",
              "      <td>226.45</td>\n",
              "      <td>227.60</td>\n",
              "      <td>1708590.0</td>\n",
              "      <td>3960.27</td>\n",
              "      <td>-1.043478261</td>\n",
              "      <td>negative</td>\n",
              "    </tr>\n",
              "    <tr>\n",
              "      <th>4</th>\n",
              "      <td>01/10/2018</td>\n",
              "      <td>234.55</td>\n",
              "      <td>234.60</td>\n",
              "      <td>221.05</td>\n",
              "      <td>230.30</td>\n",
              "      <td>230.90</td>\n",
              "      <td>1534749.0</td>\n",
              "      <td>NaN</td>\n",
              "      <td>-1.556171392</td>\n",
              "      <td>negative</td>\n",
              "    </tr>\n",
              "    <tr>\n",
              "      <th>...</th>\n",
              "      <td>...</td>\n",
              "      <td>...</td>\n",
              "      <td>...</td>\n",
              "      <td>...</td>\n",
              "      <td>...</td>\n",
              "      <td>...</td>\n",
              "      <td>...</td>\n",
              "      <td>...</td>\n",
              "      <td>...</td>\n",
              "      <td>...</td>\n",
              "    </tr>\n",
              "    <tr>\n",
              "      <th>1230</th>\n",
              "      <td>14/10/2013</td>\n",
              "      <td>160.85</td>\n",
              "      <td>161.45</td>\n",
              "      <td>157.70</td>\n",
              "      <td>159.30</td>\n",
              "      <td>159.45</td>\n",
              "      <td>1281419.0</td>\n",
              "      <td>2039.09</td>\n",
              "      <td>-0.870376127</td>\n",
              "      <td>negative</td>\n",
              "    </tr>\n",
              "    <tr>\n",
              "      <th>1231</th>\n",
              "      <td>11/10/2013</td>\n",
              "      <td>161.15</td>\n",
              "      <td>163.45</td>\n",
              "      <td>159.00</td>\n",
              "      <td>159.80</td>\n",
              "      <td>160.05</td>\n",
              "      <td>1880046.0</td>\n",
              "      <td>3030.76</td>\n",
              "      <td>-0.682593857</td>\n",
              "      <td>negative</td>\n",
              "    </tr>\n",
              "    <tr>\n",
              "      <th>1232</th>\n",
              "      <td>10/10/2013</td>\n",
              "      <td>156.00</td>\n",
              "      <td>160.80</td>\n",
              "      <td>155.85</td>\n",
              "      <td>160.30</td>\n",
              "      <td>160.15</td>\n",
              "      <td>3124853.0</td>\n",
              "      <td>4978.80</td>\n",
              "      <td>2.66025641</td>\n",
              "      <td>positive</td>\n",
              "    </tr>\n",
              "    <tr>\n",
              "      <th>1233</th>\n",
              "      <td>09/10/2013</td>\n",
              "      <td>155.70</td>\n",
              "      <td>158.20</td>\n",
              "      <td>154.15</td>\n",
              "      <td>155.30</td>\n",
              "      <td>155.55</td>\n",
              "      <td>2049580.0</td>\n",
              "      <td>3204.49</td>\n",
              "      <td>-0.096339114</td>\n",
              "      <td>negative</td>\n",
              "    </tr>\n",
              "    <tr>\n",
              "      <th>1234</th>\n",
              "      <td>08/10/2013</td>\n",
              "      <td>157.00</td>\n",
              "      <td>157.80</td>\n",
              "      <td>155.20</td>\n",
              "      <td>155.80</td>\n",
              "      <td>155.80</td>\n",
              "      <td>1720413.0</td>\n",
              "      <td>2688.94</td>\n",
              "      <td>-0.76433121</td>\n",
              "      <td>negative</td>\n",
              "    </tr>\n",
              "  </tbody>\n",
              "</table>\n",
              "<p>1235 rows × 10 columns</p>\n",
              "</div>\n",
              "      <button class=\"colab-df-convert\" onclick=\"convertToInteractive('df-4e71b80e-523f-41ee-8a63-8ed1e6d2d9c6')\"\n",
              "              title=\"Convert this dataframe to an interactive table.\"\n",
              "              style=\"display:none;\">\n",
              "        \n",
              "  <svg xmlns=\"http://www.w3.org/2000/svg\" height=\"24px\"viewBox=\"0 0 24 24\"\n",
              "       width=\"24px\">\n",
              "    <path d=\"M0 0h24v24H0V0z\" fill=\"none\"/>\n",
              "    <path d=\"M18.56 5.44l.94 2.06.94-2.06 2.06-.94-2.06-.94-.94-2.06-.94 2.06-2.06.94zm-11 1L8.5 8.5l.94-2.06 2.06-.94-2.06-.94L8.5 2.5l-.94 2.06-2.06.94zm10 10l.94 2.06.94-2.06 2.06-.94-2.06-.94-.94-2.06-.94 2.06-2.06.94z\"/><path d=\"M17.41 7.96l-1.37-1.37c-.4-.4-.92-.59-1.43-.59-.52 0-1.04.2-1.43.59L10.3 9.45l-7.72 7.72c-.78.78-.78 2.05 0 2.83L4 21.41c.39.39.9.59 1.41.59.51 0 1.02-.2 1.41-.59l7.78-7.78 2.81-2.81c.8-.78.8-2.07 0-2.86zM5.41 20L4 18.59l7.72-7.72 1.47 1.35L5.41 20z\"/>\n",
              "  </svg>\n",
              "      </button>\n",
              "      \n",
              "  <style>\n",
              "    .colab-df-container {\n",
              "      display:flex;\n",
              "      flex-wrap:wrap;\n",
              "      gap: 12px;\n",
              "    }\n",
              "\n",
              "    .colab-df-convert {\n",
              "      background-color: #E8F0FE;\n",
              "      border: none;\n",
              "      border-radius: 50%;\n",
              "      cursor: pointer;\n",
              "      display: none;\n",
              "      fill: #1967D2;\n",
              "      height: 32px;\n",
              "      padding: 0 0 0 0;\n",
              "      width: 32px;\n",
              "    }\n",
              "\n",
              "    .colab-df-convert:hover {\n",
              "      background-color: #E2EBFA;\n",
              "      box-shadow: 0px 1px 2px rgba(60, 64, 67, 0.3), 0px 1px 3px 1px rgba(60, 64, 67, 0.15);\n",
              "      fill: #174EA6;\n",
              "    }\n",
              "\n",
              "    [theme=dark] .colab-df-convert {\n",
              "      background-color: #3B4455;\n",
              "      fill: #D2E3FC;\n",
              "    }\n",
              "\n",
              "    [theme=dark] .colab-df-convert:hover {\n",
              "      background-color: #434B5C;\n",
              "      box-shadow: 0px 1px 3px 1px rgba(0, 0, 0, 0.15);\n",
              "      filter: drop-shadow(0px 1px 2px rgba(0, 0, 0, 0.3));\n",
              "      fill: #FFFFFF;\n",
              "    }\n",
              "  </style>\n",
              "\n",
              "      <script>\n",
              "        const buttonEl =\n",
              "          document.querySelector('#df-4e71b80e-523f-41ee-8a63-8ed1e6d2d9c6 button.colab-df-convert');\n",
              "        buttonEl.style.display =\n",
              "          google.colab.kernel.accessAllowed ? 'block' : 'none';\n",
              "\n",
              "        async function convertToInteractive(key) {\n",
              "          const element = document.querySelector('#df-4e71b80e-523f-41ee-8a63-8ed1e6d2d9c6');\n",
              "          const dataTable =\n",
              "            await google.colab.kernel.invokeFunction('convertToInteractive',\n",
              "                                                     [key], {});\n",
              "          if (!dataTable) return;\n",
              "\n",
              "          const docLinkHtml = 'Like what you see? Visit the ' +\n",
              "            '<a target=\"_blank\" href=https://colab.research.google.com/notebooks/data_table.ipynb>data table notebook</a>'\n",
              "            + ' to learn more about interactive tables.';\n",
              "          element.innerHTML = '';\n",
              "          dataTable['output_type'] = 'display_data';\n",
              "          await google.colab.output.renderOutput(dataTable, element);\n",
              "          const docLink = document.createElement('div');\n",
              "          docLink.innerHTML = docLinkHtml;\n",
              "          element.appendChild(docLink);\n",
              "        }\n",
              "      </script>\n",
              "    </div>\n",
              "  </div>\n",
              "  "
            ]
          },
          "metadata": {},
          "execution_count": 308
        }
      ],
      "source": [
        "data\n"
      ]
    },
    {
      "cell_type": "code",
      "execution_count": 308,
      "id": "b7edbb35",
      "metadata": {
        "id": "b7edbb35"
      },
      "outputs": [],
      "source": [
        ""
      ]
    },
    {
      "cell_type": "code",
      "execution_count": 309,
      "id": "90d116f2",
      "metadata": {
        "colab": {
          "base_uri": "https://localhost:8080/"
        },
        "id": "90d116f2",
        "outputId": "bab404d5-860e-4103-f34e-3ada2e861168"
      },
      "outputs": [
        {
          "output_type": "execute_result",
          "data": {
            "text/plain": [
              "(1235, 10)"
            ]
          },
          "metadata": {},
          "execution_count": 309
        }
      ],
      "source": [
        "#shape\n",
        "data.shape"
      ]
    },
    {
      "cell_type": "code",
      "execution_count": 310,
      "id": "a7ac93a2",
      "metadata": {
        "colab": {
          "base_uri": "https://localhost:8080/",
          "height": 1000
        },
        "id": "a7ac93a2",
        "outputId": "f3000c91-e75d-420a-bfa1-9047ba296421"
      },
      "outputs": [
        {
          "output_type": "display_data",
          "data": {
            "text/plain": [
              "<Figure size 1296x1296 with 2 Axes>"
            ],
            "image/png": "[encoded data removed]"
          },
          "metadata": {
            "needs_background": "light"
          }
        }
      ],
      "source": [
        "# Now see some correalations between data\n",
        "import seaborn as sns\n",
        "plt.figure(1 , figsize = (18 , 18))\n",
        "cor = sns.heatmap(data.corr(), annot = True)"
      ]
    },
    {
      "cell_type": "code",
      "execution_count": 311,
      "id": "e7f791f8",
      "metadata": {
        "id": "e7f791f8"
      },
      "outputs": [],
      "source": [
        "data.rename( columns={'Turnover (Lacs)':'Turnover'} ,inplace=True)\n"
      ]
    },
    {
      "cell_type": "code",
      "execution_count": 312,
      "id": "b8a5e599",
      "metadata": {
        "colab": {
          "base_uri": "https://localhost:8080/",
          "height": 206
        },
        "id": "b8a5e599",
        "outputId": "c7b666c4-c8f5-459e-f9bb-59328584f109"
      },
      "outputs": [
        {
          "output_type": "execute_result",
          "data": {
            "text/plain": [
              "         Date    Open    High     Low    Last   Close  Total Trade Quantity  \\\n",
              "0  08/10/2018  208.00  222.25  206.85  216.00  215.15             4642146.0   \n",
              "1  05/10/2018  217.00  218.60  205.90  210.25  209.20             3519515.0   \n",
              "2  04/10/2018  223.50  227.80  216.15  217.25  218.20             1728786.0   \n",
              "3  03/10/2018  230.00  237.50  225.75  226.45  227.60             1708590.0   \n",
              "4  01/10/2018  234.55  234.60  221.05  230.30  230.90             1534749.0   \n",
              "\n",
              "   Turnover stock_price_change_in _percentage     trend  \n",
              "0  10062.83                            3.4375  positive  \n",
              "1   7407.06                      -3.594470046  negative  \n",
              "2   3815.79                      -2.371364653  negative  \n",
              "3   3960.27                      -1.043478261  negative  \n",
              "4       NaN                      -1.556171392  negative  "
            ],
            "text/html": [
              "\n",
              "  <div id=\"df-a65b3b53-7278-4607-9391-250cdee10522\">\n",
              "    <div class=\"colab-df-container\">\n",
              "      <div>\n",
              "<style scoped>\n",
              "    .dataframe tbody tr th:only-of-type {\n",
              "        vertical-align: middle;\n",
              "    }\n",
              "\n",
              "    .dataframe tbody tr th {\n",
              "        vertical-align: top;\n",
              "    }\n",
              "\n",
              "    .dataframe thead th {\n",
              "        text-align: right;\n",
              "    }\n",
              "</style>\n",
              "<table border=\"1\" class=\"dataframe\">\n",
              "  <thead>\n",
              "    <tr style=\"text-align: right;\">\n",
              "      <th></th>\n",
              "      <th>Date</th>\n",
              "      <th>Open</th>\n",
              "      <th>High</th>\n",
              "      <th>Low</th>\n",
              "      <th>Last</th>\n",
              "      <th>Close</th>\n",
              "      <th>Total Trade Quantity</th>\n",
              "      <th>Turnover</th>\n",
              "      <th>stock_price_change_in _percentage</th>\n",
              "      <th>trend</th>\n",
              "    </tr>\n",
              "  </thead>\n",
              "  <tbody>\n",
              "    <tr>\n",
              "      <th>0</th>\n",
              "      <td>08/10/2018</td>\n",
              "      <td>208.00</td>\n",
              "      <td>222.25</td>\n",
              "      <td>206.85</td>\n",
              "      <td>216.00</td>\n",
              "      <td>215.15</td>\n",
              "      <td>4642146.0</td>\n",
              "      <td>10062.83</td>\n",
              "      <td>3.4375</td>\n",
              "      <td>positive</td>\n",
              "    </tr>\n",
              "    <tr>\n",
              "      <th>1</th>\n",
              "      <td>05/10/2018</td>\n",
              "      <td>217.00</td>\n",
              "      <td>218.60</td>\n",
              "      <td>205.90</td>\n",
              "      <td>210.25</td>\n",
              "      <td>209.20</td>\n",
              "      <td>3519515.0</td>\n",
              "      <td>7407.06</td>\n",
              "      <td>-3.594470046</td>\n",
              "      <td>negative</td>\n",
              "    </tr>\n",
              "    <tr>\n",
              "      <th>2</th>\n",
              "      <td>04/10/2018</td>\n",
              "      <td>223.50</td>\n",
              "      <td>227.80</td>\n",
              "      <td>216.15</td>\n",
              "      <td>217.25</td>\n",
              "      <td>218.20</td>\n",
              "      <td>1728786.0</td>\n",
              "      <td>3815.79</td>\n",
              "      <td>-2.371364653</td>\n",
              "      <td>negative</td>\n",
              "    </tr>\n",
              "    <tr>\n",
              "      <th>3</th>\n",
              "      <td>03/10/2018</td>\n",
              "      <td>230.00</td>\n",
              "      <td>237.50</td>\n",
              "      <td>225.75</td>\n",
              "      <td>226.45</td>\n",
              "      <td>227.60</td>\n",
              "      <td>1708590.0</td>\n",
              "      <td>3960.27</td>\n",
              "      <td>-1.043478261</td>\n",
              "      <td>negative</td>\n",
              "    </tr>\n",
              "    <tr>\n",
              "      <th>4</th>\n",
              "      <td>01/10/2018</td>\n",
              "      <td>234.55</td>\n",
              "      <td>234.60</td>\n",
              "      <td>221.05</td>\n",
              "      <td>230.30</td>\n",
              "      <td>230.90</td>\n",
              "      <td>1534749.0</td>\n",
              "      <td>NaN</td>\n",
              "      <td>-1.556171392</td>\n",
              "      <td>negative</td>\n",
              "    </tr>\n",
              "  </tbody>\n",
              "</table>\n",
              "</div>\n",
              "      <button class=\"colab-df-convert\" onclick=\"convertToInteractive('df-a65b3b53-7278-4607-9391-250cdee10522')\"\n",
              "              title=\"Convert this dataframe to an interactive table.\"\n",
              "              style=\"display:none;\">\n",
              "        \n",
              "  <svg xmlns=\"http://www.w3.org/2000/svg\" height=\"24px\"viewBox=\"0 0 24 24\"\n",
              "       width=\"24px\">\n",
              "    <path d=\"M0 0h24v24H0V0z\" fill=\"none\"/>\n",
              "    <path d=\"M18.56 5.44l.94 2.06.94-2.06 2.06-.94-2.06-.94-.94-2.06-.94 2.06-2.06.94zm-11 1L8.5 8.5l.94-2.06 2.06-.94-2.06-.94L8.5 2.5l-.94 2.06-2.06.94zm10 10l.94 2.06.94-2.06 2.06-.94-2.06-.94-.94-2.06-.94 2.06-2.06.94z\"/><path d=\"M17.41 7.96l-1.37-1.37c-.4-.4-.92-.59-1.43-.59-.52 0-1.04.2-1.43.59L10.3 9.45l-7.72 7.72c-.78.78-.78 2.05 0 2.83L4 21.41c.39.39.9.59 1.41.59.51 0 1.02-.2 1.41-.59l7.78-7.78 2.81-2.81c.8-.78.8-2.07 0-2.86zM5.41 20L4 18.59l7.72-7.72 1.47 1.35L5.41 20z\"/>\n",
              "  </svg>\n",
              "      </button>\n",
              "      \n",
              "  <style>\n",
              "    .colab-df-container {\n",
              "      display:flex;\n",
              "      flex-wrap:wrap;\n",
              "      gap: 12px;\n",
              "    }\n",
              "\n",
              "    .colab-df-convert {\n",
              "      background-color: #E8F0FE;\n",
              "      border: none;\n",
              "      border-radius: 50%;\n",
              "      cursor: pointer;\n",
              "      display: none;\n",
              "      fill: #1967D2;\n",
              "      height: 32px;\n",
              "      padding: 0 0 0 0;\n",
              "      width: 32px;\n",
              "    }\n",
              "\n",
              "    .colab-df-convert:hover {\n",
              "      background-color: #E2EBFA;\n",
              "      box-shadow: 0px 1px 2px rgba(60, 64, 67, 0.3), 0px 1px 3px 1px rgba(60, 64, 67, 0.15);\n",
              "      fill: #174EA6;\n",
              "    }\n",
              "\n",
              "    [theme=dark] .colab-df-convert {\n",
              "      background-color: #3B4455;\n",
              "      fill: #D2E3FC;\n",
              "    }\n",
              "\n",
              "    [theme=dark] .colab-df-convert:hover {\n",
              "      background-color: #434B5C;\n",
              "      box-shadow: 0px 1px 3px 1px rgba(0, 0, 0, 0.15);\n",
              "      filter: drop-shadow(0px 1px 2px rgba(0, 0, 0, 0.3));\n",
              "      fill: #FFFFFF;\n",
              "    }\n",
              "  </style>\n",
              "\n",
              "      <script>\n",
              "        const buttonEl =\n",
              "          document.querySelector('#df-a65b3b53-7278-4607-9391-250cdee10522 button.colab-df-convert');\n",
              "        buttonEl.style.display =\n",
              "          google.colab.kernel.accessAllowed ? 'block' : 'none';\n",
              "\n",
              "        async function convertToInteractive(key) {\n",
              "          const element = document.querySelector('#df-a65b3b53-7278-4607-9391-250cdee10522');\n",
              "          const dataTable =\n",
              "            await google.colab.kernel.invokeFunction('convertToInteractive',\n",
              "                                                     [key], {});\n",
              "          if (!dataTable) return;\n",
              "\n",
              "          const docLinkHtml = 'Like what you see? Visit the ' +\n",
              "            '<a target=\"_blank\" href=https://colab.research.google.com/notebooks/data_table.ipynb>data table notebook</a>'\n",
              "            + ' to learn more about interactive tables.';\n",
              "          element.innerHTML = '';\n",
              "          dataTable['output_type'] = 'display_data';\n",
              "          await google.colab.output.renderOutput(dataTable, element);\n",
              "          const docLink = document.createElement('div');\n",
              "          docLink.innerHTML = docLinkHtml;\n",
              "          element.appendChild(docLink);\n",
              "        }\n",
              "      </script>\n",
              "    </div>\n",
              "  </div>\n",
              "  "
            ]
          },
          "metadata": {},
          "execution_count": 312
        }
      ],
      "source": [
        "data.head()"
      ]
    },
    {
      "cell_type": "code",
      "execution_count": 313,
      "id": "756b87b7",
      "metadata": {
        "id": "756b87b7"
      },
      "outputs": [],
      "source": [
        "# fillna()---handle the missing values (option-1)\n",
        "mean_Close=data['Close'].mean()\n",
        "data['Close'].fillna(mean_Close, inplace=True)\n",
        "mean_Close=data['Close'].mean()\n",
        "data['Close'].fillna(mean_Close, inplace=True)"
      ]
    },
    {
      "cell_type": "code",
      "execution_count": 314,
      "id": "51739d1d",
      "metadata": {
        "id": "51739d1d"
      },
      "outputs": [],
      "source": [
        "mean_Open=data['Open'].mean()\n",
        "data['Open'].fillna(mean_Open, inplace=True)\n",
        "mean_Open=data['Open'].mean()\n",
        "data['Open'].fillna(mean_Open, inplace=True)"
      ]
    },
    {
      "cell_type": "code",
      "execution_count": 315,
      "id": "47b2d998",
      "metadata": {
        "id": "47b2d998"
      },
      "outputs": [],
      "source": [
        "# Date                                  0\n",
        "# # Open                                 12\n",
        "# High                                  5\n",
        "## Low                                   1\n",
        "# Last                                  3\n",
        "# #Close                                 1\n",
        "# Total Trade Quantity                  2\n",
        "# Turnover (Lacs)                       3"
      ]
    },
    {
      "cell_type": "code",
      "execution_count": 316,
      "id": "03f184cd",
      "metadata": {
        "id": "03f184cd"
      },
      "outputs": [],
      "source": [
        "mean_High=data['High'].mean()\n",
        "data['High'].fillna(mean_High, inplace=True)\n",
        "mean_High=data['High'].mean()\n",
        "data['High'].fillna(mean_High, inplace=True)"
      ]
    },
    {
      "cell_type": "code",
      "execution_count": 317,
      "id": "974187b3",
      "metadata": {
        "id": "974187b3"
      },
      "outputs": [],
      "source": [
        "mean_Low=data['Low'].mean()\n",
        "data['Low'].fillna(mean_High, inplace=True)\n",
        "mean_High=data['High'].mean()\n",
        "data['High'].fillna(mean_High, inplace=True)"
      ]
    },
    {
      "cell_type": "code",
      "execution_count": 318,
      "id": "b1bbdb01",
      "metadata": {
        "id": "b1bbdb01"
      },
      "outputs": [],
      "source": [
        "mean_Total_Trade_Quantity=data['Total Trade Quantity'].mean()\n",
        "data['Total Trade Quantity'].fillna(mean_Total_Trade_Quantity, inplace=True)\n",
        "mean_Total_Trade_Quantity=data['Total Trade Quantity'].mean()\n",
        "data['Total Trade Quantity'].fillna(mean_Total_Trade_Quantity, inplace=True)"
      ]
    },
    {
      "cell_type": "code",
      "execution_count": 319,
      "id": "e7e8e222",
      "metadata": {
        "id": "e7e8e222"
      },
      "outputs": [],
      "source": [
        "mean_Turnover=data['Turnover'].mean()\n",
        "data['Turnover'].fillna(mean_Turnover,inplace=True)\n",
        "mean_Turnover=data['Turnover'].mean()\n",
        "data['Turnover'].fillna(mean_Turnover,inplace=True)"
      ]
    },
    {
      "cell_type": "code",
      "execution_count": 320,
      "id": "baebbd7b",
      "metadata": {
        "id": "baebbd7b"
      },
      "outputs": [],
      "source": [
        "mean_Last=data['Last'].mean()\n",
        "data['Last'].fillna(mean_Last,inplace=True)\n",
        "mean_Last=data['Last'].mean()\n",
        "data['Last'].fillna(mean_Last,inplace=True)"
      ]
    },
    {
      "cell_type": "code",
      "execution_count": 321,
      "id": "9d04f60f",
      "metadata": {
        "colab": {
          "base_uri": "https://localhost:8080/"
        },
        "id": "9d04f60f",
        "outputId": "5cab6a95-af01-4185-9dd2-a4be3747d9ea"
      },
      "outputs": [
        {
          "output_type": "execute_result",
          "data": {
            "text/plain": [
              "Date                                 0\n",
              "Open                                 0\n",
              "High                                 0\n",
              "Low                                  0\n",
              "Last                                 0\n",
              "Close                                0\n",
              "Total Trade Quantity                 0\n",
              "Turnover                             0\n",
              "stock_price_change_in _percentage    0\n",
              "trend                                0\n",
              "dtype: int64"
            ]
          },
          "metadata": {},
          "execution_count": 321
        }
      ],
      "source": [
        "data.isnull().sum()"
      ]
    },
    {
      "cell_type": "code",
      "execution_count": 321,
      "id": "3b157d5a",
      "metadata": {
        "id": "3b157d5a"
      },
      "outputs": [],
      "source": [
        ""
      ]
    },
    {
      "cell_type": "code",
      "execution_count": 322,
      "id": "718e809f",
      "metadata": {
        "colab": {
          "base_uri": "https://localhost:8080/"
        },
        "id": "718e809f",
        "outputId": "c703a532-bca9-4df2-b651-ad5ee2ae19bf"
      },
      "outputs": [
        {
          "output_type": "stream",
          "name": "stdout",
          "text": [
            "R2_Score----> 99.98956633448769\n",
            "MSE is---> 0.29260099042432247\n",
            "MAE is---> 0.5097455826258013\n",
            "RMSE is---> 0.5409260489422953\n"
          ]
        }
      ],
      "source": [
        "# Extraction of Indep and Dep variable \n",
        "x = data.iloc[:,1:2].values ## indep var\n",
        "y = data.iloc[:,5:6].values  #dep|\n",
        "# Now we have to split data in training and testing\n",
        "from sklearn.model_selection import train_test_split\n",
        "x_train,x_test,y_train,y_test = train_test_split(x,y,test_size = 0.1,random_state = 0)\n",
        "# model creation --SLR\n",
        "from sklearn.linear_model import LinearRegression\n",
        "LR_model=LinearRegression() # model creation\n",
        "LR_model.fit(x_train, y_train) # model fitting --training dataset\n",
        "# prediction ----Test dataset\n",
        "y_pred=LR_model.predict(y_test)\n",
        "# Evaluate the perfromance \n",
        "# metrics:-r2_score, mse, rmse, mae\n",
        "import math\n",
        "from sklearn.metrics import r2_score\n",
        "from sklearn.metrics import mean_squared_error\n",
        "from sklearn.metrics import mean_absolute_error\n",
        "print('R2_Score---->', r2_score(y_test, y_pred)*100)\n",
        "print('MSE is--->',mean_squared_error(y_test, y_pred))\n",
        "print('MAE is--->',mean_absolute_error(y_test, y_pred))\n",
        "print('RMSE is--->',math.sqrt(mean_squared_error(y_test, y_pred)))\n",
        "\n",
        "\n"
      ]
    },
    {
      "cell_type": "code",
      "execution_count": 323,
      "id": "4bc9c2c0",
      "metadata": {
        "colab": {
          "base_uri": "https://localhost:8080/"
        },
        "id": "4bc9c2c0",
        "outputId": "cfae9a2b-2bd8-40ab-8b4c-18180a7fabf3"
      },
      "outputs": [
        {
          "output_type": "stream",
          "name": "stdout",
          "text": [
            "enter open_price-->123\n",
            "closing price is [[123.66205009]]\n"
          ]
        }
      ],
      "source": [
        "close_price=float(input('enter open_price-->'))\n",
        "print('closing price is', LR_model.predict([[close_price]]))"
      ]
    },
    {
      "cell_type": "code",
      "execution_count": 324,
      "id": "d93bee31",
      "metadata": {
        "colab": {
          "base_uri": "https://localhost:8080/"
        },
        "id": "d93bee31",
        "outputId": "4b6ad6cc-e744-4acf-fb99-08bdf330ec07"
      },
      "outputs": [
        {
          "output_type": "stream",
          "name": "stdout",
          "text": [
            "R2_Score----> 99.81656752501006\n",
            "MSE is---> 4.265415741906542\n",
            "MAE is---> 1.373566184293283\n",
            "RMSE is---> 2.0652882951071363\n"
          ]
        }
      ],
      "source": [
        "#predicting closing price with high price\n",
        "# Extraction of indep and dep var\n",
        "X=data.iloc[:, 2:3].values\n",
        "Y=data.iloc[:, 5:6].values\n",
        "# splitting the dataset\n",
        "from sklearn.model_selection import train_test_split\n",
        "X_train, X_test, Y_train, Y_test = train_test_split(X, Y, test_size=0.2, random_state=0)\n",
        "# model creation --SLR\n",
        "from sklearn.linear_model import LinearRegression\n",
        "LR_model=LinearRegression() # model creation\n",
        "LR_model.fit(X_train, Y_train) # model fitting --training dataset\n",
        "# prediction ----Test dataset\n",
        "Y_pred=LR_model.predict(X_test)\n",
        "# Evaluate the perfromance \n",
        "# metrics:-r2_score, mse, rmse, mae\n",
        "import math\n",
        "from sklearn.metrics import r2_score\n",
        "from sklearn.metrics import mean_squared_error\n",
        "from sklearn.metrics import mean_absolute_error\n",
        "print('R2_Score---->', r2_score(Y_test, Y_pred)*100)\n",
        "print('MSE is--->',mean_squared_error(Y_test, Y_pred))\n",
        "print('MAE is--->',mean_absolute_error(Y_test, Y_pred))\n",
        "print('RMSE is--->',math.sqrt(mean_squared_error(Y_test, Y_pred)))\n"
      ]
    },
    {
      "cell_type": "code",
      "execution_count": 325,
      "id": "6586b500",
      "metadata": {
        "colab": {
          "base_uri": "https://localhost:8080/"
        },
        "id": "6586b500",
        "outputId": "f775dff3-70a6-4f7a-b31d-e451cc213589"
      },
      "outputs": [
        {
          "output_type": "stream",
          "name": "stdout",
          "text": [
            "enter high price>134\n",
            "The salary for Year of Exp--> [[132.46169965]]\n"
          ]
        }
      ],
      "source": [
        "Close_price=float(input('enter high price>'))\n",
        "print('The salary for Year of Exp-->', LR_model.predict([[Close_price]]))"
      ]
    },
    {
      "cell_type": "code",
      "execution_count": 326,
      "id": "3ab09742",
      "metadata": {
        "colab": {
          "base_uri": "https://localhost:8080/"
        },
        "id": "3ab09742",
        "outputId": "102e54a8-7e53-473b-dc6a-1adcbf1725c8"
      },
      "outputs": [
        {
          "output_type": "stream",
          "name": "stdout",
          "text": [
            "R2_Score----> 99.8046547407898\n",
            "MSE is---> 4.542427636042642\n",
            "MAE is---> 1.384939244910529\n",
            "RMSE is---> 2.131297172156582\n"
          ]
        }
      ],
      "source": [
        "#predicted \n",
        "# Extraction of indep and dep var\n",
        "X=data.iloc[:, 3:4].values\n",
        "Y=data.iloc[:, 5:6].values\n",
        "# splitting the dataset\n",
        "from sklearn.model_selection import train_test_split\n",
        "X_train, X_test, Y_train, Y_test = train_test_split(X, Y, test_size=0.2, random_state=0)\n",
        "# model creation --SLR\n",
        "from sklearn.linear_model import LinearRegression\n",
        "LR_model=LinearRegression() # model creation\n",
        "LR_model.fit(X_train, Y_train) # model fitting --training dataset\n",
        "# prediction ----Test dataset\n",
        "Y_pred=LR_model.predict(X_test)\n",
        "print('R2_Score---->', r2_score(Y_test, Y_pred)*100)\n",
        "print('MSE is--->',mean_squared_error(Y_test, Y_pred))\n",
        "print('MAE is--->',mean_absolute_error(Y_test, Y_pred))\n",
        "print('RMSE is--->',math.sqrt(mean_squared_error(Y_test, Y_pred)))"
      ]
    },
    {
      "cell_type": "code",
      "execution_count": 327,
      "id": "e926c1ef",
      "metadata": {
        "colab": {
          "base_uri": "https://localhost:8080/"
        },
        "id": "e926c1ef",
        "outputId": "d9539831-278c-4f7b-a399-967d65988af5"
      },
      "outputs": [
        {
          "output_type": "stream",
          "name": "stdout",
          "text": [
            "enter a low price-->145\n",
            "The closing price is  [[146.95542471]]\n"
          ]
        }
      ],
      "source": [
        "Close_price=float(input('enter a low price-->'))\n",
        "print('The closing price is ', LR_model.predict([[Close_price]]))"
      ]
    },
    {
      "cell_type": "markdown",
      "source": [
        ""
      ],
      "metadata": {
        "id": "e99eeb0d"
      },
      "id": "e99eeb0d"
    },
    {
      "cell_type": "code",
      "execution_count": 328,
      "id": "7d076008",
      "metadata": {
        "colab": {
          "base_uri": "https://localhost:8080/"
        },
        "id": "7d076008",
        "outputId": "431c21bd-3248-445f-d16b-683ea3493352"
      },
      "outputs": [
        {
          "output_type": "stream",
          "name": "stdout",
          "text": [
            "R2_Score----> 99.47769182367398\n",
            "MSE is---> 12.145404010656975\n",
            "MAE is---> 0.5474338240783954\n",
            "RMSE is---> 3.4850256829264508\n"
          ]
        }
      ],
      "source": [
        "#predicting closing price with last price\n",
        "# Extraction of indep and dep var\n",
        "X=data.iloc[:, 4:5].values\n",
        "Y=data.iloc[:, 5:6].values\n",
        "# splitting the dataset\n",
        "from sklearn.model_selection import train_test_split\n",
        "X_train, X_test, Y_train, Y_test = train_test_split(X, Y, test_size=0.2, random_state=0)\n",
        "# model creation --SLR\n",
        "from sklearn.linear_model import LinearRegression\n",
        "LR_model=LinearRegression() # model creation\n",
        "LR_model.fit(X_train, Y_train) # model fitting --training dataset\n",
        "# prediction ----Test dataset\n",
        "Y_pred=LR_model.predict(X_test)\n",
        "print('R2_Score---->', r2_score(Y_test, Y_pred)*100)\n",
        "print('MSE is--->',mean_squared_error(Y_test, Y_pred))\n",
        "print('MAE is--->',mean_absolute_error(Y_test, Y_pred))\n",
        "print('RMSE is--->',math.sqrt(mean_squared_error(Y_test, Y_pred)))"
      ]
    },
    {
      "cell_type": "code",
      "execution_count": 329,
      "id": "a0528381",
      "metadata": {
        "colab": {
          "base_uri": "https://localhost:8080/"
        },
        "id": "a0528381",
        "outputId": "dd25141a-1955-4982-e299-53b9173b60a5"
      },
      "outputs": [
        {
          "output_type": "stream",
          "name": "stdout",
          "text": [
            "low price -->123\n",
            "Close_price--> [[123.20215914]]\n"
          ]
        }
      ],
      "source": [
        "Close_price=float(input('low price -->'))\n",
        "print('Close_price-->', LR_model.predict([[Close_price]]))"
      ]
    },
    {
      "cell_type": "code",
      "execution_count": 330,
      "id": "64d856fa",
      "metadata": {
        "colab": {
          "base_uri": "https://localhost:8080/"
        },
        "id": "64d856fa",
        "outputId": "21d71856-0497-4b69-b569-1941f2d22d22"
      },
      "outputs": [
        {
          "output_type": "stream",
          "name": "stdout",
          "text": [
            "R2_Score----> 0.7990974847548848\n",
            "MSE is---> 2306.751251233312\n",
            "MAE is---> 34.2427067260846\n",
            "RMSE is---> 48.02865031659032\n"
          ]
        }
      ],
      "source": [
        "#predicting close price with the total traded quantity\n",
        "# Extraction of indep and dep var\n",
        "X=data.iloc[:, 6:7].values\n",
        "Y=data.iloc[:, 5:6].values\n",
        "# splitting the dataset\n",
        "from sklearn.model_selection import train_test_split\n",
        "X_train, X_test, Y_train, Y_test = train_test_split(X, Y, test_size=0.2, random_state=0)\n",
        "# model creation --SLR\n",
        "from sklearn.linear_model import LinearRegression\n",
        "LR_model=LinearRegression() # model creation\n",
        "LR_model.fit(X_train, Y_train) # model fitting --training dataset\n",
        "# prediction ----Test dataset\n",
        "Y_pred=LR_model.predict(X_test)\n",
        "print('R2_Score---->', r2_score(Y_test, Y_pred)*100)\n",
        "print('MSE is--->',mean_squared_error(Y_test, Y_pred))\n",
        "print('MAE is--->',mean_absolute_error(Y_test, Y_pred))\n",
        "print('RMSE is--->',math.sqrt(mean_squared_error(Y_test, Y_pred)))"
      ]
    },
    {
      "cell_type": "code",
      "execution_count": 331,
      "id": "aa63ad96",
      "metadata": {
        "colab": {
          "base_uri": "https://localhost:8080/"
        },
        "id": "aa63ad96",
        "outputId": "9ca7796d-72e5-40d1-f4ba-fcf846cd7b06"
      },
      "outputs": [
        {
          "output_type": "stream",
          "name": "stdout",
          "text": [
            "total traded quantity-->123\n",
            "clsoe price--> [[144.06445878]]\n"
          ]
        }
      ],
      "source": [
        "close_price=float(input('total traded quantity-->'))\n",
        "print('clsoe price-->', LR_model.predict([[close_price]]))"
      ]
    },
    {
      "cell_type": "code",
      "execution_count": 332,
      "id": "b28095bb",
      "metadata": {
        "id": "b28095bb"
      },
      "outputs": [],
      "source": [
        "#USING MLR TO PREDICT CLOSING PRICE USING DIFFERENT COMBINATIONS"
      ]
    },
    {
      "cell_type": "code",
      "execution_count": null,
      "id": "5ec66f45",
      "metadata": {
        "id": "5ec66f45"
      },
      "outputs": [],
      "source": [
        "# Extraction of Indep and Dep\n",
        "X= data.iloc[: , [1,2]].values\n",
        "Y=data.iloc[:, 5:6].values\n"
      ]
    },
    {
      "cell_type": "code",
      "execution_count": null,
      "id": "88866aa0",
      "metadata": {
        "id": "88866aa0"
      },
      "outputs": [],
      "source": [
        "from sklearn.model_selection import train_test_split\n",
        "X_train, X_test, Y_train, Y_test=train_test_split(X,Y, test_size=0.2, random_state=0)\n"
      ]
    },
    {
      "cell_type": "code",
      "execution_count": 22,
      "id": "e3984e1d",
      "metadata": {
        "colab": {
          "base_uri": "https://localhost:8080/",
          "height": 200
        },
        "id": "e3984e1d",
        "outputId": "d82ba352-19b1-4cc1-dcda-b5ffb8fc5b6b"
      },
      "outputs": [
        {
          "output_type": "error",
          "ename": "NameError",
          "evalue": "ignored",
          "traceback": [
            "\u001b[0;31m---------------------------------------------------------------------------\u001b[0m",
            "\u001b[0;31mNameError\u001b[0m                                 Traceback (most recent call last)",
            "\u001b[0;32m<ipython-input-22-695797f4e566>\u001b[0m in \u001b[0;36m<module>\u001b[0;34m()\u001b[0m\n\u001b[1;32m      2\u001b[0m \u001b[0;32mfrom\u001b[0m \u001b[0msklearn\u001b[0m\u001b[0;34m.\u001b[0m\u001b[0mlinear_model\u001b[0m \u001b[0;32mimport\u001b[0m \u001b[0mLinearRegression\u001b[0m\u001b[0;34m\u001b[0m\u001b[0;34m\u001b[0m\u001b[0m\n\u001b[1;32m      3\u001b[0m \u001b[0mMLR\u001b[0m\u001b[0;34m=\u001b[0m\u001b[0mLinearRegression\u001b[0m\u001b[0;34m(\u001b[0m\u001b[0;34m)\u001b[0m\u001b[0;34m\u001b[0m\u001b[0;34m\u001b[0m\u001b[0m\n\u001b[0;32m----> 4\u001b[0;31m \u001b[0mMLR\u001b[0m\u001b[0;34m.\u001b[0m\u001b[0mfit\u001b[0m\u001b[0;34m(\u001b[0m\u001b[0mX_train\u001b[0m\u001b[0;34m,\u001b[0m \u001b[0mY_train\u001b[0m\u001b[0;34m)\u001b[0m \u001b[0;31m# fit the dataset\u001b[0m\u001b[0;34m\u001b[0m\u001b[0;34m\u001b[0m\u001b[0m\n\u001b[0m",
            "\u001b[0;31mNameError\u001b[0m: name 'X_train' is not defined"
          ]
        }
      ],
      "source": [
        "# Model creation ---MLR\n",
        "from sklearn.linear_model import LinearRegression\n",
        "MLR=LinearRegression()\n",
        "MLR.fit(X_train, Y_train) # fit the dataset"
      ]
    },
    {
      "cell_type": "code",
      "execution_count": null,
      "id": "38485945",
      "metadata": {
        "id": "38485945"
      },
      "outputs": [],
      "source": [
        "# prediction ----Test dataset\n",
        "Y_pred=LR_model.predict(X_test)\n",
        "\n"
      ]
    },
    {
      "cell_type": "code",
      "execution_count": null,
      "id": "3a3b7f78",
      "metadata": {
        "id": "3a3b7f78"
      },
      "outputs": [],
      "source": [
        "import math\n",
        "from sklearn.metrics import r2_score\n",
        "from sklearn.metrics import mean_squared_error\n",
        "from sklearn.metrics import mean_absolute_error\n",
        "print('R2_Score---->', r2_score(Y_test, Y_pred)*100)\n",
        "print('MSE is--->',mean_squared_error(Y_test, Y_pred))\n",
        "print('MAE is--->',mean_absolute_error(Y_test, Y_pred))\n",
        "print('RMSE is--->',math.sqrt(mean_squared_error(Y_test, Y_pred)))"
      ]
    },
    {
      "cell_type": "code",
      "execution_count": null,
      "id": "9e171b6c",
      "metadata": {
        "id": "9e171b6c"
      },
      "outputs": [],
      "source": [
        ""
      ]
    },
    {
      "cell_type": "code",
      "execution_count": 23,
      "id": "711ea515",
      "metadata": {
        "colab": {
          "base_uri": "https://localhost:8080/"
        },
        "id": "711ea515",
        "outputId": "1352943d-cdad-4d71-9eb2-78dd88ed62ae"
      },
      "outputs": [
        {
          "output_type": "stream",
          "name": "stdout",
          "text": [
            "R2_Score----> 99.80164107588364\n",
            "MSE is---> 4.612505378450527\n",
            "MAE is---> 1.4016534254608928\n",
            "RMSE is---> 2.1476744116486857\n"
          ]
        }
      ],
      "source": [
        "# predicting close prices with opening abd low price\n",
        "# Extraction of Indep and Dep\n",
        "X= data.iloc[: , [1,3]].values\n",
        "Y=data.iloc[:, 5:6].values\n",
        "# Splitting the dataset into train and test\n",
        "from sklearn.model_selection import train_test_split\n",
        "X_train, X_test, Y_train, Y_test=train_test_split(X,Y, test_size=0.2, random_state=0)\n",
        "# Model creation ---MLR\n",
        "from sklearn.linear_model import LinearRegression\n",
        "MLR=LinearRegression()\n",
        "MLR.fit(X_train, Y_train) # fit the dataset\n",
        "# prediction ----Test dataset\n",
        "Y_pred=MLR.predict(X_test)\n",
        "print('R2_Score---->', r2_score(Y_test, Y_pred)*100)\n",
        "print('MSE is--->',mean_squared_error(Y_test, Y_pred))\n",
        "print('MAE is--->',mean_absolute_error(Y_test, Y_pred))\n",
        "print('RMSE is--->',math.sqrt(mean_squared_error(Y_test, Y_pred)))\n"
      ]
    },
    {
      "cell_type": "code",
      "execution_count": 24,
      "id": "bc549c21",
      "metadata": {
        "colab": {
          "base_uri": "https://localhost:8080/"
        },
        "id": "bc549c21",
        "outputId": "1dd7a18b-5d75-4c63-9cdc-0fc2dab6a118"
      },
      "outputs": [
        {
          "output_type": "stream",
          "name": "stdout",
          "text": [
            "R2_Score----> 99.55878871182419\n",
            "MSE is---> 10.259631366775016\n",
            "MAE is---> 0.599744500180032\n",
            "RMSE is---> 3.2030659323178186\n"
          ]
        }
      ],
      "source": [
        "# predicting close prices with opening and last price\n",
        "# Extraction of Indep and Dep\n",
        "X= data.iloc[: , [1,4]].values\n",
        "Y=data.iloc[:, 5:6].values\n",
        "# Splitting the dataset into train and test\n",
        "from sklearn.model_selection import train_test_split\n",
        "X_train, X_test, Y_train, Y_test=train_test_split(X,Y, test_size=0.2, random_state=0)\n",
        "# Model creation ---MLR\n",
        "from sklearn.linear_model import LinearRegression\n",
        "MLR=LinearRegression()\n",
        "MLR.fit(X_train, Y_train) # fit the dataset\n",
        "# Predection ---perfromed on test dataset\n",
        "Y_pred=MLR.predict(X_test)\n",
        "print('R2_Score---->', r2_score(Y_test, Y_pred)*100)\n",
        "print('MSE is--->',mean_squared_error(Y_test, Y_pred))\n",
        "print('MAE is--->',mean_absolute_error(Y_test, Y_pred))\n",
        "print('RMSE is--->',math.sqrt(mean_squared_error(Y_test, Y_pred)))\n"
      ]
    },
    {
      "cell_type": "code",
      "execution_count": 25,
      "id": "9a6356f6",
      "metadata": {
        "colab": {
          "base_uri": "https://localhost:8080/"
        },
        "id": "9a6356f6",
        "outputId": "6701c075-1342-4f5d-a8c4-a843b7bb1718"
      },
      "outputs": [
        {
          "output_type": "stream",
          "name": "stdout",
          "text": [
            "R2_Score----> 99.62590997086757\n",
            "MSE is---> 8.698838628434126\n",
            "MAE is---> 1.6658157749878937\n",
            "RMSE is---> 2.949379363261723\n"
          ]
        }
      ],
      "source": [
        "# predicting close prices with opening and last price\n",
        "# Extraction of Indep and Dep\n",
        "X= data.iloc[: , [1,2]].values\n",
        "Y=data.iloc[:, 5:6].values\n",
        "# Splitting the dataset into train and test\n",
        "from sklearn.model_selection import train_test_split\n",
        "X_train, X_test, Y_train, Y_test=train_test_split(X,Y, test_size=0.2, random_state=0)\n",
        "# Model creation ---MLR\n",
        "from sklearn.linear_model import LinearRegression\n",
        "MLR=LinearRegression()\n",
        "MLR.fit(X_train, Y_train) # fit the dataset\n",
        "# Predection ---perfromed on test dataset\n",
        "Y_pred=MLR.predict(X_test)\n",
        "print('R2_Score---->', r2_score(Y_test, Y_pred)*100)\n",
        "print('MSE is--->',mean_squared_error(Y_test, Y_pred))\n",
        "print('MAE is--->',mean_absolute_error(Y_test, Y_pred))\n",
        "print('RMSE is--->',math.sqrt(mean_squared_error(Y_test, Y_pred)))\n",
        "\n",
        "\n"
      ]
    },
    {
      "cell_type": "code",
      "execution_count": 26,
      "id": "e206cf43",
      "metadata": {
        "id": "e206cf43",
        "outputId": "664eec77-5aed-4325-9022-3ff52f84fb00",
        "colab": {
          "base_uri": "https://localhost:8080/"
        }
      },
      "outputs": [
        {
          "output_type": "execute_result",
          "data": {
            "text/plain": [
              "array([[152.94736804],\n",
              "       [221.63519982],\n",
              "       [155.57386834],\n",
              "       [132.45048509],\n",
              "       [315.42004685],\n",
              "       [122.38348326],\n",
              "       [165.36298925],\n",
              "       [127.56140006],\n",
              "       [142.25414944],\n",
              "       [159.150947  ],\n",
              "       [173.86091706],\n",
              "       [120.05372553],\n",
              "       [121.10172097],\n",
              "       [158.46522615],\n",
              "       [233.57769095],\n",
              "       [123.46104933],\n",
              "       [244.07474506],\n",
              "       [302.36506453],\n",
              "       [156.08983432],\n",
              "       [159.1841102 ],\n",
              "       [263.38101298],\n",
              "       [137.49137867],\n",
              "       [141.74225979],\n",
              "       [141.79336932],\n",
              "       [174.77304647],\n",
              "       [125.19963635],\n",
              "       [153.00778746],\n",
              "       [132.36852679],\n",
              "       [117.9793945 ],\n",
              "       [107.98096475],\n",
              "       [141.68475951],\n",
              "       [151.97877461],\n",
              "       [106.99466688],\n",
              "       [256.06414845],\n",
              "       [154.25602372],\n",
              "       [147.09224589],\n",
              "       [134.04541624],\n",
              "       [274.79883295],\n",
              "       [125.64283297],\n",
              "       [132.04604804],\n",
              "       [151.62252796],\n",
              "       [122.64949799],\n",
              "       [240.29139764],\n",
              "       [144.51393599],\n",
              "       [123.86396634],\n",
              "       [152.91372108],\n",
              "       [148.29344896],\n",
              "       [167.86469533],\n",
              "       [278.19356491],\n",
              "       [119.85896014],\n",
              "       [239.61674859],\n",
              "       [138.22133452],\n",
              "       [159.82091501],\n",
              "       [120.25268821],\n",
              "       [158.24752276],\n",
              "       [136.39123743],\n",
              "       [155.32683621],\n",
              "       [156.65806705],\n",
              "       [139.14533013],\n",
              "       [124.26572615],\n",
              "       [140.10729092],\n",
              "       [117.42047166],\n",
              "       [272.38304058],\n",
              "       [142.8857207 ],\n",
              "       [141.93994432],\n",
              "       [139.83044628],\n",
              "       [155.6089144 ],\n",
              "       [230.3593465 ],\n",
              "       [154.74497538],\n",
              "       [146.77384348],\n",
              "       [161.04889053],\n",
              "       [142.06382321],\n",
              "       [138.78792627],\n",
              "       [118.65915616],\n",
              "       [119.12401262],\n",
              "       [241.09211906],\n",
              "       [106.30967167],\n",
              "       [167.46013734],\n",
              "       [148.35782377],\n",
              "       [155.30517637],\n",
              "       [158.01271964],\n",
              "       [310.81827356],\n",
              "       [173.64424994],\n",
              "       [169.44879656],\n",
              "       [113.70441817],\n",
              "       [147.02391568],\n",
              "       [168.35900148],\n",
              "       [136.14943885],\n",
              "       [158.86011143],\n",
              "       [154.35800089],\n",
              "       [287.03331687],\n",
              "       [117.66099209],\n",
              "       [275.08578186],\n",
              "       [151.19819299],\n",
              "       [120.15862183],\n",
              "       [154.85790341],\n",
              "       [170.29898653],\n",
              "       [305.51684069],\n",
              "       [155.13334896],\n",
              "       [158.67757504],\n",
              "       [158.508183  ],\n",
              "       [119.60773073],\n",
              "       [156.49287228],\n",
              "       [273.05337141],\n",
              "       [118.8526434 ],\n",
              "       [154.55288723],\n",
              "       [126.4974621 ],\n",
              "       [154.7583616 ],\n",
              "       [297.01228025],\n",
              "       [277.35408391],\n",
              "       [133.52665207],\n",
              "       [207.83583915],\n",
              "       [121.67950546],\n",
              "       [252.10641731],\n",
              "       [161.35786211],\n",
              "       [287.05808551],\n",
              "       [125.52059505],\n",
              "       [151.83347777],\n",
              "       [133.42583211],\n",
              "       [207.27411812],\n",
              "       [162.03226928],\n",
              "       [233.83171855],\n",
              "       [158.11993036],\n",
              "       [143.76444504],\n",
              "       [127.0347251 ],\n",
              "       [139.2558228 ],\n",
              "       [209.19000798],\n",
              "       [149.43526889],\n",
              "       [125.54876659],\n",
              "       [122.84833972],\n",
              "       [148.68297975],\n",
              "       [150.82448378],\n",
              "       [137.17029902],\n",
              "       [127.60983235],\n",
              "       [153.0079084 ],\n",
              "       [152.23128217],\n",
              "       [128.49658841],\n",
              "       [146.74159561],\n",
              "       [209.88315586],\n",
              "       [296.5284412 ],\n",
              "       [147.89564455],\n",
              "       [151.65641681],\n",
              "       [153.62037612],\n",
              "       [267.29383566],\n",
              "       [169.87732881],\n",
              "       [123.54964028],\n",
              "       [150.96838154],\n",
              "       [130.54402607],\n",
              "       [131.19293894],\n",
              "       [194.83184541],\n",
              "       [105.15677993],\n",
              "       [159.96469182],\n",
              "       [117.80197072],\n",
              "       [147.957584  ],\n",
              "       [160.28717056],\n",
              "       [151.93837406],\n",
              "       [153.24958604],\n",
              "       [132.12289375],\n",
              "       [152.26760639],\n",
              "       [154.59584408],\n",
              "       [124.43092091],\n",
              "       [201.43182968],\n",
              "       [139.44626997],\n",
              "       [144.04384598],\n",
              "       [143.22146472],\n",
              "       [153.67160659],\n",
              "       [157.0585487 ],\n",
              "       [190.29145906],\n",
              "       [235.55412116],\n",
              "       [117.18147126],\n",
              "       [144.49275992],\n",
              "       [152.40870595],\n",
              "       [145.01383851],\n",
              "       [142.57127369],\n",
              "       [226.74071008],\n",
              "       [287.45449083],\n",
              "       [118.97895765],\n",
              "       [124.05745359],\n",
              "       [133.39650336],\n",
              "       [149.78324193],\n",
              "       [122.15263554],\n",
              "       [169.04180321],\n",
              "       [156.36923527],\n",
              "       [140.59496443],\n",
              "       [156.33443109],\n",
              "       [117.79393899],\n",
              "       [245.59842688],\n",
              "       [146.76569081],\n",
              "       [160.71698096],\n",
              "       [141.85123243],\n",
              "       [149.62759893],\n",
              "       [139.98773025],\n",
              "       [155.66118113],\n",
              "       [143.32112747],\n",
              "       [144.73839296],\n",
              "       [144.97623615],\n",
              "       [169.90398031],\n",
              "       [245.67910704],\n",
              "       [138.36219221],\n",
              "       [124.52906363],\n",
              "       [145.97859749],\n",
              "       [160.8486497 ],\n",
              "       [154.4269358 ],\n",
              "       [143.94430418],\n",
              "       [273.28549728],\n",
              "       [158.80516745],\n",
              "       [234.98473122],\n",
              "       [128.15920342],\n",
              "       [122.91052105],\n",
              "       [146.22027513],\n",
              "       [228.16345099],\n",
              "       [118.11781682],\n",
              "       [137.92003186],\n",
              "       [116.62638288],\n",
              "       [120.80613562],\n",
              "       [118.29116426],\n",
              "       [147.56117868],\n",
              "       [132.09587942],\n",
              "       [205.2843017 ],\n",
              "       [133.14131855],\n",
              "       [133.46087817],\n",
              "       [156.58693866],\n",
              "       [135.41297129],\n",
              "       [152.49461966],\n",
              "       [262.66936627],\n",
              "       [124.16898253],\n",
              "       [163.17828649],\n",
              "       [234.58668493],\n",
              "       [133.77648239],\n",
              "       [277.18341372],\n",
              "       [155.85199113],\n",
              "       [176.41476893],\n",
              "       [133.04433305],\n",
              "       [154.2009588 ],\n",
              "       [217.71754631],\n",
              "       [141.66170058],\n",
              "       [275.52507529],\n",
              "       [133.80605302],\n",
              "       [286.61732425],\n",
              "       [128.99229365],\n",
              "       [151.90204985],\n",
              "       [163.04929499],\n",
              "       [136.85852925],\n",
              "       [134.36777404],\n",
              "       [148.11194885],\n",
              "       [152.51731576],\n",
              "       [142.97291256]])"
            ]
          },
          "metadata": {},
          "execution_count": 26
        }
      ],
      "source": [
        "# Predection ---perfromed on test dataset\n",
        "Y_pred=MLR.predict(X_test)\n",
        "Y_pred\n"
      ]
    },
    {
      "cell_type": "code",
      "execution_count": 27,
      "id": "a4e718c5",
      "metadata": {
        "id": "a4e718c5"
      },
      "outputs": [],
      "source": [
        "# Evaluate the perfromance \n",
        "# metrics:-r2_score, mse, rmse, mae\n",
        "import math\n",
        "from sklearn.metrics import r2_score\n",
        "from sklearn.metrics import mean_squared_error\n",
        "from sklearn.metrics import mean_absolute_error\n"
      ]
    },
    {
      "cell_type": "code",
      "execution_count": 27,
      "id": "80992d49",
      "metadata": {
        "id": "80992d49"
      },
      "outputs": [],
      "source": [
        ""
      ]
    },
    {
      "cell_type": "code",
      "execution_count": 28,
      "id": "4b540323",
      "metadata": {
        "colab": {
          "base_uri": "https://localhost:8080/"
        },
        "id": "4b540323",
        "outputId": "f29ff8f9-d971-4132-e435-dbbdbdf0d585"
      },
      "outputs": [
        {
          "output_type": "stream",
          "name": "stdout",
          "text": [
            "R2_Score----> 98.46231965047583\n",
            "MSE is---> 35.756187497554585\n",
            "MAE is---> 2.677530598971021\n",
            "RMSE is---> 5.979647773703279\n"
          ]
        }
      ],
      "source": [
        "# predicting close prices with opening and last price\n",
        "# Extraction of Indep and Dep\n",
        "X= data.iloc[: , [1,6]].values\n",
        "Y=data.iloc[:, 5:6].values\n",
        "# Splitting the dataset into train and test\n",
        "from sklearn.model_selection import train_test_split\n",
        "X_train, X_test, Y_train, Y_test=train_test_split(X,Y, test_size=0.2, random_state=0)\n",
        "\n",
        "# Model creation ---MLR\n",
        "from sklearn.linear_model import LinearRegression\n",
        "MLR=LinearRegression()\n",
        "MLR.fit(X_train, Y_train) # fit the dataset\n",
        "# Predection ---perfromed on test dataset\n",
        "Y_pred=MLR.predict(X_test)\n",
        "\n",
        "# Evaluate the perfromance \n",
        "# metrics:-r2_score, mse, rmse, mae\n",
        "import math\n",
        "from sklearn.metrics import r2_score\n",
        "from sklearn.metrics import mean_squared_error\n",
        "from sklearn.metrics import mean_absolute_error\n",
        "print('R2_Score---->', r2_score(Y_test, Y_pred)*100)\n",
        "print('MSE is--->',mean_squared_error(Y_test, Y_pred))\n",
        "print('MAE is--->',mean_absolute_error(Y_test, Y_pred))\n",
        "print('RMSE is--->',math.sqrt(mean_squared_error(Y_test, Y_pred)))\n",
        "\n",
        "\n",
        "\n"
      ]
    },
    {
      "cell_type": "code",
      "execution_count": 29,
      "id": "1f262346",
      "metadata": {
        "colab": {
          "base_uri": "https://localhost:8080/"
        },
        "id": "1f262346",
        "outputId": "e5839ce1-2e39-41a1-d817-de1eca1cf90c"
      },
      "outputs": [
        {
          "output_type": "stream",
          "name": "stdout",
          "text": [
            "R2_Score----> 98.46231965047583\n",
            "MSE is---> 35.756187497554585\n",
            "MAE is---> 2.677530598971021\n",
            "RMSE is---> 5.979647773703279\n"
          ]
        }
      ],
      "source": [
        "# predicting close prices with opening and low and high price\n",
        "# Extraction of Indep and Dep\n",
        "X= data.iloc[: , [1,3,2]].values\n",
        "Y=data.iloc[:, 5:6].values\n",
        "# Splitting the dataset into train and test\n",
        "from sklearn.model_selection import train_test_split\n",
        "X_train, X_test, Y_train, Y_test=train_test_split(X,Y, test_size=0.2, random_state=0)\n",
        "# Model creation ---MLR\n",
        "from sklearn.linear_model import LinearRegression\n",
        "MLR=LinearRegression()\n",
        "MLR.fit(X_train, Y_train) # fit the dataset\n",
        "print('R2_Score---->', r2_score(Y_test, Y_pred)*100)\n",
        "print('MSE is--->',mean_squared_error(Y_test, Y_pred))\n",
        "print('MAE is--->',mean_absolute_error(Y_test, Y_pred))\n",
        "print('RMSE is--->',math.sqrt(mean_squared_error(Y_test, Y_pred)))"
      ]
    },
    {
      "cell_type": "code",
      "execution_count": 30,
      "id": "35aa700b",
      "metadata": {
        "colab": {
          "base_uri": "https://localhost:8080/"
        },
        "id": "35aa700b",
        "outputId": "2a7b9347-8954-42f3-e852-fabd5b5b16bc"
      },
      "outputs": [
        {
          "output_type": "stream",
          "name": "stdout",
          "text": [
            "R2_Score----> 99.83444586273629\n",
            "MSE is---> 3.8496848677484916\n",
            "MAE is---> 1.296881001427671\n",
            "RMSE is---> 1.962061382258081\n"
          ]
        }
      ],
      "source": [
        "# predicting close prices with opening and low and high price\n",
        "# Extraction of Indep and Dep\n",
        "X= data.iloc[: , [1,3,2]].values\n",
        "Y=data.iloc[:, 5:6].values\n",
        "# Splitting the dataset into train and test\n",
        "from sklearn.model_selection import train_test_split\n",
        "X_train, X_test, Y_train, Y_test=train_test_split(X,Y, test_size=0.2, random_state=0)\n",
        "# Model creation ---MLR\n",
        "from sklearn.linear_model import LinearRegression\n",
        "MLR=LinearRegression()\n",
        "MLR.fit(X_train, Y_train) # fit the dataset\n",
        "# Model creation ---MLR\n",
        "from sklearn.linear_model import LinearRegression\n",
        "MLR=LinearRegression()\n",
        "MLR.fit(X_train, Y_train) # fit the dataset\n",
        "# Predection ---perfromed on test dataset\n",
        "Y_pred=MLR.predict(X_test)\n",
        "print('R2_Score---->', r2_score(Y_test, Y_pred)*100)\n",
        "print('MSE is--->',mean_squared_error(Y_test, Y_pred))\n",
        "print('MAE is--->',mean_absolute_error(Y_test, Y_pred))\n",
        "print('RMSE is--->',math.sqrt(mean_squared_error(Y_test, Y_pred)))\n",
        "\n"
      ]
    },
    {
      "cell_type": "code",
      "execution_count": 31,
      "id": "d2bb6de4",
      "metadata": {
        "colab": {
          "base_uri": "https://localhost:8080/"
        },
        "id": "d2bb6de4",
        "outputId": "9fd91dc0-1b0b-455c-93de-0ff5f322380e"
      },
      "outputs": [
        {
          "output_type": "stream",
          "name": "stdout",
          "text": [
            "R2_Score----> 99.83968263720236\n",
            "MSE is---> 3.7279124267147763\n",
            "MAE is---> 0.8584448144247486\n",
            "RMSE is---> 1.930780263705525\n"
          ]
        }
      ],
      "source": [
        "# predicting close prices with opening and low and high price\n",
        "# Extraction of Indep and Dep\n",
        "X= data.iloc[: , [1,4,3,6]].values\n",
        "Y=data.iloc[:, 5:6].values\n",
        "# Splitting the dataset into train and test\n",
        "from sklearn.model_selection import train_test_split\n",
        "X_train, X_test, Y_train, Y_test=train_test_split(X,Y, test_size=0.2, random_state=0)\n",
        "\n",
        "# Model creation ---MLR\n",
        "from sklearn.linear_model import LinearRegression\n",
        "MLR=LinearRegression()\n",
        "MLR.fit(X_train, Y_train) # fit the dataset\n",
        "\n",
        "# Predection ---perfromed on test dataset\n",
        "Y_pred=MLR.predict(X_test)\n",
        "\n",
        "# Evaluate the perfromance \n",
        "# metrics:-r2_score, mse, rmse, mae\n",
        "\n",
        "print('R2_Score---->', r2_score(Y_test, Y_pred)*100)\n",
        "print('MSE is--->',mean_squared_error(Y_test, Y_pred))\n",
        "print('MAE is--->',mean_absolute_error(Y_test, Y_pred))\n",
        "print('RMSE is--->',math.sqrt(mean_squared_error(Y_test, Y_pred)))"
      ]
    },
    {
      "cell_type": "code",
      "execution_count": 32,
      "id": "ade33361",
      "metadata": {
        "colab": {
          "base_uri": "https://localhost:8080/"
        },
        "id": "ade33361",
        "outputId": "f4af3469-d7b1-4744-e3c1-37316160334a"
      },
      "outputs": [
        {
          "output_type": "stream",
          "name": "stdout",
          "text": [
            "R2_Score----> 99.62608277159273\n",
            "MSE is---> 8.694820436271575\n",
            "MAE is---> 1.6680169658681903\n",
            "RMSE is---> 2.94869809174686\n"
          ]
        }
      ],
      "source": [
        "# predicting close prices with opening and low and high price\n",
        "# Extraction of Indep and Dep\n",
        "X= data.iloc[: , [1,2,6]].values\n",
        "Y=data.iloc[:, 5:6].values\n",
        "# Splitting the dataset into train and test\n",
        "from sklearn.model_selection import train_test_split\n",
        "X_train, X_test, Y_train, Y_test=train_test_split(X,Y, test_size=0.2, random_state=0)\n",
        "\n",
        "# Model creation ---MLR\n",
        "from sklearn.linear_model import LinearRegression\n",
        "MLR=LinearRegression()\n",
        "MLR.fit(X_train, Y_train) # fit the dataset\n",
        "\n",
        "# Predection ---perfromed on test dataset\n",
        "Y_pred=MLR.predict(X_test)\n",
        "\n",
        "# Evaluate the perfromance \n",
        "# metrics:-r2_score, mse, rmse, mae\n",
        "\n",
        "print('R2_Score---->', r2_score(Y_test, Y_pred)*100)\n",
        "print('MSE is--->',mean_squared_error(Y_test, Y_pred))\n",
        "print('MAE is--->',mean_absolute_error(Y_test, Y_pred))\n",
        "print('RMSE is--->',math.sqrt(mean_squared_error(Y_test, Y_pred)))"
      ]
    },
    {
      "cell_type": "code",
      "execution_count": 33,
      "id": "d5d7c418",
      "metadata": {
        "colab": {
          "base_uri": "https://localhost:8080/"
        },
        "id": "d5d7c418",
        "outputId": "938763ea-b40c-45ca-98be-1efbef1ef678"
      },
      "outputs": [
        {
          "output_type": "stream",
          "name": "stdout",
          "text": [
            "R2_Score----> 99.84420773686121\n",
            "MSE is---> 3.6226887943149073\n",
            "MAE is---> 0.8571709480103069\n",
            "RMSE is---> 1.9033362273426384\n"
          ]
        }
      ],
      "source": [
        "# predicting close prices with opening and low and high price\n",
        "# Extraction of Indep and Dep\n",
        "X= data.iloc[: , [1,2,3,4,7]].values\n",
        "Y=data.iloc[:, 5:6].values\n",
        "# Splitting the dataset into train and test\n",
        "from sklearn.model_selection import train_test_split\n",
        "X_train, X_test, Y_train, Y_test=train_test_split(X,Y, test_size=0.2, random_state=0)\n",
        "\n",
        "# Model creation ---MLR\n",
        "from sklearn.linear_model import LinearRegression\n",
        "MLR=LinearRegression()\n",
        "MLR.fit(X_train, Y_train) # fit the dataset\n",
        "\n",
        "# Predection ---perfromed on test dataset\n",
        "Y_pred=MLR.predict(X_test)\n",
        "\n",
        "# Evaluate the perfromance \n",
        "# metrics:-r2_score, mse, rmse, mae\n",
        "import math\n",
        "from sklearn.metrics import r2_score\n",
        "from sklearn.metrics import mean_squared_error\n",
        "from sklearn.metrics import mean_absolute_error\n",
        "print('R2_Score---->', r2_score(Y_test, Y_pred)*100)\n",
        "print('MSE is--->',mean_squared_error(Y_test, Y_pred))\n",
        "print('MAE is--->',mean_absolute_error(Y_test, Y_pred))\n",
        "print('RMSE is--->',math.sqrt(mean_squared_error(Y_test, Y_pred)))"
      ]
    },
    {
      "cell_type": "code",
      "execution_count": 34,
      "id": "3663b321",
      "metadata": {
        "colab": {
          "base_uri": "https://localhost:8080/"
        },
        "id": "3663b321",
        "outputId": "25b86a26-8962-4981-e5aa-c8a3e0a2ef1a"
      },
      "outputs": [
        {
          "output_type": "stream",
          "name": "stdout",
          "text": [
            "R2_Score----> 99.8322440376059\n",
            "MSE is---> 3.9008846325257576\n",
            "MAE is---> 0.8601734133059126\n",
            "RMSE is---> 1.9750657286596205\n"
          ]
        }
      ],
      "source": [
        "# predicting close prices with opening and low and high price\n",
        "# Extraction of Indep and Dep\n",
        "X= data.iloc[: , [1,2,3,4]].values\n",
        "Y=data.iloc[:, 5:6].values\n",
        "# Splitting the dataset into train and test\n",
        "from sklearn.model_selection import train_test_split\n",
        "X_train, X_test, Y_train, Y_test=train_test_split(X,Y, test_size=0.2, random_state=0)\n",
        "\n",
        "# Model creation ---MLR\n",
        "from sklearn.linear_model import LinearRegression\n",
        "MLR=LinearRegression()\n",
        "MLR.fit(X_train, Y_train) # fit the dataset\n",
        "\n",
        "# Predection ---perfromed on test dataset\n",
        "Y_pred=MLR.predict(X_test)\n",
        "\n",
        "# Evaluate the perfromance \n",
        "# metrics:-r2_score, mse, rmse, mae\n",
        "import math\n",
        "from sklearn.metrics import r2_score\n",
        "from sklearn.metrics import mean_squared_error\n",
        "from sklearn.metrics import mean_absolute_error\n",
        "print('R2_Score---->', r2_score(Y_test, Y_pred)*100)\n",
        "print('MSE is--->',mean_squared_error(Y_test, Y_pred))\n",
        "print('MAE is--->',mean_absolute_error(Y_test, Y_pred))\n",
        "print('RMSE is--->',math.sqrt(mean_squared_error(Y_test, Y_pred)))"
      ]
    },
    {
      "cell_type": "code",
      "execution_count": 35,
      "id": "84fed102",
      "metadata": {
        "colab": {
          "base_uri": "https://localhost:8080/"
        },
        "id": "84fed102",
        "outputId": "70d84608-df68-42bb-b15b-5cec3709d1fd"
      },
      "outputs": [
        {
          "output_type": "stream",
          "name": "stdout",
          "text": [
            "R2_Score----> 99.61551774596478\n",
            "MSE is---> 8.940492456068768\n",
            "MAE is---> 1.7821185171076765\n",
            "RMSE is---> 2.9900656273849187\n"
          ]
        }
      ],
      "source": [
        "# predicting close prices with opening and low and high price\n",
        "# Extraction of Indep and Dep\n",
        "X= data.iloc[: , [1,2,6,7]].values\n",
        "Y=data.iloc[:, 5:6].values\n",
        "# Splitting the dataset into train and test\n",
        "from sklearn.model_selection import train_test_split\n",
        "X_train, X_test, Y_train, Y_test=train_test_split(X,Y, test_size=0.2, random_state=0)\n",
        "\n",
        "# Model creation ---MLR\n",
        "from sklearn.linear_model import LinearRegression\n",
        "MLR=LinearRegression()\n",
        "MLR.fit(X_train, Y_train) # fit the dataset\n",
        "\n",
        "# Predection ---perfromed on test dataset\n",
        "Y_pred=MLR.predict(X_test)\n",
        "\n",
        "# Evaluate the perfromance \n",
        "# metrics:-r2_score, mse, rmse, mae\n",
        "import math\n",
        "from sklearn.metrics import r2_score\n",
        "from sklearn.metrics import mean_squared_error\n",
        "from sklearn.metrics import mean_absolute_error\n",
        "print('R2_Score---->', r2_score(Y_test, Y_pred)*100)\n",
        "print('MSE is--->',mean_squared_error(Y_test, Y_pred))\n",
        "print('MAE is--->',mean_absolute_error(Y_test, Y_pred))\n",
        "print('RMSE is--->',math.sqrt(mean_squared_error(Y_test, Y_pred)))"
      ]
    },
    {
      "cell_type": "code",
      "execution_count": 36,
      "id": "9cb34768",
      "metadata": {
        "colab": {
          "base_uri": "https://localhost:8080/"
        },
        "id": "9cb34768",
        "outputId": "6ca44150-9121-4750-e376-addba83f17d0"
      },
      "outputs": [
        {
          "output_type": "stream",
          "name": "stdout",
          "text": [
            "R2_Score----> 99.83871591436096\n",
            "MSE is---> 3.750391951269729\n",
            "MAE is---> 1.303007266991847\n",
            "RMSE is---> 1.9365928718421248\n"
          ]
        }
      ],
      "source": [
        "# predicting close prices with opening and low and high price\n",
        "# Extraction of Indep and Dep\n",
        "X= data.iloc[: , [3,6,7]].values\n",
        "Y=data.iloc[:, 5:6].values\n",
        "# Splitting the dataset into train and test\n",
        "from sklearn.model_selection import train_test_split\n",
        "X_train, X_test, Y_train, Y_test=train_test_split(X,Y, test_size=0.2, random_state=0)\n",
        "\n",
        "# Model creation ---MLR\n",
        "from sklearn.linear_model import LinearRegression\n",
        "MLR=LinearRegression()\n",
        "MLR.fit(X_train, Y_train) # fit the dataset\n",
        "\n",
        "# Predection ---perfromed on test dataset\n",
        "Y_pred=MLR.predict(X_test)\n",
        "\n",
        "# Evaluate the perfromance \n",
        "# metrics:-r2_score, mse, rmse, mae\n",
        "\n",
        "print('R2_Score---->', r2_score(Y_test, Y_pred)*100)\n",
        "print('MSE is--->',mean_squared_error(Y_test, Y_pred))\n",
        "print('MAE is--->',mean_absolute_error(Y_test, Y_pred))\n",
        "print('RMSE is--->',math.sqrt(mean_squared_error(Y_test, Y_pred)))"
      ]
    },
    {
      "cell_type": "code",
      "execution_count": 37,
      "id": "e9a136d4",
      "metadata": {
        "colab": {
          "base_uri": "https://localhost:8080/"
        },
        "id": "e9a136d4",
        "outputId": "43284e1b-cc66-44fe-ae69-0285fe64b46f"
      },
      "outputs": [
        {
          "output_type": "stream",
          "name": "stdout",
          "text": [
            "R2_Score----> 99.55991744241545\n",
            "MSE is---> 10.233384622665987\n",
            "MAE is---> 0.5281010035750664\n",
            "RMSE is---> 3.198966180294188\n"
          ]
        }
      ],
      "source": [
        "# predicting close prices with opening and low and high price\n",
        "# Extraction of Indep and Dep\n",
        "X= data.iloc[: , [2,4,7]].values\n",
        "Y=data.iloc[:, 5:6].values\n",
        "# Splitting the dataset into train and test\n",
        "from sklearn.model_selection import train_test_split\n",
        "X_train, X_test, Y_train, Y_test=train_test_split(X,Y, test_size=0.2, random_state=0)\n",
        "\n",
        "# Model creation ---MLR\n",
        "from sklearn.linear_model import LinearRegression\n",
        "MLR=LinearRegression()\n",
        "MLR.fit(X_train, Y_train) # fit the dataset\n",
        "\n",
        "# Predection ---perfromed on test dataset\n",
        "Y_pred=MLR.predict(X_test)\n",
        "\n",
        "# Evaluate the perfromance \n",
        "# metrics:-r2_score, mse, rmse, mae\n",
        "\n",
        "print('R2_Score---->', r2_score(Y_test, Y_pred)*100)\n",
        "print('MSE is--->',mean_squared_error(Y_test, Y_pred))\n",
        "print('MAE is--->',mean_absolute_error(Y_test, Y_pred))\n",
        "print('RMSE is--->',math.sqrt(mean_squared_error(Y_test, Y_pred)))"
      ]
    },
    {
      "cell_type": "code",
      "execution_count": 38,
      "id": "f3fdacdf",
      "metadata": {
        "colab": {
          "base_uri": "https://localhost:8080/"
        },
        "id": "f3fdacdf",
        "outputId": "e468cc72-0e3c-437f-9ed0-1cda659d12a1"
      },
      "outputs": [
        {
          "output_type": "stream",
          "name": "stdout",
          "text": [
            "R2_Score----> 98.49819435463007\n",
            "MSE is---> 34.9219811889709\n",
            "MAE is---> 2.864023242491799\n",
            "RMSE is---> 5.909482311418734\n"
          ]
        }
      ],
      "source": [
        "# predicting close prices with opening and low and high price\n",
        "# Extraction of Indep and Dep\n",
        "X= data.iloc[: , [1,6,7]].values\n",
        "Y=data.iloc[:, 5:6].values\n",
        "# Splitting the dataset into train and test\n",
        "from sklearn.model_selection import train_test_split\n",
        "X_train, X_test, Y_train, Y_test=train_test_split(X,Y, test_size=0.2, random_state=0)\n",
        "\n",
        "# Model creation ---MLR\n",
        "from sklearn.linear_model import LinearRegression\n",
        "MLR=LinearRegression()\n",
        "MLR.fit(X_train, Y_train) # fit the dataset\n",
        "\n",
        "# Predection ---perfromed on test dataset\n",
        "Y_pred=MLR.predict(X_test)\n",
        "\n",
        "# Evaluate the perfromance \n",
        "# metrics:-r2_score, mse, rmse, mae\n",
        "\n",
        "print('R2_Score---->', r2_score(Y_test, Y_pred)*100)\n",
        "print('MSE is--->',mean_squared_error(Y_test, Y_pred))\n",
        "print('MAE is--->',mean_absolute_error(Y_test, Y_pred))\n",
        "print('RMSE is--->',math.sqrt(mean_squared_error(Y_test, Y_pred)))"
      ]
    },
    {
      "cell_type": "code",
      "execution_count": 39,
      "id": "f44ebe9a",
      "metadata": {
        "colab": {
          "base_uri": "https://localhost:8080/"
        },
        "id": "f44ebe9a",
        "outputId": "5141dc80-a70f-4915-fdda-e4e6931a7e88"
      },
      "outputs": [
        {
          "output_type": "stream",
          "name": "stdout",
          "text": [
            "R2_Score----> 32.92589856440522\n",
            "MSE is---> 20797088.947809726\n",
            "MAE is---> 2239.4836330484845\n",
            "RMSE is---> 4560.382544020811\n"
          ]
        }
      ],
      "source": [
        "# predicting tottal traded quantity with opening and low and high price\n",
        "# Extraction of Indep and Dep\n",
        "X= data.iloc[: , [1,2,3,4]].values\n",
        "Y=data.iloc[:, 7:8].values\n",
        "# Splitting the dataset into train and test\n",
        "from sklearn.model_selection import train_test_split\n",
        "X_train, X_test, Y_train, Y_test=train_test_split(X,Y, test_size=0.2, random_state=0)\n",
        "\n",
        "# Feature scalling ---Standardization\n",
        "from sklearn.preprocessing import StandardScaler\n",
        "sc=StandardScaler()\n",
        "X_train=sc.fit_transform(X_train)\n",
        "X_test=sc.transform(X_test)\n",
        "\n",
        "\n",
        "# Model creation ---MLR\n",
        "from sklearn.linear_model import LinearRegression\n",
        "MLR=LinearRegression()\n",
        "MLR.fit(X_train, Y_train) # fit the dataset\n",
        "\n",
        "# Predection ---perfromed on test dataset\n",
        "Y_pred=MLR.predict(X_test)\n",
        "\n",
        "# Evaluate the perfromance \n",
        "# metrics:-r2_score, mse, rmse, mae\n",
        "\n",
        "print('R2_Score---->', r2_score(Y_test, Y_pred)*100)\n",
        "print('MSE is--->',mean_squared_error(Y_test, Y_pred))\n",
        "print('MAE is--->',mean_absolute_error(Y_test, Y_pred))\n",
        "print('RMSE is--->',math.sqrt(mean_squared_error(Y_test, Y_pred)))"
      ]
    },
    {
      "cell_type": "code",
      "execution_count": 40,
      "id": "4ba8254b",
      "metadata": {
        "colab": {
          "base_uri": "https://localhost:8080/"
        },
        "id": "4ba8254b",
        "outputId": "43fa6d22-de8f-4a83-adf5-3c45174111e4"
      },
      "outputs": [
        {
          "output_type": "stream",
          "name": "stdout",
          "text": [
            "R2_Score----> 28.87971241009215\n",
            "MSE is---> 22051655.040378932\n",
            "MAE is---> 2291.914189633077\n",
            "RMSE is---> 4695.918977194872\n"
          ]
        }
      ],
      "source": [
        "# predicting tottal traded quantity with opening and low and high price\n",
        "# Extraction of Indep and Dep\n",
        "X= data.iloc[: , [1,2,3]].values\n",
        "Y=data.iloc[:, 7:8].values\n",
        "# Splitting the dataset into train and test\n",
        "from sklearn.model_selection import train_test_split\n",
        "X_train, X_test, Y_train, Y_test=train_test_split(X,Y, test_size=0.2, random_state=0)\n",
        "\n",
        "# Feature scalling ---Standardization\n",
        "from sklearn.preprocessing import StandardScaler\n",
        "sc=StandardScaler()\n",
        "X_train=sc.fit_transform(X_train)\n",
        "X_test=sc.transform(X_test)\n",
        "\n",
        "\n",
        "# Model creation ---MLR\n",
        "from sklearn.linear_model import LinearRegression\n",
        "MLR=LinearRegression()\n",
        "MLR.fit(X_train, Y_train) # fit the dataset\n",
        "\n",
        "# Predection ---perfromed on test dataset\n",
        "Y_pred=MLR.predict(X_test)\n",
        "\n",
        "# Evaluate the perfromance \n",
        "# metrics:-r2_score, mse, rmse, mae\n",
        "\n",
        "print('R2_Score---->', r2_score(Y_test, Y_pred)*100)\n",
        "print('MSE is--->',mean_squared_error(Y_test, Y_pred))\n",
        "print('MAE is--->',mean_absolute_error(Y_test, Y_pred))\n",
        "print('RMSE is--->',math.sqrt(mean_squared_error(Y_test, Y_pred)))"
      ]
    },
    {
      "cell_type": "code",
      "execution_count": 41,
      "id": "e47d993a",
      "metadata": {
        "colab": {
          "base_uri": "https://localhost:8080/"
        },
        "id": "e47d993a",
        "outputId": "42cdab72-edd1-4b29-b8b2-b13aacff0070"
      },
      "outputs": [
        {
          "output_type": "stream",
          "name": "stdout",
          "text": [
            "R2_Score----> 26.616488275112914\n",
            "MSE is---> 22753393.455603004\n",
            "MAE is---> 2345.009838498867\n",
            "RMSE is---> 4770.051724625531\n"
          ]
        }
      ],
      "source": [
        "# predicting tottal traded quantity with opening and low and high price\n",
        "# Extraction of Indep and Dep\n",
        "X= data.iloc[: , [1,2]].values\n",
        "Y=data.iloc[:, 7:8].values\n",
        "# Splitting the dataset into train and test\n",
        "from sklearn.model_selection import train_test_split\n",
        "X_train, X_test, Y_train, Y_test=train_test_split(X,Y, test_size=0.2, random_state=0)\n",
        "\n",
        "# Feature scalling ---Standardization\n",
        "from sklearn.preprocessing import StandardScaler\n",
        "sc=StandardScaler()\n",
        "X_train=sc.fit_transform(X_train)\n",
        "X_test=sc.transform(X_test)\n",
        "\n",
        "\n",
        "# Model creation ---MLR\n",
        "from sklearn.linear_model import LinearRegression\n",
        "MLR=LinearRegression()\n",
        "MLR.fit(X_train, Y_train) # fit the dataset\n",
        "\n",
        "# Predection ---perfromed on test dataset\n",
        "Y_pred=MLR.predict(X_test)\n",
        "\n",
        "# Evaluate the perfromance \n",
        "# metrics:-r2_score, mse, rmse, mae\n",
        "\n",
        "print('R2_Score---->', r2_score(Y_test, Y_pred)*100)\n",
        "print('MSE is--->',mean_squared_error(Y_test, Y_pred))\n",
        "print('MAE is--->',mean_absolute_error(Y_test, Y_pred))\n",
        "print('RMSE is--->',math.sqrt(mean_squared_error(Y_test, Y_pred)))"
      ]
    },
    {
      "cell_type": "code",
      "execution_count": 42,
      "id": "f483276e",
      "metadata": {
        "colab": {
          "base_uri": "https://localhost:8080/"
        },
        "id": "f483276e",
        "outputId": "e7a1e0ee-8851-48b0-88ed-937db29afc7c"
      },
      "outputs": [
        {
          "output_type": "stream",
          "name": "stdout",
          "text": [
            "R2_Score----> 28.93405828070105\n",
            "MSE is---> 22034804.484340034\n",
            "MAE is---> 2293.1479643666476\n",
            "RMSE is---> 4694.124464086996\n"
          ]
        }
      ],
      "source": [
        "# predicting tottal traded quantity with opening and low and high price\n",
        "# Extraction of Indep and Dep\n",
        "X= data.iloc[: , [2,3]].values\n",
        "Y=data.iloc[:, 7:8].values\n",
        "# Splitting the dataset into train and test\n",
        "from sklearn.model_selection import train_test_split\n",
        "X_train, X_test, Y_train, Y_test=train_test_split(X,Y, test_size=0.2, random_state=0)\n",
        "\n",
        "# Feature scalling ---Standardization\n",
        "from sklearn.preprocessing import StandardScaler\n",
        "sc=StandardScaler()\n",
        "X_train=sc.fit_transform(X_train)\n",
        "X_test=sc.transform(X_test)\n",
        "\n",
        "\n",
        "# Model creation ---MLR\n",
        "from sklearn.linear_model import LinearRegression\n",
        "MLR=LinearRegression()\n",
        "MLR.fit(X_train, Y_train) # fit the dataset\n",
        "\n",
        "# Predection ---perfromed on test dataset\n",
        "Y_pred=MLR.predict(X_test)\n",
        "\n",
        "# Evaluate the perfromance \n",
        "# metrics:-r2_score, mse, rmse, mae\n",
        "\n",
        "print('R2_Score---->', r2_score(Y_test, Y_pred)*100)\n",
        "print('MSE is--->',mean_squared_error(Y_test, Y_pred))\n",
        "print('MAE is--->',mean_absolute_error(Y_test, Y_pred))\n",
        "print('RMSE is--->',math.sqrt(mean_squared_error(Y_test, Y_pred)))"
      ]
    },
    {
      "cell_type": "code",
      "execution_count": 43,
      "id": "e0e55d01",
      "metadata": {
        "colab": {
          "base_uri": "https://localhost:8080/"
        },
        "id": "e0e55d01",
        "outputId": "3a2ccc7b-2750-4f4d-e7ca-24989c947f31"
      },
      "outputs": [
        {
          "output_type": "stream",
          "name": "stdout",
          "text": [
            "R2_Score----> 32.93533518179195\n",
            "MSE is---> 20794163.017130703\n",
            "MAE is---> 2242.732098079837\n",
            "RMSE is---> 4560.061733916626\n"
          ]
        }
      ],
      "source": [
        "# predicting tottal traded quantity with opening and low and high price\n",
        "# Extraction of Indep and Dep\n",
        "X= data.iloc[: , [3,4,2]].values\n",
        "Y=data.iloc[:, 7:8].values\n",
        "# Splitting the dataset into train and test\n",
        "from sklearn.model_selection import train_test_split\n",
        "X_train, X_test, Y_train, Y_test=train_test_split(X,Y, test_size=0.2, random_state=0)\n",
        "\n",
        "# Feature scalling ---Standardization\n",
        "from sklearn.preprocessing import StandardScaler\n",
        "sc=StandardScaler()\n",
        "X_train=sc.fit_transform(X_train)\n",
        "X_test=sc.transform(X_test)\n",
        "\n",
        "\n",
        "# Model creation ---MLR\n",
        "from sklearn.linear_model import LinearRegression\n",
        "MLR=LinearRegression()\n",
        "MLR.fit(X_train, Y_train) # fit the dataset\n",
        "\n",
        "# Predection ---perfromed on test dataset\n",
        "Y_pred=MLR.predict(X_test)\n",
        "\n",
        "# Evaluate the perfromance \n",
        "# metrics:-r2_score, mse, rmse, mae\n",
        "\n",
        "print('R2_Score---->', r2_score(Y_test, Y_pred)*100)\n",
        "print('MSE is--->',mean_squared_error(Y_test, Y_pred))\n",
        "print('MAE is--->',mean_absolute_error(Y_test, Y_pred))\n",
        "print('RMSE is--->',math.sqrt(mean_squared_error(Y_test, Y_pred)))"
      ]
    },
    {
      "cell_type": "code",
      "execution_count": 44,
      "id": "222c62be",
      "metadata": {
        "colab": {
          "base_uri": "https://localhost:8080/"
        },
        "id": "222c62be",
        "outputId": "32bbdb65-7b31-498d-accc-fa6eca1c2a6b"
      },
      "outputs": [
        {
          "output_type": "stream",
          "name": "stdout",
          "text": [
            "R2_Score----> 96.45281378573219\n",
            "MSE is---> 1099845.4788605403\n",
            "MAE is---> 725.3022795791051\n",
            "RMSE is---> 1048.7351805201065\n"
          ]
        }
      ],
      "source": [
        "# predicting tottal traded quantity with opening and low and high price\n",
        "# Extraction of Indep and Dep\n",
        "X= data.iloc[: , [5,6]].values\n",
        "Y=data.iloc[:, 7:8].values\n",
        "# Splitting the dataset into train and test\n",
        "from sklearn.model_selection import train_test_split\n",
        "X_train, X_test, Y_train, Y_test=train_test_split(X,Y, test_size=0.2, random_state=0)\n",
        "\n",
        "# Feature scalling ---Standardization\n",
        "from sklearn.preprocessing import StandardScaler\n",
        "sc=StandardScaler()\n",
        "X_train=sc.fit_transform(X_train)\n",
        "X_test=sc.transform(X_test)\n",
        "\n",
        "\n",
        "# Model creation ---MLR\n",
        "from sklearn.linear_model import LinearRegression\n",
        "MLR=LinearRegression()\n",
        "MLR.fit(X_train, Y_train) # fit the dataset\n",
        "\n",
        "# Predection ---perfromed on test dataset\n",
        "Y_pred=MLR.predict(X_test)\n",
        "\n",
        "# Evaluate the perfromance \n",
        "# metrics:-r2_score, mse, rmse, mae\n",
        "import math\n",
        "\n",
        "print('R2_Score---->', r2_score(Y_test, Y_pred)*100)\n",
        "print('MSE is--->',mean_squared_error(Y_test, Y_pred))\n",
        "print('MAE is--->',mean_absolute_error(Y_test, Y_pred))\n",
        "print('RMSE is--->',math.sqrt(mean_squared_error(Y_test, Y_pred)))"
      ]
    },
    {
      "cell_type": "code",
      "execution_count": 45,
      "id": "96eab8db",
      "metadata": {
        "colab": {
          "base_uri": "https://localhost:8080/"
        },
        "id": "96eab8db",
        "outputId": "791faeda-1ad0-476c-c23c-91650921c0b6"
      },
      "outputs": [
        {
          "output_type": "stream",
          "name": "stdout",
          "text": [
            "R2_Score----> 96.45116086948047\n",
            "MSE is---> 1100357.9843667562\n",
            "MAE is---> 724.8777794290955\n",
            "RMSE is---> 1048.9794966379259\n"
          ]
        }
      ],
      "source": [
        "# predicting tottal traded quantity with opening and low and high price\n",
        "# Extraction of Indep and Dep\n",
        "X= data.iloc[: , [3,4,5,6]].values\n",
        "Y=data.iloc[:, 7:8].values\n",
        "# Splitting the dataset into train and test\n",
        "from sklearn.model_selection import train_test_split\n",
        "X_train, X_test, Y_train, Y_test=train_test_split(X,Y, test_size=0.2, random_state=0)\n",
        "\n",
        "# Feature scalling ---Standardization\n",
        "from sklearn.preprocessing import StandardScaler\n",
        "sc=StandardScaler()\n",
        "X_train=sc.fit_transform(X_train)\n",
        "X_test=sc.transform(X_test)\n",
        "\n",
        "\n",
        "# Model creation ---MLR\n",
        "from sklearn.linear_model import LinearRegression\n",
        "MLR=LinearRegression()\n",
        "MLR.fit(X_train, Y_train) # fit the dataset\n",
        "\n",
        "# Predection ---perfromed on test dataset\n",
        "Y_pred=MLR.predict(X_test)\n",
        "\n",
        "# Evaluate the perfromance \n",
        "# metrics:-r2_score, mse, rmse, mae\n",
        "\n",
        "print('R2_Score---->', r2_score(Y_test, Y_pred)*100)\n",
        "print('MSE is--->',mean_squared_error(Y_test, Y_pred))\n",
        "print('MAE is--->',mean_absolute_error(Y_test, Y_pred))\n",
        "print('RMSE is--->',math.sqrt(mean_squared_error(Y_test, Y_pred)))"
      ]
    },
    {
      "cell_type": "code",
      "execution_count": 45,
      "id": "3a7bbef4",
      "metadata": {
        "id": "3a7bbef4"
      },
      "outputs": [],
      "source": [
        ""
      ]
    },
    {
      "cell_type": "code",
      "execution_count": 46,
      "id": "5b8152e6",
      "metadata": {
        "colab": {
          "base_uri": "https://localhost:8080/"
        },
        "id": "5b8152e6",
        "outputId": "efcf7d28-eae7-44bb-be77-3c159ec14991"
      },
      "outputs": [
        {
          "output_type": "stream",
          "name": "stdout",
          "text": [
            "R2_Score----> 24.542753305598485\n",
            "MSE is---> 23396378.597291213\n",
            "MAE is---> 2388.2390315112675\n",
            "RMSE is---> 4836.980318059111\n"
          ]
        }
      ],
      "source": [
        "# Extraction of indep and dep var\n",
        "X=data.iloc[:, 1:2].values\n",
        "Y=data.iloc[:, 7:8].values\n",
        "# splitting the dataset\n",
        "from sklearn.model_selection import train_test_split\n",
        "X_train, X_test, Y_train, Y_test = train_test_split(X, Y, test_size=0.2, random_state=0)\n",
        "# model creation --SLR\n",
        "from sklearn.linear_model import LinearRegression\n",
        "LR_model=LinearRegression() # model creation\n",
        "LR_model.fit(X_train, Y_train) # model fitting --training dataset\n",
        "# prediction ----Test dataset\n",
        "Y_pred=LR_model.predict(X_test)\n",
        "# Evaluate the perfromance \n",
        "# metrics:-r2_score, mse, rmse, mae\n",
        "\n",
        "print('R2_Score---->', r2_score(Y_test, Y_pred)*100)\n",
        "print('MSE is--->',mean_squared_error(Y_test, Y_pred))\n",
        "print('MAE is--->',mean_absolute_error(Y_test, Y_pred))\n",
        "print('RMSE is--->',math.sqrt(mean_squared_error(Y_test, Y_pred)))"
      ]
    },
    {
      "cell_type": "code",
      "execution_count": 47,
      "id": "cb00c66e",
      "metadata": {
        "colab": {
          "base_uri": "https://localhost:8080/"
        },
        "id": "cb00c66e",
        "outputId": "d3f18880-e6c4-4188-db3b-cae147041fb7"
      },
      "outputs": [
        {
          "output_type": "stream",
          "name": "stdout",
          "text": [
            "R2_Score----> 26.31545504558741\n",
            "MSE is---> 22846732.236394573\n",
            "MAE is---> 2350.310066459287\n",
            "RMSE is---> 4779.825544556472\n"
          ]
        }
      ],
      "source": [
        "# Extraction of indep and dep var\n",
        "X=data.iloc[:, 2:3].values\n",
        "Y=data.iloc[:, 7:8].values\n",
        "# splitting the dataset\n",
        "from sklearn.model_selection import train_test_split\n",
        "X_train, X_test, Y_train, Y_test = train_test_split(X, Y, test_size=0.2, random_state=0)\n",
        "# Feature scalling ---Standardization\n",
        "from sklearn.preprocessing import StandardScaler\n",
        "sc=StandardScaler()\n",
        "X_train=sc.fit_transform(X_train)\n",
        "X_test=sc.transform(X_test)\n",
        "# model creation --SLR\n",
        "from sklearn.linear_model import LinearRegression\n",
        "LR_model=LinearRegression() # model creation\n",
        "LR_model.fit(X_train, Y_train) # model fitting --training dataset\n",
        "# prediction ----Test dataset\n",
        "Y_pred=LR_model.predict(X_test)\n",
        "# Evaluate the perfromance \n",
        "# metrics:-r2_score, mse, rmse, mae\n",
        "\n",
        "print('R2_Score---->', r2_score(Y_test, Y_pred)*100)\n",
        "print('MSE is--->',mean_squared_error(Y_test, Y_pred))\n",
        "print('MAE is--->',mean_absolute_error(Y_test, Y_pred))\n",
        "print('RMSE is--->',math.sqrt(mean_squared_error(Y_test, Y_pred)))"
      ]
    },
    {
      "cell_type": "code",
      "execution_count": 48,
      "id": "083862a9",
      "metadata": {
        "colab": {
          "base_uri": "https://localhost:8080/"
        },
        "id": "083862a9",
        "outputId": "c26c1048-a4dc-4a1d-ea38-061640517290"
      },
      "outputs": [
        {
          "output_type": "stream",
          "name": "stdout",
          "text": [
            "R2_Score----> 24.045372276458632\n",
            "MSE is---> 23550597.249238525\n",
            "MAE is---> 2411.3260089408013\n",
            "RMSE is---> 4852.895759156437\n"
          ]
        }
      ],
      "source": [
        "# Extraction of indep and dep var\n",
        "X=data.iloc[:, 3:4].values\n",
        "Y=data.iloc[:, 7:8].values\n",
        "# splitting the dataset\n",
        "from sklearn.model_selection import train_test_split\n",
        "X_train, X_test, Y_train, Y_test = train_test_split(X, Y, test_size=0.2, random_state=0)\n",
        "# Feature scalling ---Standardization\n",
        "from sklearn.preprocessing import StandardScaler\n",
        "sc=StandardScaler()\n",
        "X_train=sc.fit_transform(X_train)\n",
        "X_test=sc.transform(X_test)\n",
        "# model creation --SLR\n",
        "from sklearn.linear_model import LinearRegression\n",
        "LR_model=LinearRegression() # model creation\n",
        "LR_model.fit(X_train, Y_train) # model fitting --training dataset\n",
        "# prediction ----Test dataset\n",
        "Y_pred=LR_model.predict(X_test)\n",
        "# Evaluate the perfromance \n",
        "# metrics:-r2_score, mse, rmse, mae\n",
        "\n",
        "print('R2_Score---->', r2_score(Y_test, Y_pred)*100)\n",
        "print('MSE is--->',mean_squared_error(Y_test, Y_pred))\n",
        "print('MAE is--->',mean_absolute_error(Y_test, Y_pred))\n",
        "print('RMSE is--->',math.sqrt(mean_squared_error(Y_test, Y_pred)))"
      ]
    },
    {
      "cell_type": "code",
      "execution_count": 49,
      "id": "8aaeedfc",
      "metadata": {
        "id": "8aaeedfc",
        "outputId": "a9464da1-a7b2-445f-db39-79b343028f13",
        "colab": {
          "base_uri": "https://localhost:8080/"
        }
      },
      "outputs": [
        {
          "output_type": "stream",
          "name": "stdout",
          "text": [
            "R2_Score----> 26.160053916245886\n",
            "MSE is---> 22894916.12615729\n",
            "MAE is---> 2361.7212180324564\n",
            "RMSE is---> 4784.863229618721\n"
          ]
        }
      ],
      "source": [
        "# Extraction of indep and dep var\n",
        "X=data.iloc[:, 4:5].values\n",
        "Y=data.iloc[:, 7:8].values\n",
        "# splitting the dataset\n",
        "from sklearn.model_selection import train_test_split\n",
        "X_train, X_test, Y_train, Y_test = train_test_split(X, Y, test_size=0.2, random_state=0)\n",
        "# Feature scalling ---Standardization\n",
        "from sklearn.preprocessing import StandardScaler\n",
        "sc=StandardScaler()\n",
        "X_train=sc.fit_transform(X_train)\n",
        "X_test=sc.transform(X_test)\n",
        "# model creation --SLR\n",
        "from sklearn.linear_model import LinearRegression\n",
        "LR_model=LinearRegression() # model creation\n",
        "LR_model.fit(X_train, Y_train) # model fitting --training dataset\n",
        "# prediction ----Test dataset\n",
        "Y_pred=LR_model.predict(X_test)\n",
        "# Evaluate the perfromance \n",
        "# metrics:-r2_score, mse, rmse, mae\n",
        "print('R2_Score---->', r2_score(Y_test, Y_pred)*100)\n",
        "print('MSE is--->',mean_squared_error(Y_test, Y_pred))\n",
        "print('MAE is--->',mean_absolute_error(Y_test, Y_pred))\n",
        "print('RMSE is--->',math.sqrt(mean_squared_error(Y_test, Y_pred)))"
      ]
    },
    {
      "cell_type": "code",
      "execution_count": 50,
      "id": "fb56a7a9",
      "metadata": {
        "colab": {
          "base_uri": "https://localhost:8080/"
        },
        "id": "fb56a7a9",
        "outputId": "365514c7-9cab-41f7-dffa-7469b0d43a45"
      },
      "outputs": [
        {
          "output_type": "stream",
          "name": "stdout",
          "text": [
            "R2_Score----> 25.811841116544876\n",
            "MSE is---> 23002883.46993306\n",
            "MAE is---> 2374.247000304831\n",
            "RMSE is---> 4796.132136412951\n"
          ]
        }
      ],
      "source": [
        "# Extraction of indep and dep var\n",
        "X=data.iloc[:, 5:6].values\n",
        "Y=data.iloc[:, 7:8].values\n",
        "# splitting the dataset\n",
        "from sklearn.model_selection import train_test_split\n",
        "X_train, X_test, Y_train, Y_test = train_test_split(X, Y, test_size=0.2, random_state=0)\n",
        "# Feature scalling ---Standardization\n",
        "from sklearn.preprocessing import StandardScaler\n",
        "sc=StandardScaler()\n",
        "X_train=sc.fit_transform(X_train)\n",
        "X_test=sc.transform(X_test)\n",
        "# model creation --SLR\n",
        "from sklearn.linear_model import LinearRegression\n",
        "LR_model=LinearRegression() # model creation\n",
        "LR_model.fit(X_train, Y_train) # model fitting --training dataset\n",
        "# prediction ----Test dataset\n",
        "Y_pred=LR_model.predict(X_test)\n",
        "# Evaluate the perfromance \n",
        "# metrics:-r2_score, mse, rmse, mae\n",
        "print('R2_Score---->', r2_score(Y_test, Y_pred)*100)\n",
        "print('MSE is--->',mean_squared_error(Y_test, Y_pred))\n",
        "print('MAE is--->',mean_absolute_error(Y_test, Y_pred))\n",
        "print('RMSE is--->',math.sqrt(mean_squared_error(Y_test, Y_pred)))"
      ]
    },
    {
      "cell_type": "code",
      "execution_count": 51,
      "id": "8016203f",
      "metadata": {
        "id": "8016203f",
        "outputId": "11408096-519b-4438-d912-8b71a4572f4d",
        "colab": {
          "base_uri": "https://localhost:8080/"
        }
      },
      "outputs": [
        {
          "output_type": "stream",
          "name": "stdout",
          "text": [
            "R2_Score----> 89.15426517446579\n",
            "MSE is---> 3362843.5870673163\n",
            "MAE is---> 1118.8032493132378\n",
            "RMSE is---> 1833.8057659052433\n"
          ]
        }
      ],
      "source": [
        "# Extraction of indep and dep var\n",
        "X=data.iloc[:, 6:7].values\n",
        "Y=data.iloc[:, 7:8].values\n",
        "# splitting the dataset\n",
        "from sklearn.model_selection import train_test_split\n",
        "X_train, X_test, Y_train, Y_test = train_test_split(X, Y, test_size=0.2, random_state=0)\n",
        "# Feature scalling ---Standardization\n",
        "from sklearn.preprocessing import StandardScaler\n",
        "sc=StandardScaler()\n",
        "X_train=sc.fit_transform(X_train)\n",
        "X_test=sc.transform(X_test)\n",
        "# model creation --SLR\n",
        "from sklearn.linear_model import LinearRegression\n",
        "LR_model=LinearRegression() # model creation\n",
        "LR_model.fit(X_train, Y_train) # model fitting --training dataset\n",
        "# prediction ----Test dataset\n",
        "Y_pred=LR_model.predict(X_test)\n",
        "# Evaluate the perfromance \n",
        "# metrics:-r2_score, mse, rmse, mae\n",
        "print('R2_Score---->', r2_score(Y_test, Y_pred)*100)\n",
        "print('MSE is--->',mean_squared_error(Y_test, Y_pred))\n",
        "print('MAE is--->',mean_absolute_error(Y_test, Y_pred))\n",
        "print('RMSE is--->',math.sqrt(mean_squared_error(Y_test, Y_pred)))"
      ]
    },
    {
      "cell_type": "code",
      "execution_count": 333,
      "id": "c46dd859",
      "metadata": {
        "id": "c46dd859",
        "outputId": "1b98c610-6329-4bbc-99c2-dc504b97c48f",
        "colab": {
          "base_uri": "https://localhost:8080/"
        }
      },
      "outputs": [
        {
          "output_type": "stream",
          "name": "stdout",
          "text": [
            "R2_Score----> 26.616488275112914\n",
            "MSE is---> 22753393.455603004\n",
            "MAE is---> 2345.009838498867\n",
            "RMSE is---> 4770.051724625531\n"
          ]
        }
      ],
      "source": [
        "#application of multiple linear regressions to find total traded quantity\n",
        "# predicting tottal traded quantity with opening and low and high price\n",
        "# Extraction of Indep and Dep\n",
        "X= data.iloc[: , [1,2]].values\n",
        "Y=data.iloc[:, 7:8].values\n",
        "# Splitting the dataset into train and test\n",
        "from sklearn.model_selection import train_test_split\n",
        "X_train, X_test, Y_train, Y_test=train_test_split(X,Y, test_size=0.2, random_state=0)\n",
        "\n",
        "# Feature scalling ---Standardization\n",
        "from sklearn.preprocessing import StandardScaler\n",
        "sc=StandardScaler()\n",
        "X_train=sc.fit_transform(X_train)\n",
        "X_test=sc.transform(X_test)\n",
        "\n",
        "\n",
        "# Model creation ---MLR\n",
        "from sklearn.linear_model import LinearRegression\n",
        "MLR=LinearRegression()\n",
        "MLR.fit(X_train, Y_train) # fit the dataset\n",
        "\n",
        "# Predection ---perfromed on test dataset\n",
        "Y_pred=MLR.predict(X_test)\n",
        "\n",
        "# Evaluate the perfromance \n",
        "# metrics:-r2_score, mse, rmse, mae\n",
        "print('R2_Score---->', r2_score(Y_test, Y_pred)*100)\n",
        "print('MSE is--->',mean_squared_error(Y_test, Y_pred))\n",
        "print('MAE is--->',mean_absolute_error(Y_test, Y_pred))\n",
        "print('RMSE is--->',math.sqrt(mean_squared_error(Y_test, Y_pred)))"
      ]
    },
    {
      "cell_type": "code",
      "execution_count": 334,
      "id": "9d4169f3",
      "metadata": {
        "id": "9d4169f3",
        "outputId": "344eaa5b-ef09-4ae7-a4d4-d775ff071926",
        "colab": {
          "base_uri": "https://localhost:8080/"
        }
      },
      "outputs": [
        {
          "output_type": "stream",
          "name": "stdout",
          "text": [
            "R2_Score----> 24.46321018629063\n",
            "MSE is---> 23421041.847219657\n",
            "MAE is---> 2392.6804761199246\n",
            "RMSE is---> 4839.529093539955\n"
          ]
        }
      ],
      "source": [
        "# predicting tottal traded quantity with opening and low and high price\n",
        "# Extraction of Indep and Dep\n",
        "X= data.iloc[: , [1,3]].values\n",
        "Y=data.iloc[:, 7:8].values\n",
        "# Splitting the dataset into train and test\n",
        "from sklearn.model_selection import train_test_split\n",
        "X_train, X_test, Y_train, Y_test=train_test_split(X,Y, test_size=0.2, random_state=0)\n",
        "\n",
        "# Feature scalling ---Standardization\n",
        "from sklearn.preprocessing import StandardScaler\n",
        "sc=StandardScaler()\n",
        "X_train=sc.fit_transform(X_train)\n",
        "X_test=sc.transform(X_test)\n",
        "\n",
        "\n",
        "# Model creation ---MLR\n",
        "from sklearn.linear_model import LinearRegression\n",
        "MLR=LinearRegression()\n",
        "MLR.fit(X_train, Y_train) # fit the dataset\n",
        "\n",
        "# Predection ---perfromed on test dataset\n",
        "Y_pred=MLR.predict(X_test)\n",
        "\n",
        "# Evaluate the perfromance \n",
        "# metrics:-r2_score, mse, rmse, mae\n",
        "print('R2_Score---->', r2_score(Y_test, Y_pred)*100)\n",
        "print('MSE is--->',mean_squared_error(Y_test, Y_pred))\n",
        "print('MAE is--->',mean_absolute_error(Y_test, Y_pred))\n",
        "print('RMSE is--->',math.sqrt(mean_squared_error(Y_test, Y_pred)))"
      ]
    },
    {
      "cell_type": "code",
      "execution_count": 54,
      "id": "bd3e3cb2",
      "metadata": {
        "id": "bd3e3cb2",
        "outputId": "0b261277-fb06-4c31-dc7d-0a89b0f61298",
        "colab": {
          "base_uri": "https://localhost:8080/"
        }
      },
      "outputs": [
        {
          "output_type": "stream",
          "name": "stdout",
          "text": [
            "R2_Score----> 26.208822494942808\n",
            "MSE is---> 22879794.872986387\n",
            "MAE is---> 2361.235499852742\n",
            "RMSE is---> 4783.282855214229\n"
          ]
        }
      ],
      "source": [
        "# predicting tottal traded quantity with opening and low and high price\n",
        "# Extraction of Indep and Dep\n",
        "X= data.iloc[: , [1,4]].values\n",
        "Y=data.iloc[:, 7:8].values\n",
        "# Splitting the dataset into train and test\n",
        "from sklearn.model_selection import train_test_split\n",
        "X_train, X_test, Y_train, Y_test=train_test_split(X,Y, test_size=0.2, random_state=0)\n",
        "\n",
        "# Feature scalling ---Standardization\n",
        "from sklearn.preprocessing import StandardScaler\n",
        "sc=StandardScaler()\n",
        "X_train=sc.fit_transform(X_train)\n",
        "X_test=sc.transform(X_test)\n",
        "\n",
        "\n",
        "# Model creation ---MLR\n",
        "from sklearn.linear_model import LinearRegression\n",
        "MLR=LinearRegression()\n",
        "MLR.fit(X_train, Y_train) # fit the dataset\n",
        "\n",
        "# Predection ---perfromed on test dataset\n",
        "Y_pred=MLR.predict(X_test)\n",
        "\n",
        "# Evaluate the perfromance \n",
        "# metrics:-r2_score, mse, rmse, mae\n",
        "import math\n",
        "from sklearn.metrics import r2_score\n",
        "from sklearn.metrics import mean_squared_error\n",
        "from sklearn.metrics import mean_absolute_error\n",
        "print('R2_Score---->', r2_score(Y_test, Y_pred)*100)\n",
        "print('MSE is--->',mean_squared_error(Y_test, Y_pred))\n",
        "print('MAE is--->',mean_absolute_error(Y_test, Y_pred))\n",
        "print('RMSE is--->',math.sqrt(mean_squared_error(Y_test, Y_pred)))"
      ]
    },
    {
      "cell_type": "code",
      "execution_count": 335,
      "id": "9e5e66c8",
      "metadata": {
        "id": "9e5e66c8",
        "outputId": "14787c0c-f072-4e51-96a3-8b334e64deb9",
        "colab": {
          "base_uri": "https://localhost:8080/"
        }
      },
      "outputs": [
        {
          "output_type": "stream",
          "name": "stdout",
          "text": [
            "R2_Score----> 25.86168908560661\n",
            "MSE is---> 22987427.539488133\n",
            "MAE is---> 2374.197244361036\n",
            "RMSE is---> 4794.5205745192225\n"
          ]
        }
      ],
      "source": [
        "# predicting tottal traded quantity with opening and low and high price\n",
        "# Extraction of Indep and Dep\n",
        "X= data.iloc[: , [1,5]].values\n",
        "Y=data.iloc[:, 7:8].values\n",
        "# Splitting the dataset into train and test\n",
        "from sklearn.model_selection import train_test_split\n",
        "X_train, X_test, Y_train, Y_test=train_test_split(X,Y, test_size=0.2, random_state=0)\n",
        "\n",
        "# Feature scalling ---Standardization\n",
        "from sklearn.preprocessing import StandardScaler\n",
        "sc=StandardScaler()\n",
        "X_train=sc.fit_transform(X_train)\n",
        "X_test=sc.transform(X_test)\n",
        "\n",
        "\n",
        "# Model creation ---MLR\n",
        "from sklearn.linear_model import LinearRegression\n",
        "MLR=LinearRegression()\n",
        "MLR.fit(X_train, Y_train) # fit the dataset\n",
        "\n",
        "# Predection ---perfromed on test dataset\n",
        "Y_pred=MLR.predict(X_test)\n",
        "\n",
        "# Evaluate the perfromance \n",
        "# metrics:-r2_score, mse, rmse, mae\n",
        "print('R2_Score---->', r2_score(Y_test, Y_pred)*100)\n",
        "print('MSE is--->',mean_squared_error(Y_test, Y_pred))\n",
        "print('MAE is--->',mean_absolute_error(Y_test, Y_pred))\n",
        "print('RMSE is--->',math.sqrt(mean_squared_error(Y_test, Y_pred)))"
      ]
    },
    {
      "cell_type": "code",
      "execution_count": 336,
      "id": "38d86c15",
      "metadata": {
        "id": "38d86c15",
        "outputId": "ab858f25-66e2-4215-c1f0-bcce2ef19f61",
        "colab": {
          "base_uri": "https://localhost:8080/"
        }
      },
      "outputs": [
        {
          "output_type": "stream",
          "name": "stdout",
          "text": [
            "R2_Score----> 96.34461108441985\n",
            "MSE is---> 1133394.9585467747\n",
            "MAE is---> 736.1511957166251\n",
            "RMSE is---> 1064.6102378555142\n"
          ]
        }
      ],
      "source": [
        "# predicting tottal traded quantity with opening and low and high price\n",
        "# Extraction of Indep and Dep\n",
        "X= data.iloc[: , [1,6]].values\n",
        "Y=data.iloc[:, 7:8].values\n",
        "# Splitting the dataset into train and test\n",
        "from sklearn.model_selection import train_test_split\n",
        "X_train, X_test, Y_train, Y_test=train_test_split(X,Y, test_size=0.2, random_state=0)\n",
        "\n",
        "# Feature scalling ---Standardization\n",
        "from sklearn.preprocessing import StandardScaler\n",
        "sc=StandardScaler()\n",
        "X_train=sc.fit_transform(X_train)\n",
        "X_test=sc.transform(X_test)\n",
        "\n",
        "\n",
        "# Model creation ---MLR\n",
        "from sklearn.linear_model import LinearRegression\n",
        "MLR=LinearRegression()\n",
        "MLR.fit(X_train, Y_train) # fit the dataset\n",
        "\n",
        "# Predection ---perfromed on test dataset\n",
        "Y_pred=MLR.predict(X_test)\n",
        "\n",
        "# Evaluate the perfromance \n",
        "# metrics:-r2_score, mse, rmse, mae\n",
        "print('R2_Score---->', r2_score(Y_test, Y_pred)*100)\n",
        "print('MSE is--->',mean_squared_error(Y_test, Y_pred))\n",
        "print('MAE is--->',mean_absolute_error(Y_test, Y_pred))\n",
        "print('RMSE is--->',math.sqrt(mean_squared_error(Y_test, Y_pred)))"
      ]
    },
    {
      "cell_type": "code",
      "execution_count": 337,
      "id": "7bd2e9a7",
      "metadata": {
        "id": "7bd2e9a7",
        "outputId": "3d0c81e4-455e-4c30-fa0b-7f1061cb1a72",
        "colab": {
          "base_uri": "https://localhost:8080/"
        }
      },
      "outputs": [
        {
          "output_type": "stream",
          "name": "stdout",
          "text": [
            "R2_Score----> 28.93405828070105\n",
            "MSE is---> 22034804.484340034\n",
            "MAE is---> 2293.1479643666476\n",
            "RMSE is---> 4694.124464086996\n"
          ]
        }
      ],
      "source": [
        "# predicting tottal traded quantity with opening and low and high price\n",
        "# Extraction of Indep and Dep\n",
        "X= data.iloc[: , [2,3]].values\n",
        "Y=data.iloc[:, 7:8].values\n",
        "# Splitting the dataset into train and test\n",
        "from sklearn.model_selection import train_test_split\n",
        "X_train, X_test, Y_train, Y_test=train_test_split(X,Y, test_size=0.2, random_state=0)\n",
        "\n",
        "# Feature scalling ---Standardization\n",
        "from sklearn.preprocessing import StandardScaler\n",
        "sc=StandardScaler()\n",
        "X_train=sc.fit_transform(X_train)\n",
        "X_test=sc.transform(X_test)\n",
        "\n",
        "\n",
        "# Model creation ---MLR\n",
        "from sklearn.linear_model import LinearRegression\n",
        "MLR=LinearRegression()\n",
        "MLR.fit(X_train, Y_train) # fit the dataset\n",
        "\n",
        "# Predection ---perfromed on test dataset\n",
        "Y_pred=MLR.predict(X_test)\n",
        "\n",
        "# Evaluate the perfromance \n",
        "# metrics:-r2_score, mse, rmse, mae\n",
        "print('R2_Score---->', r2_score(Y_test, Y_pred)*100)\n",
        "print('MSE is--->',mean_squared_error(Y_test, Y_pred))\n",
        "print('MAE is--->',mean_absolute_error(Y_test, Y_pred))\n",
        "print('RMSE is--->',math.sqrt(mean_squared_error(Y_test, Y_pred)))"
      ]
    },
    {
      "cell_type": "code",
      "execution_count": 338,
      "id": "424e5f22",
      "metadata": {
        "id": "424e5f22",
        "outputId": "9746889a-0b9f-4a5f-a4a9-571c817b8085",
        "colab": {
          "base_uri": "https://localhost:8080/"
        }
      },
      "outputs": [
        {
          "output_type": "stream",
          "name": "stdout",
          "text": [
            "R2_Score----> 26.312652454566788\n",
            "MSE is---> 22847601.211654663\n",
            "MAE is---> 2350.765971562203\n",
            "RMSE is---> 4779.916444003458\n"
          ]
        }
      ],
      "source": [
        "# predicting tottal traded quantity with opening and low and high price\n",
        "# Extraction of Indep and Dep\n",
        "X= data.iloc[: , [2,4]].values\n",
        "Y=data.iloc[:, 7:8].values\n",
        "# Splitting the dataset into train and test\n",
        "from sklearn.model_selection import train_test_split\n",
        "X_train, X_test, Y_train, Y_test=train_test_split(X,Y, test_size=0.2, random_state=0)\n",
        "\n",
        "# Feature scalling ---Standardization\n",
        "from sklearn.preprocessing import StandardScaler\n",
        "sc=StandardScaler()\n",
        "X_train=sc.fit_transform(X_train)\n",
        "X_test=sc.transform(X_test)\n",
        "\n",
        "\n",
        "# Model creation ---MLR\n",
        "from sklearn.linear_model import LinearRegression\n",
        "MLR=LinearRegression()\n",
        "MLR.fit(X_train, Y_train) # fit the dataset\n",
        "\n",
        "# Predection ---perfromed on test dataset\n",
        "Y_pred=MLR.predict(X_test)\n",
        "\n",
        "# Evaluate the perfromance \n",
        "# metrics:-r2_score, mse, rmse, mae\n",
        "print('R2_Score---->', r2_score(Y_test, Y_pred)*100)\n",
        "print('MSE is--->',mean_squared_error(Y_test, Y_pred))\n",
        "print('MAE is--->',mean_absolute_error(Y_test, Y_pred))\n",
        "print('RMSE is--->',math.sqrt(mean_squared_error(Y_test, Y_pred)))"
      ]
    },
    {
      "cell_type": "code",
      "execution_count": 339,
      "id": "243a8715",
      "metadata": {
        "colab": {
          "base_uri": "https://localhost:8080/"
        },
        "id": "243a8715",
        "outputId": "fb6acd52-4a19-418f-ceff-c452c1da2ac9"
      },
      "outputs": [
        {
          "output_type": "stream",
          "name": "stdout",
          "text": [
            "R2_Score----> 26.27492852105251\n",
            "MSE is---> 22859297.946817204\n",
            "MAE is---> 2351.708249968783\n",
            "RMSE is---> 4781.139816698232\n"
          ]
        }
      ],
      "source": [
        "# predicting tottal traded quantity with opening and low and high price\n",
        "# Extraction of Indep and Dep\n",
        "X= data.iloc[: , [2,5]].values\n",
        "Y=data.iloc[:, 7:8].values\n",
        "# Splitting the dataset into train and test\n",
        "from sklearn.model_selection import train_test_split\n",
        "X_train, X_test, Y_train, Y_test=train_test_split(X,Y, test_size=0.2, random_state=0)\n",
        "\n",
        "# Feature scalling ---Standardization\n",
        "from sklearn.preprocessing import StandardScaler\n",
        "sc=StandardScaler()\n",
        "X_train=sc.fit_transform(X_train)\n",
        "X_test=sc.transform(X_test)\n",
        "\n",
        "\n",
        "# Model creation ---MLR\n",
        "from sklearn.linear_model import LinearRegression\n",
        "MLR=LinearRegression()\n",
        "MLR.fit(X_train, Y_train) # fit the dataset\n",
        "\n",
        "# Predection ---perfromed on test dataset\n",
        "Y_pred=MLR.predict(X_test)\n",
        "\n",
        "# Evaluate the perfromance \n",
        "# metrics:-r2_score, mse, rmse, mae\n",
        "print('R2_Score---->', r2_score(Y_test, Y_pred)*100)\n",
        "print('MSE is--->',mean_squared_error(Y_test, Y_pred))\n",
        "print('MAE is--->',mean_absolute_error(Y_test, Y_pred))\n",
        "print('RMSE is--->',math.sqrt(mean_squared_error(Y_test, Y_pred)))"
      ]
    },
    {
      "cell_type": "code",
      "execution_count": 340,
      "id": "4fc00627",
      "metadata": {
        "colab": {
          "base_uri": "https://localhost:8080/"
        },
        "id": "4fc00627",
        "outputId": "05c586e5-f35c-46c2-b8a0-e644e7e7f1b1"
      },
      "outputs": [
        {
          "output_type": "stream",
          "name": "stdout",
          "text": [
            "R2_Score----> 96.45163729358097\n",
            "MSE is---> 1100210.2636491787\n",
            "MAE is---> 729.6384693837009\n",
            "RMSE is---> 1048.9090826421414\n"
          ]
        }
      ],
      "source": [
        "# predicting tottal traded quantity with opening and low and high price\n",
        "# Extraction of Indep and Dep\n",
        "X= data.iloc[: , [2,6]].values\n",
        "Y=data.iloc[:, 7:8].values\n",
        "# Splitting the dataset into train and test\n",
        "from sklearn.model_selection import train_test_split\n",
        "X_train, X_test, Y_train, Y_test=train_test_split(X,Y, test_size=0.2, random_state=0)\n",
        "\n",
        "# Feature scalling ---Standardization\n",
        "from sklearn.preprocessing import StandardScaler\n",
        "sc=StandardScaler()\n",
        "X_train=sc.fit_transform(X_train)\n",
        "X_test=sc.transform(X_test)\n",
        "\n",
        "\n",
        "# Model creation ---MLR\n",
        "from sklearn.linear_model import LinearRegression\n",
        "MLR=LinearRegression()\n",
        "MLR.fit(X_train, Y_train) # fit the dataset\n",
        "\n",
        "# Predection ---perfromed on test dataset\n",
        "Y_pred=MLR.predict(X_test)\n",
        "\n",
        "# Evaluate the perfromance \n",
        "# metrics:-r2_score, mse, rmse, mae\n",
        "\n",
        "print('R2_Score---->', r2_score(Y_test, Y_pred)*100)\n",
        "print('MSE is--->',mean_squared_error(Y_test, Y_pred))\n",
        "print('MAE is--->',mean_absolute_error(Y_test, Y_pred))\n",
        "print('RMSE is--->',math.sqrt(mean_squared_error(Y_test, Y_pred)))"
      ]
    },
    {
      "cell_type": "code",
      "execution_count": 341,
      "id": "771d41da",
      "metadata": {
        "colab": {
          "base_uri": "https://localhost:8080/"
        },
        "id": "771d41da",
        "outputId": "c7b47d7f-2aa6-4e20-ac2d-9f72199c968d"
      },
      "outputs": [
        {
          "output_type": "stream",
          "name": "stdout",
          "text": [
            "R2_Score----> 30.792687466403823\n",
            "MSE is---> 21458515.340412077\n",
            "MAE is---> 2307.6127254276194\n",
            "RMSE is---> 4632.333681894265\n"
          ]
        }
      ],
      "source": [
        "# predicting tottal traded quantity with opening and low and high price\n",
        "# Extraction of Indep and Dep\n",
        "X= data.iloc[: , [3,4]].values\n",
        "Y=data.iloc[:, 7:8].values\n",
        "# Splitting the dataset into train and test\n",
        "from sklearn.model_selection import train_test_split\n",
        "X_train, X_test, Y_train, Y_test=train_test_split(X,Y, test_size=0.2, random_state=0)\n",
        "\n",
        "# Feature scalling ---Standardization\n",
        "from sklearn.preprocessing import StandardScaler\n",
        "sc=StandardScaler()\n",
        "X_train=sc.fit_transform(X_train)\n",
        "X_test=sc.transform(X_test)\n",
        "\n",
        "\n",
        "# Model creation ---MLR\n",
        "from sklearn.linear_model import LinearRegression\n",
        "MLR=LinearRegression()\n",
        "MLR.fit(X_train, Y_train) # fit the dataset\n",
        "\n",
        "# Predection ---perfromed on test dataset\n",
        "Y_pred=MLR.predict(X_test)\n",
        "\n",
        "# Evaluate the perfromance \n",
        "# metrics:-r2_score, mse, rmse, mae\n",
        "print('R2_Score---->', r2_score(Y_test, Y_pred)*100)\n",
        "print('MSE is--->',mean_squared_error(Y_test, Y_pred))\n",
        "print('MAE is--->',mean_absolute_error(Y_test, Y_pred))\n",
        "print('RMSE is--->',math.sqrt(mean_squared_error(Y_test, Y_pred)))"
      ]
    },
    {
      "cell_type": "code",
      "execution_count": 342,
      "id": "a9462df8",
      "metadata": {
        "id": "a9462df8",
        "outputId": "e07059c8-2e0c-4aff-8b6a-16076ceda52e",
        "colab": {
          "base_uri": "https://localhost:8080/"
        }
      },
      "outputs": [
        {
          "output_type": "stream",
          "name": "stdout",
          "text": [
            "R2_Score----> 33.234214475218295\n",
            "MSE is---> 20701492.08875435\n",
            "MAE is---> 2259.2456917773306\n",
            "RMSE is---> 4549.889239174328\n"
          ]
        }
      ],
      "source": [
        "# predicting tottal traded quantity with opening and low and high price\n",
        "# Extraction of Indep and Dep\n",
        "X= data.iloc[: , [3,5]].values\n",
        "Y=data.iloc[:, 7:8].values\n",
        "# Splitting the dataset into train and test\n",
        "from sklearn.model_selection import train_test_split\n",
        "X_train, X_test, Y_train, Y_test=train_test_split(X,Y, test_size=0.2, random_state=0)\n",
        "\n",
        "# Feature scalling ---Standardization\n",
        "from sklearn.preprocessing import StandardScaler\n",
        "sc=StandardScaler()\n",
        "X_train=sc.fit_transform(X_train)\n",
        "X_test=sc.transform(X_test)\n",
        "\n",
        "\n",
        "# Model creation ---MLR\n",
        "from sklearn.linear_model import LinearRegression\n",
        "MLR=LinearRegression()\n",
        "MLR.fit(X_train, Y_train) # fit the dataset\n",
        "\n",
        "# Predection ---perfromed on test dataset\n",
        "Y_pred=MLR.predict(X_test)\n",
        "\n",
        "# Evaluate the perfromance \n",
        "# metrics:-r2_score, mse, rmse, mae\n",
        "print('R2_Score---->', r2_score(Y_test, Y_pred)*100)\n",
        "print('MSE is--->',mean_squared_error(Y_test, Y_pred))\n",
        "print('MAE is--->',mean_absolute_error(Y_test, Y_pred))\n",
        "print('RMSE is--->',math.sqrt(mean_squared_error(Y_test, Y_pred)))"
      ]
    },
    {
      "cell_type": "code",
      "execution_count": 343,
      "id": "052a4987",
      "metadata": {
        "colab": {
          "base_uri": "https://localhost:8080/"
        },
        "id": "052a4987",
        "outputId": "3c451974-d06c-487f-9dfe-941dce568963"
      },
      "outputs": [
        {
          "output_type": "stream",
          "name": "stdout",
          "text": [
            "R2_Score----> 96.38135875224417\n",
            "MSE is---> 1122000.9256785007\n",
            "MAE is---> 730.2009708640737\n",
            "RMSE is---> 1059.2454511011604\n"
          ]
        }
      ],
      "source": [
        "# predicting tottal traded quantity with opening and low and high price\n",
        "# Extraction of Indep and Dep\n",
        "X= data.iloc[: , [3,6]].values\n",
        "Y=data.iloc[:, 7:8].values\n",
        "# Splitting the dataset into train and test\n",
        "from sklearn.model_selection import train_test_split\n",
        "X_train, X_test, Y_train, Y_test=train_test_split(X,Y, test_size=0.2, random_state=0)\n",
        "\n",
        "# Feature scalling ---Standardization\n",
        "from sklearn.preprocessing import StandardScaler\n",
        "sc=StandardScaler()\n",
        "X_train=sc.fit_transform(X_train)\n",
        "X_test=sc.transform(X_test)\n",
        "\n",
        "\n",
        "# Model creation ---MLR\n",
        "from sklearn.linear_model import LinearRegression\n",
        "MLR=LinearRegression()\n",
        "MLR.fit(X_train, Y_train) # fit the dataset\n",
        "\n",
        "# Predection ---perfromed on test dataset\n",
        "Y_pred=MLR.predict(X_test)\n",
        "\n",
        "# Evaluate the perfromance \n",
        "# metrics:-r2_score, mse, rmse, mae\n",
        "print('R2_Score---->', r2_score(Y_test, Y_pred)*100)\n",
        "print('MSE is--->',mean_squared_error(Y_test, Y_pred))\n",
        "print('MAE is--->',mean_absolute_error(Y_test, Y_pred))\n",
        "print('RMSE is--->',math.sqrt(mean_squared_error(Y_test, Y_pred)))"
      ]
    },
    {
      "cell_type": "code",
      "execution_count": 344,
      "id": "8b1f4a18",
      "metadata": {
        "id": "8b1f4a18",
        "outputId": "65dcfcad-22fc-4a8c-f583-6d7128a03f05",
        "colab": {
          "base_uri": "https://localhost:8080/"
        }
      },
      "outputs": [
        {
          "output_type": "stream",
          "name": "stdout",
          "text": [
            "R2_Score----> 26.059709202079915\n",
            "MSE is---> 22926029.14744697\n",
            "MAE is---> 2366.339250836012\n",
            "RMSE is---> 4788.113318150164\n"
          ]
        }
      ],
      "source": [
        "# predicting tottal traded quantity with opening and low and high price\n",
        "# Extraction of Indep and Dep\n",
        "X= data.iloc[: , [4,5]].values\n",
        "Y=data.iloc[:, 7:8].values\n",
        "# Splitting the dataset into train and test\n",
        "from sklearn.model_selection import train_test_split\n",
        "X_train, X_test, Y_train, Y_test=train_test_split(X,Y, test_size=0.2, random_state=0)\n",
        "\n",
        "# Feature scalling ---Standardization\n",
        "from sklearn.preprocessing import StandardScaler\n",
        "sc=StandardScaler()\n",
        "X_train=sc.fit_transform(X_train)\n",
        "X_test=sc.transform(X_test)\n",
        "\n",
        "\n",
        "# Model creation ---MLR\n",
        "from sklearn.linear_model import LinearRegression\n",
        "MLR=LinearRegression()\n",
        "MLR.fit(X_train, Y_train) # fit the dataset\n",
        "\n",
        "# Predection ---perfromed on test dataset\n",
        "Y_pred=MLR.predict(X_test)\n",
        "\n",
        "# Evaluate the perfromance \n",
        "# metrics:-r2_score, mse, rmse, mae\n",
        "print('R2_Score---->', r2_score(Y_test, Y_pred)*100)\n",
        "print('MSE is--->',mean_squared_error(Y_test, Y_pred))\n",
        "print('MAE is--->',mean_absolute_error(Y_test, Y_pred))\n",
        "print('RMSE is--->',math.sqrt(mean_squared_error(Y_test, Y_pred)))"
      ]
    },
    {
      "cell_type": "code",
      "execution_count": 345,
      "id": "c2df3e76",
      "metadata": {
        "id": "c2df3e76",
        "outputId": "25e12f45-a29d-4102-918e-fa0f87748604",
        "colab": {
          "base_uri": "https://localhost:8080/"
        }
      },
      "outputs": [
        {
          "output_type": "stream",
          "name": "stdout",
          "text": [
            "R2_Score----> 96.44368420861318\n",
            "MSE is---> 1102676.208208172\n",
            "MAE is---> 725.4897380219065\n",
            "RMSE is---> 1050.0839053181282\n"
          ]
        }
      ],
      "source": [
        "# predicting tottal traded quantity with opening and low and high price\n",
        "# Extraction of Indep and Dep\n",
        "X= data.iloc[: , [4,6]].values\n",
        "Y=data.iloc[:, 7:8].values\n",
        "# Splitting the dataset into train and test\n",
        "from sklearn.model_selection import train_test_split\n",
        "X_train, X_test, Y_train, Y_test=train_test_split(X,Y, test_size=0.2, random_state=0)\n",
        "\n",
        "# Feature scalling ---Standardization\n",
        "from sklearn.preprocessing import StandardScaler\n",
        "sc=StandardScaler()\n",
        "X_train=sc.fit_transform(X_train)\n",
        "X_test=sc.transform(X_test)\n",
        "\n",
        "\n",
        "# Model creation ---MLR\n",
        "from sklearn.linear_model import LinearRegression\n",
        "MLR=LinearRegression()\n",
        "MLR.fit(X_train, Y_train) # fit the dataset\n",
        "\n",
        "# Predection ---perfromed on test dataset\n",
        "Y_pred=MLR.predict(X_test)\n",
        "\n",
        "# Evaluate the perfromance \n",
        "# metrics:-r2_score, mse, rmse, mae\n",
        "print('R2_Score---->', r2_score(Y_test, Y_pred)*100)\n",
        "print('MSE is--->',mean_squared_error(Y_test, Y_pred))\n",
        "print('MAE is--->',mean_absolute_error(Y_test, Y_pred))\n",
        "print('RMSE is--->',math.sqrt(mean_squared_error(Y_test, Y_pred)))"
      ]
    },
    {
      "cell_type": "code",
      "execution_count": 67,
      "id": "3a55c8ca",
      "metadata": {
        "id": "3a55c8ca",
        "outputId": "c0d31766-fde5-493d-a3df-492939ffd555",
        "colab": {
          "base_uri": "https://localhost:8080/"
        }
      },
      "outputs": [
        {
          "output_type": "stream",
          "name": "stdout",
          "text": [
            "R2_Score----> 96.45281378573219\n",
            "MSE is---> 1099845.4788605403\n",
            "MAE is---> 725.3022795791051\n",
            "RMSE is---> 1048.7351805201065\n"
          ]
        }
      ],
      "source": [
        "# predicting tottal traded quantity with opening and low and high price\n",
        "# Extraction of Indep and Dep\n",
        "X= data.iloc[: , [5,6]].values\n",
        "Y=data.iloc[:, 7:8].values\n",
        "# Splitting the dataset into train and test\n",
        "from sklearn.model_selection import train_test_split\n",
        "X_train, X_test, Y_train, Y_test=train_test_split(X,Y, test_size=0.2, random_state=0)\n",
        "\n",
        "# Feature scalling ---Standardization\n",
        "from sklearn.preprocessing import StandardScaler\n",
        "sc=StandardScaler()\n",
        "X_train=sc.fit_transform(X_train)\n",
        "X_test=sc.transform(X_test)\n",
        "\n",
        "\n",
        "# Model creation ---MLR\n",
        "from sklearn.linear_model import LinearRegression\n",
        "MLR=LinearRegression()\n",
        "MLR.fit(X_train, Y_train) # fit the dataset\n",
        "\n",
        "# Predection ---perfromed on test dataset\n",
        "Y_pred=MLR.predict(X_test)\n",
        "\n",
        "# Evaluate the perfromance \n",
        "# metrics:-r2_score, mse, rmse, mae\n",
        "import math\n",
        "from sklearn.metrics import r2_score\n",
        "from sklearn.metrics import mean_squared_error\n",
        "from sklearn.metrics import mean_absolute_error\n",
        "print('R2_Score---->', r2_score(Y_test, Y_pred)*100)\n",
        "print('MSE is--->',mean_squared_error(Y_test, Y_pred))\n",
        "print('MAE is--->',mean_absolute_error(Y_test, Y_pred))\n",
        "print('RMSE is--->',math.sqrt(mean_squared_error(Y_test, Y_pred)))"
      ]
    },
    {
      "cell_type": "code",
      "execution_count": 68,
      "id": "91e15d7b",
      "metadata": {
        "id": "91e15d7b",
        "outputId": "a5154043-db83-4839-8a37-ddcd8bc2b948",
        "colab": {
          "base_uri": "https://localhost:8080/"
        }
      },
      "outputs": [
        {
          "output_type": "stream",
          "name": "stdout",
          "text": [
            "R2_Score----> 28.87971241009215\n",
            "MSE is---> 22051655.040378932\n",
            "MAE is---> 2291.914189633077\n",
            "RMSE is---> 4695.918977194872\n"
          ]
        }
      ],
      "source": [
        "# predicting tottal traded quantity with opening and low and high price\n",
        "# Extraction of Indep and Dep\n",
        "X= data.iloc[: , [1,2,3]].values\n",
        "Y=data.iloc[:, 7:8].values\n",
        "# Splitting the dataset into train and test\n",
        "from sklearn.model_selection import train_test_split\n",
        "X_train, X_test, Y_train, Y_test=train_test_split(X,Y, test_size=0.2, random_state=0)\n",
        "\n",
        "# Feature scalling ---Standardization\n",
        "from sklearn.preprocessing import StandardScaler\n",
        "sc=StandardScaler()\n",
        "X_train=sc.fit_transform(X_train)\n",
        "X_test=sc.transform(X_test)\n",
        "\n",
        "\n",
        "# Model creation ---MLR\n",
        "from sklearn.linear_model import LinearRegression\n",
        "MLR=LinearRegression()\n",
        "MLR.fit(X_train, Y_train) # fit the dataset\n",
        "\n",
        "# Predection ---perfromed on test dataset\n",
        "Y_pred=MLR.predict(X_test)\n",
        "\n",
        "# Evaluate the perfromance \n",
        "# metrics:-r2_score, mse, rmse, mae\n",
        "import math\n",
        "from sklearn.metrics import r2_score\n",
        "from sklearn.metrics import mean_squared_error\n",
        "from sklearn.metrics import mean_absolute_error\n",
        "print('R2_Score---->', r2_score(Y_test, Y_pred)*100)\n",
        "print('MSE is--->',mean_squared_error(Y_test, Y_pred))\n",
        "print('MAE is--->',mean_absolute_error(Y_test, Y_pred))\n",
        "print('RMSE is--->',math.sqrt(mean_squared_error(Y_test, Y_pred)))"
      ]
    },
    {
      "cell_type": "code",
      "execution_count": 69,
      "id": "45a0797c",
      "metadata": {
        "id": "45a0797c",
        "outputId": "cab1e0cc-aa53-47f0-9bb6-a2e9c7fdb202",
        "colab": {
          "base_uri": "https://localhost:8080/"
        }
      },
      "outputs": [
        {
          "output_type": "stream",
          "name": "stdout",
          "text": [
            "R2_Score----> 26.695121804867227\n",
            "MSE is---> 22729012.234273475\n",
            "MAE is---> 2344.9149232204118\n",
            "RMSE is---> 4767.495383770547\n"
          ]
        }
      ],
      "source": [
        "# predicting tottal traded quantity with opening and low and high price\n",
        "# Extraction of Indep and Dep\n",
        "X= data.iloc[: , [1,2,4]].values\n",
        "Y=data.iloc[:, 7:8].values\n",
        "# Splitting the dataset into train and test\n",
        "from sklearn.model_selection import train_test_split\n",
        "X_train, X_test, Y_train, Y_test=train_test_split(X,Y, test_size=0.2, random_state=0)\n",
        "\n",
        "# Feature scalling ---Standardization\n",
        "from sklearn.preprocessing import StandardScaler\n",
        "sc=StandardScaler()\n",
        "X_train=sc.fit_transform(X_train)\n",
        "X_test=sc.transform(X_test)\n",
        "\n",
        "\n",
        "# Model creation ---MLR\n",
        "from sklearn.linear_model import LinearRegression\n",
        "MLR=LinearRegression()\n",
        "MLR.fit(X_train, Y_train) # fit the dataset\n",
        "\n",
        "# Predection ---perfromed on test dataset\n",
        "Y_pred=MLR.predict(X_test)\n",
        "\n",
        "# Evaluate the perfromance \n",
        "# metrics:-r2_score, mse, rmse, mae\n",
        "import math\n",
        "from sklearn.metrics import r2_score\n",
        "from sklearn.metrics import mean_squared_error\n",
        "from sklearn.metrics import mean_absolute_error\n",
        "print('R2_Score---->', r2_score(Y_test, Y_pred)*100)\n",
        "print('MSE is--->',mean_squared_error(Y_test, Y_pred))\n",
        "print('MAE is--->',mean_absolute_error(Y_test, Y_pred))\n",
        "print('RMSE is--->',math.sqrt(mean_squared_error(Y_test, Y_pred)))"
      ]
    },
    {
      "cell_type": "code",
      "execution_count": 70,
      "id": "dfb8915e",
      "metadata": {
        "id": "dfb8915e",
        "outputId": "d888ec5d-d50d-47a5-a416-4e2d9887cf53",
        "colab": {
          "base_uri": "https://localhost:8080/"
        }
      },
      "outputs": [
        {
          "output_type": "stream",
          "name": "stdout",
          "text": [
            "R2_Score----> 26.60146387265787\n",
            "MSE is---> 22758051.942672644\n",
            "MAE is---> 2347.6513185449953\n",
            "RMSE is---> 4770.54000535292\n"
          ]
        }
      ],
      "source": [
        "# predicting tottal traded quantity with opening and low and high price\n",
        "# Extraction of Indep and Dep\n",
        "X= data.iloc[: , [1,2,5]].values\n",
        "Y=data.iloc[:, 7:8].values\n",
        "# Splitting the dataset into train and test\n",
        "from sklearn.model_selection import train_test_split\n",
        "X_train, X_test, Y_train, Y_test=train_test_split(X,Y, test_size=0.2, random_state=0)\n",
        "\n",
        "# Feature scalling ---Standardization\n",
        "from sklearn.preprocessing import StandardScaler\n",
        "sc=StandardScaler()\n",
        "X_train=sc.fit_transform(X_train)\n",
        "X_test=sc.transform(X_test)\n",
        "\n",
        "\n",
        "# Model creation ---MLR\n",
        "from sklearn.linear_model import LinearRegression\n",
        "MLR=LinearRegression()\n",
        "MLR.fit(X_train, Y_train) # fit the dataset\n",
        "\n",
        "# Predection ---perfromed on test dataset\n",
        "Y_pred=MLR.predict(X_test)\n",
        "\n",
        "# Evaluate the perfromance \n",
        "# metrics:-r2_score, mse, rmse, mae\n",
        "import math\n",
        "from sklearn.metrics import r2_score\n",
        "from sklearn.metrics import mean_squared_error\n",
        "from sklearn.metrics import mean_absolute_error\n",
        "print('R2_Score---->', r2_score(Y_test, Y_pred)*100)\n",
        "print('MSE is--->',mean_squared_error(Y_test, Y_pred))\n",
        "print('MAE is--->',mean_absolute_error(Y_test, Y_pred))\n",
        "print('RMSE is--->',math.sqrt(mean_squared_error(Y_test, Y_pred)))"
      ]
    },
    {
      "cell_type": "code",
      "execution_count": 71,
      "id": "cefdeb76",
      "metadata": {
        "colab": {
          "base_uri": "https://localhost:8080/"
        },
        "id": "cefdeb76",
        "outputId": "f3b388a2-73bb-4f58-c22c-9134c26481b9"
      },
      "outputs": [
        {
          "output_type": "stream",
          "name": "stdout",
          "text": [
            "R2_Score----> 96.43834289891915\n",
            "MSE is---> 1104332.3421022845\n",
            "MAE is---> 730.3604622734096\n",
            "RMSE is---> 1050.8721816197651\n"
          ]
        }
      ],
      "source": [
        "# predicting tottal traded quantity with opening and low and high price\n",
        "# Extraction of Indep and Dep\n",
        "X= data.iloc[: , [1,2,6]].values\n",
        "Y=data.iloc[:, 7:8].values\n",
        "# Splitting the dataset into train and test\n",
        "from sklearn.model_selection import train_test_split\n",
        "X_train, X_test, Y_train, Y_test=train_test_split(X,Y, test_size=0.2, random_state=0)\n",
        "\n",
        "# Feature scalling ---Standardization\n",
        "from sklearn.preprocessing import StandardScaler\n",
        "sc=StandardScaler()\n",
        "X_train=sc.fit_transform(X_train)\n",
        "X_test=sc.transform(X_test)\n",
        "\n",
        "\n",
        "# Model creation ---MLR\n",
        "from sklearn.linear_model import LinearRegression\n",
        "MLR=LinearRegression()\n",
        "MLR.fit(X_train, Y_train) # fit the dataset\n",
        "\n",
        "# Predection ---perfromed on test dataset\n",
        "Y_pred=MLR.predict(X_test)\n",
        "\n",
        "# Evaluate the perfromance \n",
        "# metrics:-r2_score, mse, rmse, mae\n",
        "\n",
        "print('R2_Score---->', r2_score(Y_test, Y_pred)*100)\n",
        "print('MSE is--->',mean_squared_error(Y_test, Y_pred))\n",
        "print('MAE is--->',mean_absolute_error(Y_test, Y_pred))\n",
        "print('RMSE is--->',math.sqrt(mean_squared_error(Y_test, Y_pred)))"
      ]
    },
    {
      "cell_type": "code",
      "execution_count": 71,
      "id": "5afb5380",
      "metadata": {
        "id": "5afb5380"
      },
      "outputs": [],
      "source": [
        ""
      ]
    },
    {
      "cell_type": "code",
      "execution_count": 71,
      "id": "0783094e",
      "metadata": {
        "id": "0783094e"
      },
      "outputs": [],
      "source": [
        ""
      ]
    },
    {
      "cell_type": "code",
      "execution_count": 346,
      "id": "66d99970",
      "metadata": {
        "id": "66d99970",
        "outputId": "be919ff8-5131-478a-ec83-cf0cbc190b9b",
        "colab": {
          "base_uri": "https://localhost:8080/"
        }
      },
      "outputs": [
        {
          "output_type": "stream",
          "name": "stdout",
          "text": [
            "         Date    Open    High     Low    Last   Close  Total Trade Quantity  \\\n",
            "0  08/10/2018  208.00  222.25  206.85  216.00  215.15             4642146.0   \n",
            "1  05/10/2018  217.00  218.60  205.90  210.25  209.20             3519515.0   \n",
            "2  04/10/2018  223.50  227.80  216.15  217.25  218.20             1728786.0   \n",
            "3  03/10/2018  230.00  237.50  225.75  226.45  227.60             1708590.0   \n",
            "4  01/10/2018  234.55  234.60  221.05  230.30  230.90             1534749.0   \n",
            "\n",
            "      Turnover stock_price_change_in _percentage  trend  \n",
            "0  10062.83000                            3.4375      2  \n",
            "1   7407.06000                      -3.594470046      1  \n",
            "2   3815.79000                      -2.371364653      1  \n",
            "3   3960.27000                      -1.043478261      1  \n",
            "4   4839.84392                      -1.556171392      1  \n"
          ]
        }
      ],
      "source": [
        "#predicting trend via logistic regression\n",
        "# Extraction of Indep and Dep var\n",
        "X=data.iloc[:, 2:4].values\n",
        "Y=data.iloc[:, 9:].values\n",
        "# Import label encoder \n",
        "from sklearn import preprocessing\n",
        "# label_encoder object knows how to understand word labels. \n",
        "label_encoder = preprocessing.LabelEncoder()\n",
        "# Encode labels in column 'Country'. \n",
        "data['trend']= label_encoder.fit_transform(data['trend']) \n",
        "print(data.head())"
      ]
    },
    {
      "cell_type": "code",
      "execution_count": 347,
      "id": "caed7cb6",
      "metadata": {
        "id": "caed7cb6",
        "outputId": "dc8a8a38-d6d9-436d-e4e8-a5fddf6bcfbf",
        "colab": {
          "base_uri": "https://localhost:8080/"
        }
      },
      "outputs": [
        {
          "output_type": "stream",
          "name": "stdout",
          "text": [
            "<class 'numpy.ndarray'> <class 'numpy.ndarray'>\n"
          ]
        }
      ],
      "source": [
        "print(type(X), type(Y))"
      ]
    },
    {
      "cell_type": "code",
      "execution_count": 348,
      "id": "b002b29c",
      "metadata": {
        "colab": {
          "base_uri": "https://localhost:8080/"
        },
        "id": "b002b29c",
        "outputId": "118978ce-1f93-4655-ecb2-70747b9e1017"
      },
      "outputs": [
        {
          "output_type": "stream",
          "name": "stdout",
          "text": [
            "[[  0   1   0]\n",
            " [  0 134   0]\n",
            " [  0 112   0]]\n",
            "54.25101214574899\n",
            "              precision    recall  f1-score   support\n",
            "\n",
            "           0       0.00      0.00      0.00         1\n",
            "           1       0.54      1.00      0.70       134\n",
            "           2       0.00      0.00      0.00       112\n",
            "\n",
            "    accuracy                           0.54       247\n",
            "   macro avg       0.18      0.33      0.23       247\n",
            "weighted avg       0.29      0.54      0.38       247\n",
            "\n"
          ]
        }
      ],
      "source": [
        "#predicting trend via logistic regression\n",
        "# Extraction of Indep and Dep var\n",
        "X=data.iloc[:, 2:4].values\n",
        "Y=data.iloc[:, 9:].values\n",
        "# Import label encoder \n",
        "from sklearn import preprocessing\n",
        "# label_encoder object knows how to understand word labels. \n",
        "label_encoder = preprocessing.LabelEncoder()\n",
        "# Encode labels in column 'trend'. \n",
        "data['trend']= label_encoder.fit_transform(data['trend']) \n",
        "# split the dataset\n",
        "from sklearn.model_selection import train_test_split\n",
        "X_train, X_test, Y_train, Y_test=train_test_split(X, Y, test_size=0.2, random_state=0)\n",
        "\n",
        "# feature scalling\n",
        "from sklearn.preprocessing import StandardScaler\n",
        "sc=StandardScaler()\n",
        "X_train=sc.fit_transform(X_train)\n",
        "X_test=sc.transform(X_test)\n",
        "\n",
        "# model creation ----Logistic Regression ---Classifcation ---Target column contain Disc\n",
        "from sklearn.linear_model import LogisticRegression\n",
        "LRC=LogisticRegression()\n",
        "LRC.fit(X_train, Y_train)\n",
        "\n",
        "# prediction ---Test dataset---X_test\n",
        "Y_pred=LRC.predict(X_test)\n",
        "# To evaluate the perfromance of model\n",
        "# Creating the confusion matrix\n",
        "from sklearn.metrics import confusion_matrix\n",
        "cm=confusion_matrix(Y_test, Y_pred)\n",
        "print(cm)\n",
        "# Inbuilt method accuracy_score\n",
        "from sklearn.metrics import accuracy_score\n",
        "print(accuracy_score(Y_test, Y_pred)*100)\n",
        "\n",
        "# Complete perfromance report \n",
        "from sklearn.metrics import classification_report\n",
        "print(classification_report(Y_test, Y_pred))\n"
      ]
    },
    {
      "cell_type": "code",
      "execution_count": 75,
      "id": "a58d7fed",
      "metadata": {
        "id": "a58d7fed",
        "outputId": "16ca7eb9-5211-4c57-9786-d6dccb1d262d",
        "colab": {
          "base_uri": "https://localhost:8080/"
        }
      },
      "outputs": [
        {
          "output_type": "stream",
          "name": "stdout",
          "text": [
            "[[  0   1   0]\n",
            " [  0 134   0]\n",
            " [  0 112   0]]\n",
            "54.25101214574899\n",
            "              precision    recall  f1-score   support\n",
            "\n",
            "           0       0.00      0.00      0.00         1\n",
            "           1       0.54      1.00      0.70       134\n",
            "           2       0.00      0.00      0.00       112\n",
            "\n",
            "    accuracy                           0.54       247\n",
            "   macro avg       0.18      0.33      0.23       247\n",
            "weighted avg       0.29      0.54      0.38       247\n",
            "\n"
          ]
        },
        {
          "output_type": "stream",
          "name": "stderr",
          "text": [
            "/usr/local/lib/python3.7/dist-packages/sklearn/utils/validation.py:993: DataConversionWarning: A column-vector y was passed when a 1d array was expected. Please change the shape of y to (n_samples, ), for example using ravel().\n",
            "  y = column_or_1d(y, warn=True)\n",
            "/usr/local/lib/python3.7/dist-packages/sklearn/metrics/_classification.py:1318: UndefinedMetricWarning: Precision and F-score are ill-defined and being set to 0.0 in labels with no predicted samples. Use `zero_division` parameter to control this behavior.\n",
            "  _warn_prf(average, modifier, msg_start, len(result))\n",
            "/usr/local/lib/python3.7/dist-packages/sklearn/metrics/_classification.py:1318: UndefinedMetricWarning: Precision and F-score are ill-defined and being set to 0.0 in labels with no predicted samples. Use `zero_division` parameter to control this behavior.\n",
            "  _warn_prf(average, modifier, msg_start, len(result))\n",
            "/usr/local/lib/python3.7/dist-packages/sklearn/metrics/_classification.py:1318: UndefinedMetricWarning: Precision and F-score are ill-defined and being set to 0.0 in labels with no predicted samples. Use `zero_division` parameter to control this behavior.\n",
            "  _warn_prf(average, modifier, msg_start, len(result))\n"
          ]
        }
      ],
      "source": [
        "#predicting trend via logistic regression\n",
        "# Extraction of Indep and Dep var\n",
        "X=data.iloc[:, 1:2].values\n",
        "Y=data.iloc[:, 9:].values\n",
        "# Import label encoder \n",
        "from sklearn import preprocessing\n",
        "# label_encoder object knows how to understand word labels. \n",
        "label_encoder = preprocessing.LabelEncoder()\n",
        "# Encode labels in column 'trend'. \n",
        "data['trend']= label_encoder.fit_transform(data['trend']) \n",
        "# split the dataset\n",
        "from sklearn.model_selection import train_test_split\n",
        "X_train, X_test, Y_train, Y_test=train_test_split(X, Y, test_size=0.2, random_state=0)\n",
        "\n",
        "# feature scalling\n",
        "from sklearn.preprocessing import StandardScaler\n",
        "sc=StandardScaler()\n",
        "X_train=sc.fit_transform(X_train)\n",
        "X_test=sc.transform(X_test)\n",
        "\n",
        "# model creation ----Logistic Regression ---Classifcation ---Target column contain Disc\n",
        "from sklearn.linear_model import LogisticRegression\n",
        "LRC=LogisticRegression()\n",
        "LRC.fit(X_train, Y_train)\n",
        "\n",
        "# prediction ---Test dataset---X_test\n",
        "Y_pred=LRC.predict(X_test)\n",
        "# To evaluate the perfromance of model\n",
        "# Creating the confusion matrix\n",
        "from sklearn.metrics import confusion_matrix\n",
        "cm=confusion_matrix(Y_test, Y_pred)\n",
        "print(cm)\n",
        "# Inbuilt method accuracy_score\n",
        "from sklearn.metrics import accuracy_score\n",
        "print(accuracy_score(Y_test, Y_pred)*100)\n",
        "\n",
        "# Complete perfromance report \n",
        "from sklearn.metrics import classification_report\n",
        "print(classification_report(Y_test, Y_pred))"
      ]
    },
    {
      "cell_type": "code",
      "execution_count": 76,
      "id": "faf7888d",
      "metadata": {
        "id": "faf7888d",
        "outputId": "d40b6aac-b972-46fb-9daf-b545caeeeec5",
        "colab": {
          "base_uri": "https://localhost:8080/"
        }
      },
      "outputs": [
        {
          "output_type": "stream",
          "name": "stdout",
          "text": [
            "[[  0   1   0]\n",
            " [  0 134   0]\n",
            " [  0 112   0]]\n",
            "54.25101214574899\n",
            "              precision    recall  f1-score   support\n",
            "\n",
            "           0       0.00      0.00      0.00         1\n",
            "           1       0.54      1.00      0.70       134\n",
            "           2       0.00      0.00      0.00       112\n",
            "\n",
            "    accuracy                           0.54       247\n",
            "   macro avg       0.18      0.33      0.23       247\n",
            "weighted avg       0.29      0.54      0.38       247\n",
            "\n"
          ]
        },
        {
          "output_type": "stream",
          "name": "stderr",
          "text": [
            "/usr/local/lib/python3.7/dist-packages/sklearn/utils/validation.py:993: DataConversionWarning: A column-vector y was passed when a 1d array was expected. Please change the shape of y to (n_samples, ), for example using ravel().\n",
            "  y = column_or_1d(y, warn=True)\n",
            "/usr/local/lib/python3.7/dist-packages/sklearn/metrics/_classification.py:1318: UndefinedMetricWarning: Precision and F-score are ill-defined and being set to 0.0 in labels with no predicted samples. Use `zero_division` parameter to control this behavior.\n",
            "  _warn_prf(average, modifier, msg_start, len(result))\n",
            "/usr/local/lib/python3.7/dist-packages/sklearn/metrics/_classification.py:1318: UndefinedMetricWarning: Precision and F-score are ill-defined and being set to 0.0 in labels with no predicted samples. Use `zero_division` parameter to control this behavior.\n",
            "  _warn_prf(average, modifier, msg_start, len(result))\n",
            "/usr/local/lib/python3.7/dist-packages/sklearn/metrics/_classification.py:1318: UndefinedMetricWarning: Precision and F-score are ill-defined and being set to 0.0 in labels with no predicted samples. Use `zero_division` parameter to control this behavior.\n",
            "  _warn_prf(average, modifier, msg_start, len(result))\n"
          ]
        }
      ],
      "source": [
        "#predicting trend via logistic regression\n",
        "# Extraction of Indep and Dep var\n",
        "X=data.iloc[:, 2:3].values\n",
        "Y=data.iloc[:, 9:].values\n",
        "# Import label encoder \n",
        "from sklearn import preprocessing\n",
        "# label_encoder object knows how to understand word labels. \n",
        "label_encoder = preprocessing.LabelEncoder()\n",
        "# Encode labels in column 'trend'. \n",
        "data['trend']= label_encoder.fit_transform(data['trend']) \n",
        "# split the dataset\n",
        "from sklearn.model_selection import train_test_split\n",
        "X_train, X_test, Y_train, Y_test=train_test_split(X, Y, test_size=0.2, random_state=0)\n",
        "\n",
        "# feature scalling\n",
        "from sklearn.preprocessing import StandardScaler\n",
        "sc=StandardScaler()\n",
        "X_train=sc.fit_transform(X_train)\n",
        "X_test=sc.transform(X_test)\n",
        "\n",
        "# model creation ----Logistic Regression ---Classifcation ---Target column contain Disc\n",
        "from sklearn.linear_model import LogisticRegression\n",
        "LRC=LogisticRegression()\n",
        "LRC.fit(X_train, Y_train)\n",
        "\n",
        "# prediction ---Test dataset---X_test\n",
        "Y_pred=LRC.predict(X_test)\n",
        "# To evaluate the perfromance of model\n",
        "# Creating the confusion matrix\n",
        "from sklearn.metrics import confusion_matrix\n",
        "cm=confusion_matrix(Y_test, Y_pred)\n",
        "print(cm)\n",
        "# Inbuilt method accuracy_score\n",
        "from sklearn.metrics import accuracy_score\n",
        "print(accuracy_score(Y_test, Y_pred)*100)\n",
        "\n",
        "# Complete perfromance report \n",
        "from sklearn.metrics import classification_report\n",
        "print(classification_report(Y_test, Y_pred))"
      ]
    },
    {
      "cell_type": "code",
      "execution_count": 77,
      "id": "898b7e00",
      "metadata": {
        "id": "898b7e00",
        "outputId": "19c9ead4-0ff6-46bc-d480-1715bf7522d9",
        "colab": {
          "base_uri": "https://localhost:8080/"
        }
      },
      "outputs": [
        {
          "output_type": "stream",
          "name": "stdout",
          "text": [
            "[[  0   1   0]\n",
            " [  0 134   0]\n",
            " [  0 112   0]]\n",
            "54.25101214574899\n",
            "              precision    recall  f1-score   support\n",
            "\n",
            "           0       0.00      0.00      0.00         1\n",
            "           1       0.54      1.00      0.70       134\n",
            "           2       0.00      0.00      0.00       112\n",
            "\n",
            "    accuracy                           0.54       247\n",
            "   macro avg       0.18      0.33      0.23       247\n",
            "weighted avg       0.29      0.54      0.38       247\n",
            "\n"
          ]
        },
        {
          "output_type": "stream",
          "name": "stderr",
          "text": [
            "/usr/local/lib/python3.7/dist-packages/sklearn/utils/validation.py:993: DataConversionWarning: A column-vector y was passed when a 1d array was expected. Please change the shape of y to (n_samples, ), for example using ravel().\n",
            "  y = column_or_1d(y, warn=True)\n",
            "/usr/local/lib/python3.7/dist-packages/sklearn/metrics/_classification.py:1318: UndefinedMetricWarning: Precision and F-score are ill-defined and being set to 0.0 in labels with no predicted samples. Use `zero_division` parameter to control this behavior.\n",
            "  _warn_prf(average, modifier, msg_start, len(result))\n",
            "/usr/local/lib/python3.7/dist-packages/sklearn/metrics/_classification.py:1318: UndefinedMetricWarning: Precision and F-score are ill-defined and being set to 0.0 in labels with no predicted samples. Use `zero_division` parameter to control this behavior.\n",
            "  _warn_prf(average, modifier, msg_start, len(result))\n",
            "/usr/local/lib/python3.7/dist-packages/sklearn/metrics/_classification.py:1318: UndefinedMetricWarning: Precision and F-score are ill-defined and being set to 0.0 in labels with no predicted samples. Use `zero_division` parameter to control this behavior.\n",
            "  _warn_prf(average, modifier, msg_start, len(result))\n"
          ]
        }
      ],
      "source": [
        "#predicting trend via logistic regression\n",
        "# Extraction of Indep and Dep var\n",
        "X=data.iloc[:, 3:4].values\n",
        "Y=data.iloc[:, 9:].values\n",
        "# Import label encoder \n",
        "from sklearn import preprocessing\n",
        "# label_encoder object knows how to understand word labels. \n",
        "label_encoder = preprocessing.LabelEncoder()\n",
        "# Encode labels in column 'trend'. \n",
        "data['trend']= label_encoder.fit_transform(data['trend']) \n",
        "# split the dataset\n",
        "from sklearn.model_selection import train_test_split\n",
        "X_train, X_test, Y_train, Y_test=train_test_split(X, Y, test_size=0.2, random_state=0)\n",
        "\n",
        "# feature scalling\n",
        "from sklearn.preprocessing import StandardScaler\n",
        "sc=StandardScaler()\n",
        "X_train=sc.fit_transform(X_train)\n",
        "X_test=sc.transform(X_test)\n",
        "\n",
        "# model creation ----Logistic Regression ---Classifcation ---Target column contain Disc\n",
        "from sklearn.linear_model import LogisticRegression\n",
        "LRC=LogisticRegression()\n",
        "LRC.fit(X_train, Y_train)\n",
        "\n",
        "# prediction ---Test dataset---X_test\n",
        "Y_pred=LRC.predict(X_test)\n",
        "# To evaluate the perfromance of model\n",
        "# Creating the confusion matrix\n",
        "from sklearn.metrics import confusion_matrix\n",
        "cm=confusion_matrix(Y_test, Y_pred)\n",
        "print(cm)\n",
        "# Inbuilt method accuracy_score\n",
        "from sklearn.metrics import accuracy_score\n",
        "print(accuracy_score(Y_test, Y_pred)*100)\n",
        "\n",
        "# Complete perfromance report \n",
        "from sklearn.metrics import classification_report\n",
        "print(classification_report(Y_test, Y_pred))"
      ]
    },
    {
      "cell_type": "code",
      "execution_count": 78,
      "id": "3d623d0d",
      "metadata": {
        "id": "3d623d0d",
        "outputId": "b50f88e5-70f3-4085-98b9-c71a6ddc6d7c",
        "colab": {
          "base_uri": "https://localhost:8080/"
        }
      },
      "outputs": [
        {
          "output_type": "stream",
          "name": "stdout",
          "text": [
            "[[  0   1   0]\n",
            " [  0 134   0]\n",
            " [  0 112   0]]\n",
            "54.25101214574899\n",
            "              precision    recall  f1-score   support\n",
            "\n",
            "           0       0.00      0.00      0.00         1\n",
            "           1       0.54      1.00      0.70       134\n",
            "           2       0.00      0.00      0.00       112\n",
            "\n",
            "    accuracy                           0.54       247\n",
            "   macro avg       0.18      0.33      0.23       247\n",
            "weighted avg       0.29      0.54      0.38       247\n",
            "\n"
          ]
        },
        {
          "output_type": "stream",
          "name": "stderr",
          "text": [
            "/usr/local/lib/python3.7/dist-packages/sklearn/utils/validation.py:993: DataConversionWarning: A column-vector y was passed when a 1d array was expected. Please change the shape of y to (n_samples, ), for example using ravel().\n",
            "  y = column_or_1d(y, warn=True)\n",
            "/usr/local/lib/python3.7/dist-packages/sklearn/metrics/_classification.py:1318: UndefinedMetricWarning: Precision and F-score are ill-defined and being set to 0.0 in labels with no predicted samples. Use `zero_division` parameter to control this behavior.\n",
            "  _warn_prf(average, modifier, msg_start, len(result))\n",
            "/usr/local/lib/python3.7/dist-packages/sklearn/metrics/_classification.py:1318: UndefinedMetricWarning: Precision and F-score are ill-defined and being set to 0.0 in labels with no predicted samples. Use `zero_division` parameter to control this behavior.\n",
            "  _warn_prf(average, modifier, msg_start, len(result))\n",
            "/usr/local/lib/python3.7/dist-packages/sklearn/metrics/_classification.py:1318: UndefinedMetricWarning: Precision and F-score are ill-defined and being set to 0.0 in labels with no predicted samples. Use `zero_division` parameter to control this behavior.\n",
            "  _warn_prf(average, modifier, msg_start, len(result))\n"
          ]
        }
      ],
      "source": [
        "#predicting trend via logistic regression\n",
        "# Extraction of Indep and Dep var\n",
        "X=data.iloc[:, 4:5].values\n",
        "Y=data.iloc[:, 9:].values\n",
        "# Import label encoder \n",
        "from sklearn import preprocessing\n",
        "# label_encoder object knows how to understand word labels. \n",
        "label_encoder = preprocessing.LabelEncoder()\n",
        "# Encode labels in column 'trend'. \n",
        "data['trend']= label_encoder.fit_transform(data['trend']) \n",
        "# split the dataset\n",
        "from sklearn.model_selection import train_test_split\n",
        "X_train, X_test, Y_train, Y_test=train_test_split(X, Y, test_size=0.2, random_state=0)\n",
        "\n",
        "# feature scalling\n",
        "from sklearn.preprocessing import StandardScaler\n",
        "sc=StandardScaler()\n",
        "X_train=sc.fit_transform(X_train)\n",
        "X_test=sc.transform(X_test)\n",
        "\n",
        "# model creation ----Logistic Regression ---Classifcation ---Target column contain Disc\n",
        "from sklearn.linear_model import LogisticRegression\n",
        "LRC=LogisticRegression()\n",
        "LRC.fit(X_train, Y_train)\n",
        "\n",
        "# prediction ---Test dataset---X_test\n",
        "Y_pred=LRC.predict(X_test)\n",
        "# To evaluate the perfromance of model\n",
        "# Creating the confusion matrix\n",
        "from sklearn.metrics import confusion_matrix\n",
        "cm=confusion_matrix(Y_test, Y_pred)\n",
        "print(cm)\n",
        "# Inbuilt method accuracy_score\n",
        "from sklearn.metrics import accuracy_score\n",
        "print(accuracy_score(Y_test, Y_pred)*100)\n",
        "\n",
        "# Complete perfromance report \n",
        "from sklearn.metrics import classification_report\n",
        "print(classification_report(Y_test, Y_pred))"
      ]
    },
    {
      "cell_type": "code",
      "execution_count": 79,
      "id": "49f54919",
      "metadata": {
        "colab": {
          "base_uri": "https://localhost:8080/"
        },
        "id": "49f54919",
        "outputId": "faeee2b8-5a5c-478d-eba5-af857f48541a"
      },
      "outputs": [
        {
          "output_type": "stream",
          "name": "stdout",
          "text": [
            "[[  0   1   0]\n",
            " [  0 134   0]\n",
            " [  0 112   0]]\n",
            "54.25101214574899\n",
            "              precision    recall  f1-score   support\n",
            "\n",
            "           0       0.00      0.00      0.00         1\n",
            "           1       0.54      1.00      0.70       134\n",
            "           2       0.00      0.00      0.00       112\n",
            "\n",
            "    accuracy                           0.54       247\n",
            "   macro avg       0.18      0.33      0.23       247\n",
            "weighted avg       0.29      0.54      0.38       247\n",
            "\n"
          ]
        },
        {
          "output_type": "stream",
          "name": "stderr",
          "text": [
            "/usr/local/lib/python3.7/dist-packages/sklearn/utils/validation.py:993: DataConversionWarning: A column-vector y was passed when a 1d array was expected. Please change the shape of y to (n_samples, ), for example using ravel().\n",
            "  y = column_or_1d(y, warn=True)\n",
            "/usr/local/lib/python3.7/dist-packages/sklearn/metrics/_classification.py:1318: UndefinedMetricWarning: Precision and F-score are ill-defined and being set to 0.0 in labels with no predicted samples. Use `zero_division` parameter to control this behavior.\n",
            "  _warn_prf(average, modifier, msg_start, len(result))\n",
            "/usr/local/lib/python3.7/dist-packages/sklearn/metrics/_classification.py:1318: UndefinedMetricWarning: Precision and F-score are ill-defined and being set to 0.0 in labels with no predicted samples. Use `zero_division` parameter to control this behavior.\n",
            "  _warn_prf(average, modifier, msg_start, len(result))\n",
            "/usr/local/lib/python3.7/dist-packages/sklearn/metrics/_classification.py:1318: UndefinedMetricWarning: Precision and F-score are ill-defined and being set to 0.0 in labels with no predicted samples. Use `zero_division` parameter to control this behavior.\n",
            "  _warn_prf(average, modifier, msg_start, len(result))\n"
          ]
        }
      ],
      "source": [
        "#predicting trend via logistic regression\n",
        "# Extraction of Indep and Dep var\n",
        "X=data.iloc[:, 5:6].values\n",
        "Y=data.iloc[:, 9:].values\n",
        "# Import label encoder \n",
        "from sklearn import preprocessing\n",
        "# label_encoder object knows how to understand word labels. \n",
        "label_encoder = preprocessing.LabelEncoder()\n",
        "# Encode labels in column 'trend'. \n",
        "data['trend']= label_encoder.fit_transform(data['trend']) \n",
        "# split the dataset\n",
        "from sklearn.model_selection import train_test_split\n",
        "X_train, X_test, Y_train, Y_test=train_test_split(X, Y, test_size=0.2, random_state=0)\n",
        "\n",
        "# feature scalling\n",
        "from sklearn.preprocessing import StandardScaler\n",
        "sc=StandardScaler()\n",
        "X_train=sc.fit_transform(X_train)\n",
        "X_test=sc.transform(X_test)\n",
        "\n",
        "# model creation ----Logistic Regression ---Classifcation ---Target column contain Disc\n",
        "from sklearn.linear_model import LogisticRegression\n",
        "LRC=LogisticRegression()\n",
        "LRC.fit(X_train, Y_train)\n",
        "\n",
        "# prediction ---Test dataset---X_test\n",
        "Y_pred=LRC.predict(X_test)\n",
        "# To evaluate the perfromance of model\n",
        "# Creating the confusion matrix\n",
        "from sklearn.metrics import confusion_matrix\n",
        "cm=confusion_matrix(Y_test, Y_pred)\n",
        "print(cm)\n",
        "# Inbuilt method accuracy_score\n",
        "from sklearn.metrics import accuracy_score\n",
        "print(accuracy_score(Y_test, Y_pred)*100)\n",
        "\n",
        "# Complete perfromance report \n",
        "from sklearn.metrics import classification_report\n",
        "print(classification_report(Y_test, Y_pred))"
      ]
    },
    {
      "cell_type": "code",
      "execution_count": 80,
      "id": "60620a2d",
      "metadata": {
        "colab": {
          "base_uri": "https://localhost:8080/"
        },
        "id": "60620a2d",
        "outputId": "979a4500-3882-4888-9000-4aaf1bad1d27"
      },
      "outputs": [
        {
          "output_type": "stream",
          "name": "stderr",
          "text": [
            "/usr/local/lib/python3.7/dist-packages/sklearn/utils/validation.py:993: DataConversionWarning: A column-vector y was passed when a 1d array was expected. Please change the shape of y to (n_samples, ), for example using ravel().\n",
            "  y = column_or_1d(y, warn=True)\n"
          ]
        },
        {
          "output_type": "stream",
          "name": "stdout",
          "text": [
            "[[  0   1   0]\n",
            " [  0 123  11]\n",
            " [  0 100  12]]\n",
            "54.655870445344135\n",
            "              precision    recall  f1-score   support\n",
            "\n",
            "           0       0.00      0.00      0.00         1\n",
            "           1       0.55      0.92      0.69       134\n",
            "           2       0.52      0.11      0.18       112\n",
            "\n",
            "    accuracy                           0.55       247\n",
            "   macro avg       0.36      0.34      0.29       247\n",
            "weighted avg       0.53      0.55      0.45       247\n",
            "\n"
          ]
        },
        {
          "output_type": "stream",
          "name": "stderr",
          "text": [
            "/usr/local/lib/python3.7/dist-packages/sklearn/metrics/_classification.py:1318: UndefinedMetricWarning: Precision and F-score are ill-defined and being set to 0.0 in labels with no predicted samples. Use `zero_division` parameter to control this behavior.\n",
            "  _warn_prf(average, modifier, msg_start, len(result))\n",
            "/usr/local/lib/python3.7/dist-packages/sklearn/metrics/_classification.py:1318: UndefinedMetricWarning: Precision and F-score are ill-defined and being set to 0.0 in labels with no predicted samples. Use `zero_division` parameter to control this behavior.\n",
            "  _warn_prf(average, modifier, msg_start, len(result))\n",
            "/usr/local/lib/python3.7/dist-packages/sklearn/metrics/_classification.py:1318: UndefinedMetricWarning: Precision and F-score are ill-defined and being set to 0.0 in labels with no predicted samples. Use `zero_division` parameter to control this behavior.\n",
            "  _warn_prf(average, modifier, msg_start, len(result))\n"
          ]
        }
      ],
      "source": [
        "#predicting trend via logistic regression\n",
        "# Extraction of Indep and Dep var\n",
        "X=data.iloc[:, 6:7].values\n",
        "Y=data.iloc[:, 9:].values\n",
        "# Import label encoder \n",
        "from sklearn import preprocessing\n",
        "# label_encoder object knows how to understand word labels. \n",
        "label_encoder = preprocessing.LabelEncoder()\n",
        "# Encode labels in column 'trend'. \n",
        "data['trend']= label_encoder.fit_transform(data['trend']) \n",
        "# split the dataset\n",
        "from sklearn.model_selection import train_test_split\n",
        "X_train, X_test, Y_train, Y_test=train_test_split(X, Y, test_size=0.2, random_state=0)\n",
        "\n",
        "# feature scalling\n",
        "from sklearn.preprocessing import StandardScaler\n",
        "sc=StandardScaler()\n",
        "X_train=sc.fit_transform(X_train)\n",
        "X_test=sc.transform(X_test)\n",
        "\n",
        "# model creation ----Logistic Regression ---Classifcation ---Target column contain Disc\n",
        "from sklearn.linear_model import LogisticRegression\n",
        "LRC=LogisticRegression()\n",
        "LRC.fit(X_train, Y_train)\n",
        "\n",
        "# prediction ---Test dataset---X_test\n",
        "Y_pred=LRC.predict(X_test)\n",
        "# To evaluate the perfromance of model\n",
        "# Creating the confusion matrix\n",
        "from sklearn.metrics import confusion_matrix\n",
        "cm=confusion_matrix(Y_test, Y_pred)\n",
        "print(cm)\n",
        "# Inbuilt method accuracy_score\n",
        "from sklearn.metrics import accuracy_score\n",
        "print(accuracy_score(Y_test, Y_pred)*100)\n",
        "\n",
        "# Complete perfromance report \n",
        "from sklearn.metrics import classification_report\n",
        "print(classification_report(Y_test, Y_pred))"
      ]
    },
    {
      "cell_type": "code",
      "execution_count": 81,
      "id": "b13cde3e",
      "metadata": {
        "colab": {
          "base_uri": "https://localhost:8080/"
        },
        "id": "b13cde3e",
        "outputId": "b2586fea-7f30-486d-fcac-75232f0d9fe0"
      },
      "outputs": [
        {
          "output_type": "stream",
          "name": "stdout",
          "text": [
            "[[  0   1   0]\n",
            " [  0 128   6]\n",
            " [  0 101  11]]\n",
            "56.2753036437247\n",
            "              precision    recall  f1-score   support\n",
            "\n",
            "           0       0.00      0.00      0.00         1\n",
            "           1       0.56      0.96      0.70       134\n",
            "           2       0.65      0.10      0.17       112\n",
            "\n",
            "    accuracy                           0.56       247\n",
            "   macro avg       0.40      0.35      0.29       247\n",
            "weighted avg       0.60      0.56      0.46       247\n",
            "\n"
          ]
        },
        {
          "output_type": "stream",
          "name": "stderr",
          "text": [
            "/usr/local/lib/python3.7/dist-packages/sklearn/utils/validation.py:993: DataConversionWarning: A column-vector y was passed when a 1d array was expected. Please change the shape of y to (n_samples, ), for example using ravel().\n",
            "  y = column_or_1d(y, warn=True)\n",
            "/usr/local/lib/python3.7/dist-packages/sklearn/metrics/_classification.py:1318: UndefinedMetricWarning: Precision and F-score are ill-defined and being set to 0.0 in labels with no predicted samples. Use `zero_division` parameter to control this behavior.\n",
            "  _warn_prf(average, modifier, msg_start, len(result))\n",
            "/usr/local/lib/python3.7/dist-packages/sklearn/metrics/_classification.py:1318: UndefinedMetricWarning: Precision and F-score are ill-defined and being set to 0.0 in labels with no predicted samples. Use `zero_division` parameter to control this behavior.\n",
            "  _warn_prf(average, modifier, msg_start, len(result))\n",
            "/usr/local/lib/python3.7/dist-packages/sklearn/metrics/_classification.py:1318: UndefinedMetricWarning: Precision and F-score are ill-defined and being set to 0.0 in labels with no predicted samples. Use `zero_division` parameter to control this behavior.\n",
            "  _warn_prf(average, modifier, msg_start, len(result))\n"
          ]
        }
      ],
      "source": [
        "#predicting trend via logistic regression\n",
        "# Extraction of Indep and Dep var\n",
        "X=data.iloc[:, 7:8].values\n",
        "Y=data.iloc[:, 9:].values\n",
        "# Import label encoder \n",
        "from sklearn import preprocessing\n",
        "# label_encoder object knows how to understand word labels. \n",
        "label_encoder = preprocessing.LabelEncoder()\n",
        "# Encode labels in column 'trend'. \n",
        "data['trend']= label_encoder.fit_transform(data['trend']) \n",
        "# split the dataset\n",
        "from sklearn.model_selection import train_test_split\n",
        "X_train, X_test, Y_train, Y_test=train_test_split(X, Y, test_size=0.2, random_state=0)\n",
        "\n",
        "# feature scalling\n",
        "from sklearn.preprocessing import StandardScaler\n",
        "sc=StandardScaler()\n",
        "X_train=sc.fit_transform(X_train)\n",
        "X_test=sc.transform(X_test)\n",
        "\n",
        "# model creation ----Logistic Regression ---Classifcation ---Target column contain Disc\n",
        "from sklearn.linear_model import LogisticRegression\n",
        "LRC=LogisticRegression()\n",
        "LRC.fit(X_train, Y_train)\n",
        "\n",
        "# prediction ---Test dataset---X_test\n",
        "Y_pred=LRC.predict(X_test)\n",
        "# To evaluate the perfromance of model\n",
        "# Creating the confusion matrix\n",
        "from sklearn.metrics import confusion_matrix\n",
        "cm=confusion_matrix(Y_test, Y_pred)\n",
        "print(cm)\n",
        "# Inbuilt method accuracy_score\n",
        "from sklearn.metrics import accuracy_score\n",
        "print(accuracy_score(Y_test, Y_pred)*100)\n",
        "\n",
        "# Complete perfromance report \n",
        "from sklearn.metrics import classification_report\n",
        "print(classification_report(Y_test, Y_pred))"
      ]
    },
    {
      "cell_type": "code",
      "execution_count": 82,
      "id": "9fc52b4b",
      "metadata": {
        "colab": {
          "base_uri": "https://localhost:8080/"
        },
        "id": "9fc52b4b",
        "outputId": "ec4d01f1-0f88-438f-b7dc-853504af83cd"
      },
      "outputs": [
        {
          "output_type": "stream",
          "name": "stdout",
          "text": [
            "[[  0   0   1]\n",
            " [  0 134   0]\n",
            " [  0 106   6]]\n",
            "56.68016194331984\n",
            "              precision    recall  f1-score   support\n",
            "\n",
            "           0       0.00      0.00      0.00         1\n",
            "           1       0.56      1.00      0.72       134\n",
            "           2       0.86      0.05      0.10       112\n",
            "\n",
            "    accuracy                           0.57       247\n",
            "   macro avg       0.47      0.35      0.27       247\n",
            "weighted avg       0.69      0.57      0.43       247\n",
            "\n"
          ]
        },
        {
          "output_type": "stream",
          "name": "stderr",
          "text": [
            "/usr/local/lib/python3.7/dist-packages/sklearn/utils/validation.py:993: DataConversionWarning: A column-vector y was passed when a 1d array was expected. Please change the shape of y to (n_samples, ), for example using ravel().\n",
            "  y = column_or_1d(y, warn=True)\n",
            "/usr/local/lib/python3.7/dist-packages/sklearn/metrics/_classification.py:1318: UndefinedMetricWarning: Precision and F-score are ill-defined and being set to 0.0 in labels with no predicted samples. Use `zero_division` parameter to control this behavior.\n",
            "  _warn_prf(average, modifier, msg_start, len(result))\n",
            "/usr/local/lib/python3.7/dist-packages/sklearn/metrics/_classification.py:1318: UndefinedMetricWarning: Precision and F-score are ill-defined and being set to 0.0 in labels with no predicted samples. Use `zero_division` parameter to control this behavior.\n",
            "  _warn_prf(average, modifier, msg_start, len(result))\n",
            "/usr/local/lib/python3.7/dist-packages/sklearn/metrics/_classification.py:1318: UndefinedMetricWarning: Precision and F-score are ill-defined and being set to 0.0 in labels with no predicted samples. Use `zero_division` parameter to control this behavior.\n",
            "  _warn_prf(average, modifier, msg_start, len(result))\n"
          ]
        }
      ],
      "source": [
        "#predicting trend via logistic regression\n",
        "# Extraction of Indep and Dep var\n",
        "X= data.iloc[: , [1,2]].values\n",
        "Y=data.iloc[:, 9:].values\n",
        "# Import label encoder \n",
        "from sklearn import preprocessing\n",
        "# label_encoder object knows how to understand word labels. \n",
        "label_encoder = preprocessing.LabelEncoder()\n",
        "# Encode labels in column 'trend'. \n",
        "data['trend']= label_encoder.fit_transform(data['trend']) \n",
        "# split the dataset\n",
        "from sklearn.model_selection import train_test_split\n",
        "X_train, X_test, Y_train, Y_test=train_test_split(X, Y, test_size=0.2, random_state=0)\n",
        "\n",
        "# feature scalling\n",
        "from sklearn.preprocessing import StandardScaler\n",
        "sc=StandardScaler()\n",
        "X_train=sc.fit_transform(X_train)\n",
        "X_test=sc.transform(X_test)\n",
        "\n",
        "# model creation ----Logistic Regression ---Classifcation ---Target column contain Disc\n",
        "from sklearn.linear_model import LogisticRegression\n",
        "LRC=LogisticRegression()\n",
        "LRC.fit(X_train, Y_train)\n",
        "\n",
        "# prediction ---Test dataset---X_test\n",
        "Y_pred=LRC.predict(X_test)\n",
        "# To evaluate the perfromance of model\n",
        "# Creating the confusion matrix\n",
        "from sklearn.metrics import confusion_matrix\n",
        "cm=confusion_matrix(Y_test, Y_pred)\n",
        "print(cm)\n",
        "# Inbuilt method accuracy_score\n",
        "from sklearn.metrics import accuracy_score\n",
        "print(accuracy_score(Y_test, Y_pred)*100)\n",
        "\n",
        "# Complete perfromance report \n",
        "from sklearn.metrics import classification_report\n",
        "print(classification_report(Y_test, Y_pred))"
      ]
    },
    {
      "cell_type": "code",
      "execution_count": 83,
      "id": "bdbd4e5d",
      "metadata": {
        "colab": {
          "base_uri": "https://localhost:8080/"
        },
        "id": "bdbd4e5d",
        "outputId": "6d08de7a-b918-4d4b-b8d5-fd00b213c097"
      },
      "outputs": [
        {
          "output_type": "stream",
          "name": "stdout",
          "text": [
            "[[  0   0   1]\n",
            " [  0 134   0]\n",
            " [  0 101  11]]\n",
            "58.70445344129555\n",
            "              precision    recall  f1-score   support\n",
            "\n",
            "           0       0.00      0.00      0.00         1\n",
            "           1       0.57      1.00      0.73       134\n",
            "           2       0.92      0.10      0.18       112\n",
            "\n",
            "    accuracy                           0.59       247\n",
            "   macro avg       0.50      0.37      0.30       247\n",
            "weighted avg       0.73      0.59      0.47       247\n",
            "\n"
          ]
        },
        {
          "output_type": "stream",
          "name": "stderr",
          "text": [
            "/usr/local/lib/python3.7/dist-packages/sklearn/utils/validation.py:993: DataConversionWarning: A column-vector y was passed when a 1d array was expected. Please change the shape of y to (n_samples, ), for example using ravel().\n",
            "  y = column_or_1d(y, warn=True)\n",
            "/usr/local/lib/python3.7/dist-packages/sklearn/metrics/_classification.py:1318: UndefinedMetricWarning: Precision and F-score are ill-defined and being set to 0.0 in labels with no predicted samples. Use `zero_division` parameter to control this behavior.\n",
            "  _warn_prf(average, modifier, msg_start, len(result))\n",
            "/usr/local/lib/python3.7/dist-packages/sklearn/metrics/_classification.py:1318: UndefinedMetricWarning: Precision and F-score are ill-defined and being set to 0.0 in labels with no predicted samples. Use `zero_division` parameter to control this behavior.\n",
            "  _warn_prf(average, modifier, msg_start, len(result))\n",
            "/usr/local/lib/python3.7/dist-packages/sklearn/metrics/_classification.py:1318: UndefinedMetricWarning: Precision and F-score are ill-defined and being set to 0.0 in labels with no predicted samples. Use `zero_division` parameter to control this behavior.\n",
            "  _warn_prf(average, modifier, msg_start, len(result))\n"
          ]
        }
      ],
      "source": [
        "#predicting trend via logistic regression\n",
        "# Extraction of Indep and Dep var\n",
        "X= data.iloc[: , [1,3]].values\n",
        "Y=data.iloc[:, 9:].values\n",
        "# Import label encoder \n",
        "from sklearn import preprocessing\n",
        "# label_encoder object knows how to understand word labels. \n",
        "label_encoder = preprocessing.LabelEncoder()\n",
        "# Encode labels in column 'trend'. \n",
        "data['trend']= label_encoder.fit_transform(data['trend']) \n",
        "# split the dataset\n",
        "from sklearn.model_selection import train_test_split\n",
        "X_train, X_test, Y_train, Y_test=train_test_split(X, Y, test_size=0.2, random_state=0)\n",
        "\n",
        "# feature scalling\n",
        "from sklearn.preprocessing import StandardScaler\n",
        "sc=StandardScaler()\n",
        "X_train=sc.fit_transform(X_train)\n",
        "X_test=sc.transform(X_test)\n",
        "\n",
        "# model creation ----Logistic Regression ---Classifcation ---Target column contain Disc\n",
        "from sklearn.linear_model import LogisticRegression\n",
        "LRC=LogisticRegression()\n",
        "LRC.fit(X_train, Y_train)\n",
        "\n",
        "# prediction ---Test dataset---X_test\n",
        "Y_pred=LRC.predict(X_test)\n",
        "# To evaluate the perfromance of model\n",
        "# Creating the confusion matrix\n",
        "from sklearn.metrics import confusion_matrix\n",
        "cm=confusion_matrix(Y_test, Y_pred)\n",
        "print(cm)\n",
        "# Inbuilt method accuracy_score\n",
        "from sklearn.metrics import accuracy_score\n",
        "print(accuracy_score(Y_test, Y_pred)*100)\n",
        "\n",
        "# Complete perfromance report \n",
        "from sklearn.metrics import classification_report\n",
        "print(classification_report(Y_test, Y_pred))"
      ]
    },
    {
      "cell_type": "code",
      "execution_count": 84,
      "id": "8aa5dc96",
      "metadata": {
        "colab": {
          "base_uri": "https://localhost:8080/"
        },
        "id": "8aa5dc96",
        "outputId": "5639b025-b751-4568-e01d-807cabd3f8fb"
      },
      "outputs": [
        {
          "output_type": "stream",
          "name": "stdout",
          "text": [
            "[[  0   0   1]\n",
            " [  0 134   0]\n",
            " [  0  54  58]]\n",
            "77.7327935222672\n",
            "              precision    recall  f1-score   support\n",
            "\n",
            "           0       0.00      0.00      0.00         1\n",
            "           1       0.71      1.00      0.83       134\n",
            "           2       0.98      0.52      0.68       112\n",
            "\n",
            "    accuracy                           0.78       247\n",
            "   macro avg       0.57      0.51      0.50       247\n",
            "weighted avg       0.83      0.78      0.76       247\n",
            "\n"
          ]
        },
        {
          "output_type": "stream",
          "name": "stderr",
          "text": [
            "/usr/local/lib/python3.7/dist-packages/sklearn/utils/validation.py:993: DataConversionWarning: A column-vector y was passed when a 1d array was expected. Please change the shape of y to (n_samples, ), for example using ravel().\n",
            "  y = column_or_1d(y, warn=True)\n",
            "/usr/local/lib/python3.7/dist-packages/sklearn/metrics/_classification.py:1318: UndefinedMetricWarning: Precision and F-score are ill-defined and being set to 0.0 in labels with no predicted samples. Use `zero_division` parameter to control this behavior.\n",
            "  _warn_prf(average, modifier, msg_start, len(result))\n",
            "/usr/local/lib/python3.7/dist-packages/sklearn/metrics/_classification.py:1318: UndefinedMetricWarning: Precision and F-score are ill-defined and being set to 0.0 in labels with no predicted samples. Use `zero_division` parameter to control this behavior.\n",
            "  _warn_prf(average, modifier, msg_start, len(result))\n",
            "/usr/local/lib/python3.7/dist-packages/sklearn/metrics/_classification.py:1318: UndefinedMetricWarning: Precision and F-score are ill-defined and being set to 0.0 in labels with no predicted samples. Use `zero_division` parameter to control this behavior.\n",
            "  _warn_prf(average, modifier, msg_start, len(result))\n"
          ]
        }
      ],
      "source": [
        "#predicting trend via logistic regression\n",
        "# Extraction of Indep and Dep var\n",
        "X= data.iloc[: , [1,4]].values\n",
        "Y=data.iloc[:, 9:].values\n",
        "# Import label encoder \n",
        "from sklearn import preprocessing\n",
        "# label_encoder object knows how to understand word labels. \n",
        "label_encoder = preprocessing.LabelEncoder()\n",
        "# Encode labels in column 'trend'. \n",
        "data['trend']= label_encoder.fit_transform(data['trend']) \n",
        "# split the dataset\n",
        "from sklearn.model_selection import train_test_split\n",
        "X_train, X_test, Y_train, Y_test=train_test_split(X, Y, test_size=0.2, random_state=0)\n",
        "\n",
        "# feature scalling\n",
        "from sklearn.preprocessing import StandardScaler\n",
        "sc=StandardScaler()\n",
        "X_train=sc.fit_transform(X_train)\n",
        "X_test=sc.transform(X_test)\n",
        "\n",
        "# model creation ----Logistic Regression ---Classifcation ---Target column contain Disc\n",
        "from sklearn.linear_model import LogisticRegression\n",
        "LRC=LogisticRegression()\n",
        "LRC.fit(X_train, Y_train)\n",
        "\n",
        "# prediction ---Test dataset---X_test\n",
        "Y_pred=LRC.predict(X_test)\n",
        "# To evaluate the perfromance of model\n",
        "# Creating the confusion matrix\n",
        "from sklearn.metrics import confusion_matrix\n",
        "cm=confusion_matrix(Y_test, Y_pred)\n",
        "print(cm)\n",
        "# Inbuilt method accuracy_score\n",
        "from sklearn.metrics import accuracy_score\n",
        "print(accuracy_score(Y_test, Y_pred)*100)\n",
        "\n",
        "# Complete perfromance report \n",
        "from sklearn.metrics import classification_report\n",
        "print(classification_report(Y_test, Y_pred))"
      ]
    },
    {
      "cell_type": "code",
      "execution_count": 85,
      "id": "450ace1d",
      "metadata": {
        "colab": {
          "base_uri": "https://localhost:8080/"
        },
        "id": "450ace1d",
        "outputId": "f644cd1c-cc96-49d5-c636-30f5ce9e1225"
      },
      "outputs": [
        {
          "output_type": "stream",
          "name": "stdout",
          "text": [
            "[[  0   0   1]\n",
            " [  0 134   0]\n",
            " [  0  48  64]]\n",
            "80.16194331983806\n",
            "              precision    recall  f1-score   support\n",
            "\n",
            "           0       0.00      0.00      0.00         1\n",
            "           1       0.74      1.00      0.85       134\n",
            "           2       0.98      0.57      0.72       112\n",
            "\n",
            "    accuracy                           0.80       247\n",
            "   macro avg       0.57      0.52      0.52       247\n",
            "weighted avg       0.85      0.80      0.79       247\n",
            "\n"
          ]
        },
        {
          "output_type": "stream",
          "name": "stderr",
          "text": [
            "/usr/local/lib/python3.7/dist-packages/sklearn/utils/validation.py:993: DataConversionWarning: A column-vector y was passed when a 1d array was expected. Please change the shape of y to (n_samples, ), for example using ravel().\n",
            "  y = column_or_1d(y, warn=True)\n",
            "/usr/local/lib/python3.7/dist-packages/sklearn/metrics/_classification.py:1318: UndefinedMetricWarning: Precision and F-score are ill-defined and being set to 0.0 in labels with no predicted samples. Use `zero_division` parameter to control this behavior.\n",
            "  _warn_prf(average, modifier, msg_start, len(result))\n",
            "/usr/local/lib/python3.7/dist-packages/sklearn/metrics/_classification.py:1318: UndefinedMetricWarning: Precision and F-score are ill-defined and being set to 0.0 in labels with no predicted samples. Use `zero_division` parameter to control this behavior.\n",
            "  _warn_prf(average, modifier, msg_start, len(result))\n",
            "/usr/local/lib/python3.7/dist-packages/sklearn/metrics/_classification.py:1318: UndefinedMetricWarning: Precision and F-score are ill-defined and being set to 0.0 in labels with no predicted samples. Use `zero_division` parameter to control this behavior.\n",
            "  _warn_prf(average, modifier, msg_start, len(result))\n"
          ]
        }
      ],
      "source": [
        "#predicting trend via logistic regression\n",
        "# Extraction of Indep and Dep var\n",
        "X= data.iloc[: , [1,5]].values\n",
        "Y=data.iloc[:, 9:].values\n",
        "# Import label encoder \n",
        "from sklearn import preprocessing\n",
        "# label_encoder object knows how to understand word labels. \n",
        "label_encoder = preprocessing.LabelEncoder()\n",
        "# Encode labels in column 'trend'. \n",
        "data['trend']= label_encoder.fit_transform(data['trend']) \n",
        "# split the dataset\n",
        "from sklearn.model_selection import train_test_split\n",
        "X_train, X_test, Y_train, Y_test=train_test_split(X, Y, test_size=0.2, random_state=0)\n",
        "\n",
        "# feature scalling\n",
        "from sklearn.preprocessing import StandardScaler\n",
        "sc=StandardScaler()\n",
        "X_train=sc.fit_transform(X_train)\n",
        "X_test=sc.transform(X_test)\n",
        "\n",
        "# model creation ----Logistic Regression ---Classifcation ---Target column contain Disc\n",
        "from sklearn.linear_model import LogisticRegression\n",
        "LRC=LogisticRegression()\n",
        "LRC.fit(X_train, Y_train)\n",
        "\n",
        "# prediction ---Test dataset---X_test\n",
        "Y_pred=LRC.predict(X_test)\n",
        "# To evaluate the perfromance of model\n",
        "# Creating the confusion matrix\n",
        "from sklearn.metrics import confusion_matrix\n",
        "cm=confusion_matrix(Y_test, Y_pred)\n",
        "print(cm)\n",
        "# Inbuilt method accuracy_score\n",
        "from sklearn.metrics import accuracy_score\n",
        "print(accuracy_score(Y_test, Y_pred)*100)\n",
        "\n",
        "# Complete perfromance report \n",
        "from sklearn.metrics import classification_report\n",
        "print(classification_report(Y_test, Y_pred))"
      ]
    },
    {
      "cell_type": "code",
      "execution_count": 86,
      "id": "3f09b60d",
      "metadata": {
        "colab": {
          "base_uri": "https://localhost:8080/"
        },
        "id": "3f09b60d",
        "outputId": "07346e11-048d-44ff-ac2a-ddb56efa678e"
      },
      "outputs": [
        {
          "output_type": "stream",
          "name": "stdout",
          "text": [
            "[[  0   1   0]\n",
            " [  0 123  11]\n",
            " [  0  98  14]]\n",
            "55.465587044534416\n",
            "              precision    recall  f1-score   support\n",
            "\n",
            "           0       0.00      0.00      0.00         1\n",
            "           1       0.55      0.92      0.69       134\n",
            "           2       0.56      0.12      0.20       112\n",
            "\n",
            "    accuracy                           0.55       247\n",
            "   macro avg       0.37      0.35      0.30       247\n",
            "weighted avg       0.55      0.55      0.47       247\n",
            "\n"
          ]
        },
        {
          "output_type": "stream",
          "name": "stderr",
          "text": [
            "/usr/local/lib/python3.7/dist-packages/sklearn/utils/validation.py:993: DataConversionWarning: A column-vector y was passed when a 1d array was expected. Please change the shape of y to (n_samples, ), for example using ravel().\n",
            "  y = column_or_1d(y, warn=True)\n",
            "/usr/local/lib/python3.7/dist-packages/sklearn/metrics/_classification.py:1318: UndefinedMetricWarning: Precision and F-score are ill-defined and being set to 0.0 in labels with no predicted samples. Use `zero_division` parameter to control this behavior.\n",
            "  _warn_prf(average, modifier, msg_start, len(result))\n",
            "/usr/local/lib/python3.7/dist-packages/sklearn/metrics/_classification.py:1318: UndefinedMetricWarning: Precision and F-score are ill-defined and being set to 0.0 in labels with no predicted samples. Use `zero_division` parameter to control this behavior.\n",
            "  _warn_prf(average, modifier, msg_start, len(result))\n",
            "/usr/local/lib/python3.7/dist-packages/sklearn/metrics/_classification.py:1318: UndefinedMetricWarning: Precision and F-score are ill-defined and being set to 0.0 in labels with no predicted samples. Use `zero_division` parameter to control this behavior.\n",
            "  _warn_prf(average, modifier, msg_start, len(result))\n"
          ]
        }
      ],
      "source": [
        "#predicting trend via logistic regression\n",
        "# Extraction of Indep and Dep var\n",
        "X= data.iloc[: , [1,6]].values\n",
        "Y=data.iloc[:, 9:].values\n",
        "# Import label encoder \n",
        "from sklearn import preprocessing\n",
        "# label_encoder object knows how to understand word labels. \n",
        "label_encoder = preprocessing.LabelEncoder()\n",
        "# Encode labels in column 'trend'. \n",
        "data['trend']= label_encoder.fit_transform(data['trend']) \n",
        "# split the dataset\n",
        "from sklearn.model_selection import train_test_split\n",
        "X_train, X_test, Y_train, Y_test=train_test_split(X, Y, test_size=0.2, random_state=0)\n",
        "\n",
        "# feature scalling\n",
        "from sklearn.preprocessing import StandardScaler\n",
        "sc=StandardScaler()\n",
        "X_train=sc.fit_transform(X_train)\n",
        "X_test=sc.transform(X_test)\n",
        "\n",
        "# model creation ----Logistic Regression ---Classifcation ---Target column contain Disc\n",
        "from sklearn.linear_model import LogisticRegression\n",
        "LRC=LogisticRegression()\n",
        "LRC.fit(X_train, Y_train)\n",
        "\n",
        "# prediction ---Test dataset---X_test\n",
        "Y_pred=LRC.predict(X_test)\n",
        "# To evaluate the perfromance of model\n",
        "# Creating the confusion matrix\n",
        "from sklearn.metrics import confusion_matrix\n",
        "cm=confusion_matrix(Y_test, Y_pred)\n",
        "print(cm)\n",
        "# Inbuilt method accuracy_score\n",
        "from sklearn.metrics import accuracy_score\n",
        "print(accuracy_score(Y_test, Y_pred)*100)\n",
        "\n",
        "# Complete perfromance report \n",
        "from sklearn.metrics import classification_report\n",
        "print(classification_report(Y_test, Y_pred))"
      ]
    },
    {
      "cell_type": "code",
      "execution_count": 87,
      "id": "8bcbc20a",
      "metadata": {
        "colab": {
          "base_uri": "https://localhost:8080/"
        },
        "id": "8bcbc20a",
        "outputId": "645261e1-1911-470e-d804-4ae2e040f8ff"
      },
      "outputs": [
        {
          "output_type": "stream",
          "name": "stdout",
          "text": [
            "[[  0   1   0]\n",
            " [  0 125   9]\n",
            " [  0 100  12]]\n",
            "55.465587044534416\n",
            "              precision    recall  f1-score   support\n",
            "\n",
            "           0       0.00      0.00      0.00         1\n",
            "           1       0.55      0.93      0.69       134\n",
            "           2       0.57      0.11      0.18       112\n",
            "\n",
            "    accuracy                           0.55       247\n",
            "   macro avg       0.37      0.35      0.29       247\n",
            "weighted avg       0.56      0.55      0.46       247\n",
            "\n"
          ]
        },
        {
          "output_type": "stream",
          "name": "stderr",
          "text": [
            "/usr/local/lib/python3.7/dist-packages/sklearn/utils/validation.py:993: DataConversionWarning: A column-vector y was passed when a 1d array was expected. Please change the shape of y to (n_samples, ), for example using ravel().\n",
            "  y = column_or_1d(y, warn=True)\n",
            "/usr/local/lib/python3.7/dist-packages/sklearn/metrics/_classification.py:1318: UndefinedMetricWarning: Precision and F-score are ill-defined and being set to 0.0 in labels with no predicted samples. Use `zero_division` parameter to control this behavior.\n",
            "  _warn_prf(average, modifier, msg_start, len(result))\n",
            "/usr/local/lib/python3.7/dist-packages/sklearn/metrics/_classification.py:1318: UndefinedMetricWarning: Precision and F-score are ill-defined and being set to 0.0 in labels with no predicted samples. Use `zero_division` parameter to control this behavior.\n",
            "  _warn_prf(average, modifier, msg_start, len(result))\n",
            "/usr/local/lib/python3.7/dist-packages/sklearn/metrics/_classification.py:1318: UndefinedMetricWarning: Precision and F-score are ill-defined and being set to 0.0 in labels with no predicted samples. Use `zero_division` parameter to control this behavior.\n",
            "  _warn_prf(average, modifier, msg_start, len(result))\n"
          ]
        }
      ],
      "source": [
        "#predicting trend via logistic regression\n",
        "# Extraction of Indep and Dep var\n",
        "X= data.iloc[: , [1,7]].values\n",
        "Y=data.iloc[:, 9:].values\n",
        "# Import label encoder \n",
        "from sklearn import preprocessing\n",
        "# label_encoder object knows how to understand word labels. \n",
        "label_encoder = preprocessing.LabelEncoder()\n",
        "# Encode labels in column 'trend'. \n",
        "data['trend']= label_encoder.fit_transform(data['trend']) \n",
        "# split the dataset\n",
        "from sklearn.model_selection import train_test_split\n",
        "X_train, X_test, Y_train, Y_test=train_test_split(X, Y, test_size=0.2, random_state=0)\n",
        "\n",
        "# feature scalling\n",
        "from sklearn.preprocessing import StandardScaler\n",
        "sc=StandardScaler()\n",
        "X_train=sc.fit_transform(X_train)\n",
        "X_test=sc.transform(X_test)\n",
        "\n",
        "# model creation ----Logistic Regression ---Classifcation ---Target column contain Disc\n",
        "from sklearn.linear_model import LogisticRegression\n",
        "LRC=LogisticRegression()\n",
        "LRC.fit(X_train, Y_train)\n",
        "\n",
        "# prediction ---Test dataset---X_test\n",
        "Y_pred=LRC.predict(X_test)\n",
        "# To evaluate the perfromance of model\n",
        "# Creating the confusion matrix\n",
        "from sklearn.metrics import confusion_matrix\n",
        "cm=confusion_matrix(Y_test, Y_pred)\n",
        "print(cm)\n",
        "# Inbuilt method accuracy_score\n",
        "from sklearn.metrics import accuracy_score\n",
        "print(accuracy_score(Y_test, Y_pred)*100)\n",
        "\n",
        "# Complete perfromance report \n",
        "from sklearn.metrics import classification_report\n",
        "print(classification_report(Y_test, Y_pred))"
      ]
    },
    {
      "cell_type": "code",
      "execution_count": 88,
      "id": "e601e93d",
      "metadata": {
        "colab": {
          "base_uri": "https://localhost:8080/"
        },
        "id": "e601e93d",
        "outputId": "74dc5674-bec3-4b4f-ef34-a1bda65573d7"
      },
      "outputs": [
        {
          "output_type": "stream",
          "name": "stderr",
          "text": [
            "/usr/local/lib/python3.7/dist-packages/sklearn/utils/validation.py:993: DataConversionWarning: A column-vector y was passed when a 1d array was expected. Please change the shape of y to (n_samples, ), for example using ravel().\n",
            "  y = column_or_1d(y, warn=True)\n"
          ]
        },
        {
          "output_type": "stream",
          "name": "stdout",
          "text": [
            "[[  1   0   0]\n",
            " [  0 134   0]\n",
            " [  0  94  18]]\n",
            "61.943319838056674\n",
            "              precision    recall  f1-score   support\n",
            "\n",
            "           0       1.00      1.00      1.00         1\n",
            "           1       0.59      1.00      0.74       134\n",
            "           2       1.00      0.16      0.28       112\n",
            "\n",
            "    accuracy                           0.62       247\n",
            "   macro avg       0.86      0.72      0.67       247\n",
            "weighted avg       0.78      0.62      0.53       247\n",
            "\n"
          ]
        }
      ],
      "source": [
        "#predicting trend via logistic regression\n",
        "# Extraction of Indep and Dep var\n",
        "X= data.iloc[: , [1,2,3]].values\n",
        "Y=data.iloc[:, 9:].values\n",
        "# Import label encoder \n",
        "from sklearn import preprocessing\n",
        "# label_encoder object knows how to understand word labels. \n",
        "label_encoder = preprocessing.LabelEncoder()\n",
        "# Encode labels in column 'trend'. \n",
        "data['trend']= label_encoder.fit_transform(data['trend']) \n",
        "# split the dataset\n",
        "from sklearn.model_selection import train_test_split\n",
        "X_train, X_test, Y_train, Y_test=train_test_split(X, Y, test_size=0.2, random_state=0)\n",
        "\n",
        "# feature scalling\n",
        "from sklearn.preprocessing import StandardScaler\n",
        "sc=StandardScaler()\n",
        "X_train=sc.fit_transform(X_train)\n",
        "X_test=sc.transform(X_test)\n",
        "\n",
        "# model creation ----Logistic Regression ---Classifcation ---Target column contain Disc\n",
        "from sklearn.linear_model import LogisticRegression\n",
        "LRC=LogisticRegression()\n",
        "LRC.fit(X_train, Y_train)\n",
        "\n",
        "# prediction ---Test dataset---X_test\n",
        "Y_pred=LRC.predict(X_test)\n",
        "# To evaluate the perfromance of model\n",
        "# Creating the confusion matrix\n",
        "from sklearn.metrics import confusion_matrix\n",
        "cm=confusion_matrix(Y_test, Y_pred)\n",
        "print(cm)\n",
        "# Inbuilt method accuracy_score\n",
        "from sklearn.metrics import accuracy_score\n",
        "print(accuracy_score(Y_test, Y_pred)*100)\n",
        "\n",
        "# Complete perfromance report \n",
        "from sklearn.metrics import classification_report\n",
        "print(classification_report(Y_test, Y_pred))"
      ]
    },
    {
      "cell_type": "code",
      "execution_count": 89,
      "id": "c5c69a00",
      "metadata": {
        "colab": {
          "base_uri": "https://localhost:8080/"
        },
        "id": "c5c69a00",
        "outputId": "8bfdd9fd-503a-4ea1-a560-ea8c195d85f7"
      },
      "outputs": [
        {
          "output_type": "stream",
          "name": "stdout",
          "text": [
            "[[  0   0   1]\n",
            " [  0 134   0]\n",
            " [  0 106   6]]\n",
            "56.68016194331984\n",
            "              precision    recall  f1-score   support\n",
            "\n",
            "           0       0.00      0.00      0.00         1\n",
            "           1       0.56      1.00      0.72       134\n",
            "           2       0.86      0.05      0.10       112\n",
            "\n",
            "    accuracy                           0.57       247\n",
            "   macro avg       0.47      0.35      0.27       247\n",
            "weighted avg       0.69      0.57      0.43       247\n",
            "\n"
          ]
        },
        {
          "output_type": "stream",
          "name": "stderr",
          "text": [
            "/usr/local/lib/python3.7/dist-packages/sklearn/utils/validation.py:993: DataConversionWarning: A column-vector y was passed when a 1d array was expected. Please change the shape of y to (n_samples, ), for example using ravel().\n",
            "  y = column_or_1d(y, warn=True)\n",
            "/usr/local/lib/python3.7/dist-packages/sklearn/metrics/_classification.py:1318: UndefinedMetricWarning: Precision and F-score are ill-defined and being set to 0.0 in labels with no predicted samples. Use `zero_division` parameter to control this behavior.\n",
            "  _warn_prf(average, modifier, msg_start, len(result))\n",
            "/usr/local/lib/python3.7/dist-packages/sklearn/metrics/_classification.py:1318: UndefinedMetricWarning: Precision and F-score are ill-defined and being set to 0.0 in labels with no predicted samples. Use `zero_division` parameter to control this behavior.\n",
            "  _warn_prf(average, modifier, msg_start, len(result))\n",
            "/usr/local/lib/python3.7/dist-packages/sklearn/metrics/_classification.py:1318: UndefinedMetricWarning: Precision and F-score are ill-defined and being set to 0.0 in labels with no predicted samples. Use `zero_division` parameter to control this behavior.\n",
            "  _warn_prf(average, modifier, msg_start, len(result))\n"
          ]
        }
      ],
      "source": [
        "#predicting trend via logistic regression\n",
        "# Extraction of Indep and Dep var\n",
        "X= data.iloc[: , [1,2.4]].values\n",
        "Y=data.iloc[:, 9:].values\n",
        "# Import label encoder \n",
        "from sklearn import preprocessing\n",
        "# label_encoder object knows how to understand word labels. \n",
        "label_encoder = preprocessing.LabelEncoder()\n",
        "# Encode labels in column 'trend'. \n",
        "data['trend']= label_encoder.fit_transform(data['trend']) \n",
        "# split the dataset\n",
        "from sklearn.model_selection import train_test_split\n",
        "X_train, X_test, Y_train, Y_test=train_test_split(X, Y, test_size=0.2, random_state=0)\n",
        "\n",
        "# feature scalling\n",
        "from sklearn.preprocessing import StandardScaler\n",
        "sc=StandardScaler()\n",
        "X_train=sc.fit_transform(X_train)\n",
        "X_test=sc.transform(X_test)\n",
        "\n",
        "# model creation ----Logistic Regression ---Classifcation ---Target column contain Disc\n",
        "from sklearn.linear_model import LogisticRegression\n",
        "LRC=LogisticRegression()\n",
        "LRC.fit(X_train, Y_train)\n",
        "\n",
        "# prediction ---Test dataset---X_test\n",
        "Y_pred=LRC.predict(X_test)\n",
        "# To evaluate the perfromance of model\n",
        "# Creating the confusion matrix\n",
        "from sklearn.metrics import confusion_matrix\n",
        "cm=confusion_matrix(Y_test, Y_pred)\n",
        "print(cm)\n",
        "# Inbuilt method accuracy_score\n",
        "from sklearn.metrics import accuracy_score\n",
        "print(accuracy_score(Y_test, Y_pred)*100)\n",
        "\n",
        "# Complete perfromance report \n",
        "from sklearn.metrics import classification_report\n",
        "print(classification_report(Y_test, Y_pred))"
      ]
    },
    {
      "cell_type": "code",
      "execution_count": 90,
      "id": "8bcfa9f5",
      "metadata": {
        "colab": {
          "base_uri": "https://localhost:8080/"
        },
        "id": "8bcfa9f5",
        "outputId": "ed8cbcc0-a1c7-4248-ba5a-2c9550969422"
      },
      "outputs": [
        {
          "output_type": "stream",
          "name": "stdout",
          "text": [
            "[[  0   0   1]\n",
            " [  0 134   0]\n",
            " [  0  46  66]]\n",
            "80.97165991902834\n",
            "              precision    recall  f1-score   support\n",
            "\n",
            "           0       0.00      0.00      0.00         1\n",
            "           1       0.74      1.00      0.85       134\n",
            "           2       0.99      0.59      0.74       112\n",
            "\n",
            "    accuracy                           0.81       247\n",
            "   macro avg       0.58      0.53      0.53       247\n",
            "weighted avg       0.85      0.81      0.80       247\n",
            "\n"
          ]
        },
        {
          "output_type": "stream",
          "name": "stderr",
          "text": [
            "/usr/local/lib/python3.7/dist-packages/sklearn/utils/validation.py:993: DataConversionWarning: A column-vector y was passed when a 1d array was expected. Please change the shape of y to (n_samples, ), for example using ravel().\n",
            "  y = column_or_1d(y, warn=True)\n",
            "/usr/local/lib/python3.7/dist-packages/sklearn/metrics/_classification.py:1318: UndefinedMetricWarning: Precision and F-score are ill-defined and being set to 0.0 in labels with no predicted samples. Use `zero_division` parameter to control this behavior.\n",
            "  _warn_prf(average, modifier, msg_start, len(result))\n",
            "/usr/local/lib/python3.7/dist-packages/sklearn/metrics/_classification.py:1318: UndefinedMetricWarning: Precision and F-score are ill-defined and being set to 0.0 in labels with no predicted samples. Use `zero_division` parameter to control this behavior.\n",
            "  _warn_prf(average, modifier, msg_start, len(result))\n",
            "/usr/local/lib/python3.7/dist-packages/sklearn/metrics/_classification.py:1318: UndefinedMetricWarning: Precision and F-score are ill-defined and being set to 0.0 in labels with no predicted samples. Use `zero_division` parameter to control this behavior.\n",
            "  _warn_prf(average, modifier, msg_start, len(result))\n"
          ]
        }
      ],
      "source": [
        "#predicting trend via logistic regression\n",
        "# Extraction of Indep and Dep var\n",
        "X= data.iloc[: , [1,2,5]].values\n",
        "Y=data.iloc[:, 9:].values\n",
        "# Import label encoder \n",
        "from sklearn import preprocessing\n",
        "# label_encoder object knows how to understand word labels. \n",
        "label_encoder = preprocessing.LabelEncoder()\n",
        "# Encode labels in column 'trend'. \n",
        "data['trend']= label_encoder.fit_transform(data['trend']) \n",
        "# split the dataset\n",
        "from sklearn.model_selection import train_test_split\n",
        "X_train, X_test, Y_train, Y_test=train_test_split(X, Y, test_size=0.2, random_state=0)\n",
        "\n",
        "# feature scalling\n",
        "from sklearn.preprocessing import StandardScaler\n",
        "sc=StandardScaler()\n",
        "X_train=sc.fit_transform(X_train)\n",
        "X_test=sc.transform(X_test)\n",
        "\n",
        "# model creation ----Logistic Regression ---Classifcation ---Target column contain Disc\n",
        "from sklearn.linear_model import LogisticRegression\n",
        "LRC=LogisticRegression()\n",
        "LRC.fit(X_train, Y_train)\n",
        "\n",
        "# prediction ---Test dataset---X_test\n",
        "Y_pred=LRC.predict(X_test)\n",
        "# To evaluate the perfromance of model\n",
        "# Creating the confusion matrix\n",
        "from sklearn.metrics import confusion_matrix\n",
        "cm=confusion_matrix(Y_test, Y_pred)\n",
        "print(cm)\n",
        "# Inbuilt method accuracy_score\n",
        "from sklearn.metrics import accuracy_score\n",
        "print(accuracy_score(Y_test, Y_pred)*100)\n",
        "\n",
        "# Complete perfromance report \n",
        "from sklearn.metrics import classification_report\n",
        "print(classification_report(Y_test, Y_pred))"
      ]
    },
    {
      "cell_type": "code",
      "execution_count": 91,
      "id": "212233d0",
      "metadata": {
        "colab": {
          "base_uri": "https://localhost:8080/"
        },
        "id": "212233d0",
        "outputId": "0c309436-a0b3-4007-d053-7aefb1239dd3"
      },
      "outputs": [
        {
          "output_type": "stream",
          "name": "stdout",
          "text": [
            "[[  1   0   0]\n",
            " [  0 132   2]\n",
            " [  0  41  71]]\n",
            "82.5910931174089\n",
            "              precision    recall  f1-score   support\n",
            "\n",
            "           0       1.00      1.00      1.00         1\n",
            "           1       0.76      0.99      0.86       134\n",
            "           2       0.97      0.63      0.77       112\n",
            "\n",
            "    accuracy                           0.83       247\n",
            "   macro avg       0.91      0.87      0.88       247\n",
            "weighted avg       0.86      0.83      0.82       247\n",
            "\n"
          ]
        },
        {
          "output_type": "stream",
          "name": "stderr",
          "text": [
            "/usr/local/lib/python3.7/dist-packages/sklearn/utils/validation.py:993: DataConversionWarning: A column-vector y was passed when a 1d array was expected. Please change the shape of y to (n_samples, ), for example using ravel().\n",
            "  y = column_or_1d(y, warn=True)\n"
          ]
        }
      ],
      "source": [
        "#predicting trend via logistic regression\n",
        "# Extraction of Indep and Dep var\n",
        "X= data.iloc[: , [1,2,3,4,5,6]].values\n",
        "Y=data.iloc[:, 9:].values\n",
        "# Import label encoder \n",
        "from sklearn import preprocessing\n",
        "# label_encoder object knows how to understand word labels. \n",
        "label_encoder = preprocessing.LabelEncoder()\n",
        "# Encode labels in column 'trend'. \n",
        "data['trend']= label_encoder.fit_transform(data['trend']) \n",
        "# split the dataset\n",
        "from sklearn.model_selection import train_test_split\n",
        "X_train, X_test, Y_train, Y_test=train_test_split(X, Y, test_size=0.2, random_state=0)\n",
        "\n",
        "# feature scalling\n",
        "from sklearn.preprocessing import StandardScaler\n",
        "sc=StandardScaler()\n",
        "X_train=sc.fit_transform(X_train)\n",
        "X_test=sc.transform(X_test)\n",
        "\n",
        "# model creation ----Logistic Regression ---Classifcation ---Target column contain Disc\n",
        "from sklearn.linear_model import LogisticRegression\n",
        "LRC=LogisticRegression()\n",
        "LRC.fit(X_train, Y_train)\n",
        "\n",
        "# prediction ---Test dataset---X_test\n",
        "Y_pred=LRC.predict(X_test)\n",
        "# To evaluate the perfromance of model\n",
        "# Creating the confusion matrix\n",
        "from sklearn.metrics import confusion_matrix\n",
        "cm=confusion_matrix(Y_test, Y_pred)\n",
        "print(cm)\n",
        "# Inbuilt method accuracy_score\n",
        "from sklearn.metrics import accuracy_score\n",
        "print(accuracy_score(Y_test, Y_pred)*100)\n",
        "\n",
        "# Complete perfromance report \n",
        "from sklearn.metrics import classification_report\n",
        "print(classification_report(Y_test, Y_pred))"
      ]
    },
    {
      "cell_type": "code",
      "execution_count": 349,
      "id": "bb97b9d3",
      "metadata": {
        "colab": {
          "base_uri": "https://localhost:8080/"
        },
        "id": "bb97b9d3",
        "outputId": "a5149c8e-cb13-492e-e4a8-0e50a1132e00"
      },
      "outputs": [
        {
          "output_type": "stream",
          "name": "stdout",
          "text": [
            "[[  0   0   1]\n",
            " [  0 134   0]\n",
            " [  0 106   6]]\n",
            "56.68016194331984\n",
            "              precision    recall  f1-score   support\n",
            "\n",
            "           0       0.00      0.00      0.00         1\n",
            "           1       0.56      1.00      0.72       134\n",
            "           2       0.86      0.05      0.10       112\n",
            "\n",
            "    accuracy                           0.57       247\n",
            "   macro avg       0.47      0.35      0.27       247\n",
            "weighted avg       0.69      0.57      0.43       247\n",
            "\n"
          ]
        }
      ],
      "source": [
        "#predicting trend via logistic regression\n",
        "# Extraction of Indep and Dep var\n",
        "X= data.iloc[: , [1,2]].values\n",
        "Y=data.iloc[:, 9:].values\n",
        "# Import label encoder \n",
        "from sklearn import preprocessing\n",
        "# label_encoder object knows how to understand word labels. \n",
        "label_encoder = preprocessing.LabelEncoder()\n",
        "# Encode labels in column 'trend'. \n",
        "data['trend']= label_encoder.fit_transform(data['trend']) \n",
        "# split the dataset\n",
        "from sklearn.model_selection import train_test_split\n",
        "X_train, X_test, Y_train, Y_test=train_test_split(X, Y, test_size=0.2, random_state=0)\n",
        "\n",
        "# feature scalling\n",
        "from sklearn.preprocessing import StandardScaler\n",
        "sc=StandardScaler()\n",
        "X_train=sc.fit_transform(X_train)\n",
        "X_test=sc.transform(X_test)\n",
        "\n",
        "# model creation ----Logistic Regression ---Classifcation ---Target column contain Disc\n",
        "from sklearn.linear_model import LogisticRegression\n",
        "LRC=LogisticRegression()\n",
        "LRC.fit(X_train, Y_train)\n",
        "\n",
        "# prediction ---Test dataset---X_test\n",
        "Y_pred=LRC.predict(X_test)\n",
        "# To evaluate the perfromance of model\n",
        "# Creating the confusion matrix\n",
        "from sklearn.metrics import confusion_matrix\n",
        "cm=confusion_matrix(Y_test, Y_pred)\n",
        "print(cm)\n",
        "# Inbuilt method accuracy_score\n",
        "from sklearn.metrics import accuracy_score\n",
        "print(accuracy_score(Y_test, Y_pred)*100)\n",
        "\n",
        "# Complete perfromance report \n",
        "from sklearn.metrics import classification_report\n",
        "print(classification_report(Y_test, Y_pred))"
      ]
    },
    {
      "cell_type": "code",
      "execution_count": 93,
      "id": "6e0bb80a",
      "metadata": {
        "colab": {
          "base_uri": "https://localhost:8080/"
        },
        "id": "6e0bb80a",
        "outputId": "76307c6f-5ca8-4d49-a676-43bd3bb3caba"
      },
      "outputs": [
        {
          "output_type": "stream",
          "name": "stdout",
          "text": [
            "[[  1   0   0]\n",
            " [  0 134   0]\n",
            " [  0  52  60]]\n",
            "78.94736842105263\n",
            "              precision    recall  f1-score   support\n",
            "\n",
            "           0       1.00      1.00      1.00         1\n",
            "           1       0.72      1.00      0.84       134\n",
            "           2       1.00      0.54      0.70       112\n",
            "\n",
            "    accuracy                           0.79       247\n",
            "   macro avg       0.91      0.85      0.85       247\n",
            "weighted avg       0.85      0.79      0.77       247\n",
            "\n"
          ]
        },
        {
          "output_type": "stream",
          "name": "stderr",
          "text": [
            "/usr/local/lib/python3.7/dist-packages/sklearn/utils/validation.py:993: DataConversionWarning: A column-vector y was passed when a 1d array was expected. Please change the shape of y to (n_samples, ), for example using ravel().\n",
            "  y = column_or_1d(y, warn=True)\n"
          ]
        }
      ],
      "source": [
        "#predicting trend via logistic regression\n",
        "# Extraction of Indep and Dep var\n",
        "X= data.iloc[: , [1,2,3,4]].values\n",
        "Y=data.iloc[:, 9:].values\n",
        "# Import label encoder \n",
        "from sklearn import preprocessing\n",
        "# label_encoder object knows how to understand word labels. \n",
        "label_encoder = preprocessing.LabelEncoder()\n",
        "# Encode labels in column 'trend'. \n",
        "data['trend']= label_encoder.fit_transform(data['trend']) \n",
        "# split the dataset\n",
        "from sklearn.model_selection import train_test_split\n",
        "X_train, X_test, Y_train, Y_test=train_test_split(X, Y, test_size=0.2, random_state=0)\n",
        "\n",
        "# feature scalling\n",
        "from sklearn.preprocessing import StandardScaler\n",
        "sc=StandardScaler()\n",
        "X_train=sc.fit_transform(X_train)\n",
        "X_test=sc.transform(X_test)\n",
        "\n",
        "# model creation ----Logistic Regression ---Classifcation ---Target column contain Disc\n",
        "from sklearn.linear_model import LogisticRegression\n",
        "LRC=LogisticRegression()\n",
        "LRC.fit(X_train, Y_train)\n",
        "\n",
        "# prediction ---Test dataset---X_test\n",
        "Y_pred=LRC.predict(X_test)\n",
        "# To evaluate the perfromance of model\n",
        "# Creating the confusion matrix\n",
        "from sklearn.metrics import confusion_matrix\n",
        "cm=confusion_matrix(Y_test, Y_pred)\n",
        "print(cm)\n",
        "# Inbuilt method accuracy_score\n",
        "from sklearn.metrics import accuracy_score\n",
        "print(accuracy_score(Y_test, Y_pred)*100)\n",
        "\n",
        "# Complete perfromance report \n",
        "from sklearn.metrics import classification_report\n",
        "print(classification_report(Y_test, Y_pred))"
      ]
    },
    {
      "cell_type": "code",
      "execution_count": 94,
      "id": "f8c36ed8",
      "metadata": {
        "id": "f8c36ed8",
        "outputId": "b4c42839-799c-464f-a710-33bcef50f830",
        "colab": {
          "base_uri": "https://localhost:8080/"
        }
      },
      "outputs": [
        {
          "output_type": "stream",
          "name": "stdout",
          "text": [
            "[[  0   0   1]\n",
            " [  0 134   0]\n",
            " [  0  46  66]]\n",
            "80.97165991902834\n",
            "              precision    recall  f1-score   support\n",
            "\n",
            "           0       0.00      0.00      0.00         1\n",
            "           1       0.74      1.00      0.85       134\n",
            "           2       0.99      0.59      0.74       112\n",
            "\n",
            "    accuracy                           0.81       247\n",
            "   macro avg       0.58      0.53      0.53       247\n",
            "weighted avg       0.85      0.81      0.80       247\n",
            "\n"
          ]
        },
        {
          "output_type": "stream",
          "name": "stderr",
          "text": [
            "/usr/local/lib/python3.7/dist-packages/sklearn/utils/validation.py:993: DataConversionWarning: A column-vector y was passed when a 1d array was expected. Please change the shape of y to (n_samples, ), for example using ravel().\n",
            "  y = column_or_1d(y, warn=True)\n",
            "/usr/local/lib/python3.7/dist-packages/sklearn/metrics/_classification.py:1318: UndefinedMetricWarning: Precision and F-score are ill-defined and being set to 0.0 in labels with no predicted samples. Use `zero_division` parameter to control this behavior.\n",
            "  _warn_prf(average, modifier, msg_start, len(result))\n",
            "/usr/local/lib/python3.7/dist-packages/sklearn/metrics/_classification.py:1318: UndefinedMetricWarning: Precision and F-score are ill-defined and being set to 0.0 in labels with no predicted samples. Use `zero_division` parameter to control this behavior.\n",
            "  _warn_prf(average, modifier, msg_start, len(result))\n",
            "/usr/local/lib/python3.7/dist-packages/sklearn/metrics/_classification.py:1318: UndefinedMetricWarning: Precision and F-score are ill-defined and being set to 0.0 in labels with no predicted samples. Use `zero_division` parameter to control this behavior.\n",
            "  _warn_prf(average, modifier, msg_start, len(result))\n"
          ]
        }
      ],
      "source": [
        "#predicting trend via logistic regression\n",
        "# Extraction of Indep and Dep var\n",
        "X= data.iloc[: , [1,2,5]].values\n",
        "Y=data.iloc[:, 9:].values\n",
        "# Import label encoder \n",
        "from sklearn import preprocessing\n",
        "# label_encoder object knows how to understand word labels. \n",
        "label_encoder = preprocessing.LabelEncoder()\n",
        "# Encode labels in column 'trend'. \n",
        "data['trend']= label_encoder.fit_transform(data['trend']) \n",
        "# split the dataset\n",
        "from sklearn.model_selection import train_test_split\n",
        "X_train, X_test, Y_train, Y_test=train_test_split(X, Y, test_size=0.2, random_state=0)\n",
        "\n",
        "# feature scalling\n",
        "from sklearn.preprocessing import StandardScaler\n",
        "sc=StandardScaler()\n",
        "X_train=sc.fit_transform(X_train)\n",
        "X_test=sc.transform(X_test)\n",
        "\n",
        "# model creation ----Logistic Regression ---Classifcation ---Target column contain Disc\n",
        "from sklearn.linear_model import LogisticRegression\n",
        "LRC=LogisticRegression()\n",
        "LRC.fit(X_train, Y_train)\n",
        "\n",
        "# prediction ---Test dataset---X_test\n",
        "Y_pred=LRC.predict(X_test)\n",
        "# To evaluate the perfromance of model\n",
        "# Creating the confusion matrix\n",
        "from sklearn.metrics import confusion_matrix\n",
        "cm=confusion_matrix(Y_test, Y_pred)\n",
        "print(cm)\n",
        "# Inbuilt method accuracy_score\n",
        "from sklearn.metrics import accuracy_score\n",
        "print(accuracy_score(Y_test, Y_pred)*100)\n",
        "\n",
        "# Complete perfromance report \n",
        "from sklearn.metrics import classification_report\n",
        "print(classification_report(Y_test, Y_pred))"
      ]
    },
    {
      "cell_type": "code",
      "execution_count": 95,
      "id": "c3b395e5",
      "metadata": {
        "id": "c3b395e5",
        "outputId": "05c0ed40-4a22-46ca-c55a-a643e9410661",
        "colab": {
          "base_uri": "https://localhost:8080/"
        }
      },
      "outputs": [
        {
          "output_type": "stream",
          "name": "stdout",
          "text": [
            "[[  0   1   0]\n",
            " [  0 121  13]\n",
            " [  0 100  12]]\n",
            "53.84615384615385\n",
            "              precision    recall  f1-score   support\n",
            "\n",
            "           0       0.00      0.00      0.00         1\n",
            "           1       0.55      0.90      0.68       134\n",
            "           2       0.48      0.11      0.18       112\n",
            "\n",
            "    accuracy                           0.54       247\n",
            "   macro avg       0.34      0.34      0.28       247\n",
            "weighted avg       0.51      0.54      0.45       247\n",
            "\n"
          ]
        },
        {
          "output_type": "stream",
          "name": "stderr",
          "text": [
            "/usr/local/lib/python3.7/dist-packages/sklearn/utils/validation.py:993: DataConversionWarning: A column-vector y was passed when a 1d array was expected. Please change the shape of y to (n_samples, ), for example using ravel().\n",
            "  y = column_or_1d(y, warn=True)\n",
            "/usr/local/lib/python3.7/dist-packages/sklearn/metrics/_classification.py:1318: UndefinedMetricWarning: Precision and F-score are ill-defined and being set to 0.0 in labels with no predicted samples. Use `zero_division` parameter to control this behavior.\n",
            "  _warn_prf(average, modifier, msg_start, len(result))\n",
            "/usr/local/lib/python3.7/dist-packages/sklearn/metrics/_classification.py:1318: UndefinedMetricWarning: Precision and F-score are ill-defined and being set to 0.0 in labels with no predicted samples. Use `zero_division` parameter to control this behavior.\n",
            "  _warn_prf(average, modifier, msg_start, len(result))\n",
            "/usr/local/lib/python3.7/dist-packages/sklearn/metrics/_classification.py:1318: UndefinedMetricWarning: Precision and F-score are ill-defined and being set to 0.0 in labels with no predicted samples. Use `zero_division` parameter to control this behavior.\n",
            "  _warn_prf(average, modifier, msg_start, len(result))\n"
          ]
        }
      ],
      "source": [
        "#predicting trend via logistic regression\n",
        "# Extraction of Indep and Dep var\n",
        "X= data.iloc[: , [4,5,6]].values\n",
        "Y=data.iloc[:, 9:].values\n",
        "# Import label encoder \n",
        "from sklearn import preprocessing\n",
        "# label_encoder object knows how to understand word labels. \n",
        "label_encoder = preprocessing.LabelEncoder()\n",
        "# Encode labels in column 'trend'. \n",
        "data['trend']= label_encoder.fit_transform(data['trend']) \n",
        "# split the dataset\n",
        "from sklearn.model_selection import train_test_split\n",
        "X_train, X_test, Y_train, Y_test=train_test_split(X, Y, test_size=0.2, random_state=0)\n",
        "\n",
        "# feature scalling\n",
        "from sklearn.preprocessing import StandardScaler\n",
        "sc=StandardScaler()\n",
        "X_train=sc.fit_transform(X_train)\n",
        "X_test=sc.transform(X_test)\n",
        "\n",
        "# model creation ----Logistic Regression ---Classifcation ---Target column contain Disc\n",
        "from sklearn.linear_model import LogisticRegression\n",
        "LRC=LogisticRegression()\n",
        "LRC.fit(X_train, Y_train)\n",
        "\n",
        "# prediction ---Test dataset---X_test\n",
        "Y_pred=LRC.predict(X_test)\n",
        "# To evaluate the perfromance of model\n",
        "# Creating the confusion matrix\n",
        "from sklearn.metrics import confusion_matrix\n",
        "cm=confusion_matrix(Y_test, Y_pred)\n",
        "print(cm)\n",
        "# Inbuilt method accuracy_score\n",
        "from sklearn.metrics import accuracy_score\n",
        "print(accuracy_score(Y_test, Y_pred)*100)\n",
        "\n",
        "# Complete perfromance report \n",
        "from sklearn.metrics import classification_report\n",
        "print(classification_report(Y_test, Y_pred))"
      ]
    },
    {
      "cell_type": "code",
      "execution_count": 96,
      "id": "97f9fec9",
      "metadata": {
        "id": "97f9fec9",
        "outputId": "cca8f23f-e62a-4070-cbd7-449c42346c9c",
        "colab": {
          "base_uri": "https://localhost:8080/"
        }
      },
      "outputs": [
        {
          "output_type": "stream",
          "name": "stdout",
          "text": [
            "[[  0   1   0]\n",
            " [  0 121  13]\n",
            " [  0  98  14]]\n",
            "54.655870445344135\n",
            "              precision    recall  f1-score   support\n",
            "\n",
            "           0       0.00      0.00      0.00         1\n",
            "           1       0.55      0.90      0.68       134\n",
            "           2       0.52      0.12      0.20       112\n",
            "\n",
            "    accuracy                           0.55       247\n",
            "   macro avg       0.36      0.34      0.30       247\n",
            "weighted avg       0.53      0.55      0.46       247\n",
            "\n"
          ]
        },
        {
          "output_type": "stream",
          "name": "stderr",
          "text": [
            "/usr/local/lib/python3.7/dist-packages/sklearn/utils/validation.py:993: DataConversionWarning: A column-vector y was passed when a 1d array was expected. Please change the shape of y to (n_samples, ), for example using ravel().\n",
            "  y = column_or_1d(y, warn=True)\n",
            "/usr/local/lib/python3.7/dist-packages/sklearn/metrics/_classification.py:1318: UndefinedMetricWarning: Precision and F-score are ill-defined and being set to 0.0 in labels with no predicted samples. Use `zero_division` parameter to control this behavior.\n",
            "  _warn_prf(average, modifier, msg_start, len(result))\n",
            "/usr/local/lib/python3.7/dist-packages/sklearn/metrics/_classification.py:1318: UndefinedMetricWarning: Precision and F-score are ill-defined and being set to 0.0 in labels with no predicted samples. Use `zero_division` parameter to control this behavior.\n",
            "  _warn_prf(average, modifier, msg_start, len(result))\n",
            "/usr/local/lib/python3.7/dist-packages/sklearn/metrics/_classification.py:1318: UndefinedMetricWarning: Precision and F-score are ill-defined and being set to 0.0 in labels with no predicted samples. Use `zero_division` parameter to control this behavior.\n",
            "  _warn_prf(average, modifier, msg_start, len(result))\n"
          ]
        }
      ],
      "source": [
        "#predicting trend via logistic regression\n",
        "# Extraction of Indep and Dep var\n",
        "X= data.iloc[: , [6,7]].values\n",
        "Y=data.iloc[:, 9:].values\n",
        "# Import label encoder \n",
        "from sklearn import preprocessing\n",
        "# label_encoder object knows how to understand word labels. \n",
        "label_encoder = preprocessing.LabelEncoder()\n",
        "# Encode labels in column 'trend'. \n",
        "data['trend']= label_encoder.fit_transform(data['trend']) \n",
        "# split the dataset\n",
        "from sklearn.model_selection import train_test_split\n",
        "X_train, X_test, Y_train, Y_test=train_test_split(X, Y, test_size=0.2, random_state=0)\n",
        "\n",
        "# feature scalling\n",
        "from sklearn.preprocessing import StandardScaler\n",
        "sc=StandardScaler()\n",
        "X_train=sc.fit_transform(X_train)\n",
        "X_test=sc.transform(X_test)\n",
        "\n",
        "# model creation ----Logistic Regression ---Classifcation ---Target column contain Disc\n",
        "from sklearn.linear_model import LogisticRegression\n",
        "LRC=LogisticRegression()\n",
        "LRC.fit(X_train, Y_train)\n",
        "\n",
        "# prediction ---Test dataset---X_test\n",
        "Y_pred=LRC.predict(X_test)\n",
        "# To evaluate the perfromance of model\n",
        "# Creating the confusion matrix\n",
        "from sklearn.metrics import confusion_matrix\n",
        "cm=confusion_matrix(Y_test, Y_pred)\n",
        "print(cm)\n",
        "# Inbuilt method accuracy_score\n",
        "from sklearn.metrics import accuracy_score\n",
        "print(accuracy_score(Y_test, Y_pred)*100)\n",
        "\n",
        "# Complete perfromance report \n",
        "from sklearn.metrics import classification_report\n",
        "print(classification_report(Y_test, Y_pred))"
      ]
    },
    {
      "cell_type": "code",
      "execution_count": 119,
      "id": "203d41d2",
      "metadata": {
        "id": "203d41d2",
        "outputId": "9d59639b-f1d8-4fdd-aa7b-678cf73bf871",
        "colab": {
          "base_uri": "https://localhost:8080/"
        }
      },
      "outputs": [
        {
          "output_type": "execute_result",
          "data": {
            "text/plain": [
              "array([[2],\n",
              "       [1],\n",
              "       [1],\n",
              "       ...,\n",
              "       [2],\n",
              "       [1],\n",
              "       [1]])"
            ]
          },
          "metadata": {},
          "execution_count": 119
        }
      ],
      "source": [
        "Y\n"
      ]
    },
    {
      "cell_type": "code",
      "source": [
        "##stock price prediction using KNN"
      ],
      "metadata": {
        "id": "CEf5A4dP9ZSC"
      },
      "id": "CEf5A4dP9ZSC",
      "execution_count": 145,
      "outputs": []
    },
    {
      "cell_type": "code",
      "source": [
        "# Data Manipulation\n",
        "import numpy as np\n",
        "import pandas as pd\n",
        "\n",
        "# Plotting graphs\n",
        "import matplotlib.pyplot as plt\n",
        "\n",
        "# Machine learning libraries\n",
        "from sklearn.neighbors import KNeighborsClassifier\n",
        "from sklearn.metrics import accuracy_score\n",
        "\n",
        "from pandas.plotting import register_matplotlib_converters\n",
        "register_matplotlib_converters()"
      ],
      "metadata": {
        "id": "qkrMprDlBzq4"
      },
      "id": "qkrMprDlBzq4",
      "execution_count": 350,
      "outputs": []
    },
    {
      "cell_type": "code",
      "source": [
        "# Predictor variables\n",
        "data['Open-Close']= data.Open -data.Close\n",
        "data['High-Low']  = data.High - data.Low\n",
        "data =data.dropna()\n",
        "X= data[['Open-Close', 'High-Low']]\n",
        "X.head()"
      ],
      "metadata": {
        "colab": {
          "base_uri": "https://localhost:8080/",
          "height": 206
        },
        "id": "lZO7uSANDJTq",
        "outputId": "90704ad5-a2a1-4a55-daad-cc5c20bbe8b9"
      },
      "id": "lZO7uSANDJTq",
      "execution_count": 351,
      "outputs": [
        {
          "output_type": "execute_result",
          "data": {
            "text/plain": [
              "   Open-Close  High-Low\n",
              "0       -7.15     15.40\n",
              "1        7.80     12.70\n",
              "2        5.30     11.65\n",
              "3        2.40     11.75\n",
              "4        3.65     13.55"
            ],
            "text/html": [
              "\n",
              "  <div id=\"df-b7f3c705-9c84-483f-82d5-44d36f244288\">\n",
              "    <div class=\"colab-df-container\">\n",
              "      <div>\n",
              "<style scoped>\n",
              "    .dataframe tbody tr th:only-of-type {\n",
              "        vertical-align: middle;\n",
              "    }\n",
              "\n",
              "    .dataframe tbody tr th {\n",
              "        vertical-align: top;\n",
              "    }\n",
              "\n",
              "    .dataframe thead th {\n",
              "        text-align: right;\n",
              "    }\n",
              "</style>\n",
              "<table border=\"1\" class=\"dataframe\">\n",
              "  <thead>\n",
              "    <tr style=\"text-align: right;\">\n",
              "      <th></th>\n",
              "      <th>Open-Close</th>\n",
              "      <th>High-Low</th>\n",
              "    </tr>\n",
              "  </thead>\n",
              "  <tbody>\n",
              "    <tr>\n",
              "      <th>0</th>\n",
              "      <td>-7.15</td>\n",
              "      <td>15.40</td>\n",
              "    </tr>\n",
              "    <tr>\n",
              "      <th>1</th>\n",
              "      <td>7.80</td>\n",
              "      <td>12.70</td>\n",
              "    </tr>\n",
              "    <tr>\n",
              "      <th>2</th>\n",
              "      <td>5.30</td>\n",
              "      <td>11.65</td>\n",
              "    </tr>\n",
              "    <tr>\n",
              "      <th>3</th>\n",
              "      <td>2.40</td>\n",
              "      <td>11.75</td>\n",
              "    </tr>\n",
              "    <tr>\n",
              "      <th>4</th>\n",
              "      <td>3.65</td>\n",
              "      <td>13.55</td>\n",
              "    </tr>\n",
              "  </tbody>\n",
              "</table>\n",
              "</div>\n",
              "      <button class=\"colab-df-convert\" onclick=\"convertToInteractive('df-b7f3c705-9c84-483f-82d5-44d36f244288')\"\n",
              "              title=\"Convert this dataframe to an interactive table.\"\n",
              "              style=\"display:none;\">\n",
              "        \n",
              "  <svg xmlns=\"http://www.w3.org/2000/svg\" height=\"24px\"viewBox=\"0 0 24 24\"\n",
              "       width=\"24px\">\n",
              "    <path d=\"M0 0h24v24H0V0z\" fill=\"none\"/>\n",
              "    <path d=\"M18.56 5.44l.94 2.06.94-2.06 2.06-.94-2.06-.94-.94-2.06-.94 2.06-2.06.94zm-11 1L8.5 8.5l.94-2.06 2.06-.94-2.06-.94L8.5 2.5l-.94 2.06-2.06.94zm10 10l.94 2.06.94-2.06 2.06-.94-2.06-.94-.94-2.06-.94 2.06-2.06.94z\"/><path d=\"M17.41 7.96l-1.37-1.37c-.4-.4-.92-.59-1.43-.59-.52 0-1.04.2-1.43.59L10.3 9.45l-7.72 7.72c-.78.78-.78 2.05 0 2.83L4 21.41c.39.39.9.59 1.41.59.51 0 1.02-.2 1.41-.59l7.78-7.78 2.81-2.81c.8-.78.8-2.07 0-2.86zM5.41 20L4 18.59l7.72-7.72 1.47 1.35L5.41 20z\"/>\n",
              "  </svg>\n",
              "      </button>\n",
              "      \n",
              "  <style>\n",
              "    .colab-df-container {\n",
              "      display:flex;\n",
              "      flex-wrap:wrap;\n",
              "      gap: 12px;\n",
              "    }\n",
              "\n",
              "    .colab-df-convert {\n",
              "      background-color: #E8F0FE;\n",
              "      border: none;\n",
              "      border-radius: 50%;\n",
              "      cursor: pointer;\n",
              "      display: none;\n",
              "      fill: #1967D2;\n",
              "      height: 32px;\n",
              "      padding: 0 0 0 0;\n",
              "      width: 32px;\n",
              "    }\n",
              "\n",
              "    .colab-df-convert:hover {\n",
              "      background-color: #E2EBFA;\n",
              "      box-shadow: 0px 1px 2px rgba(60, 64, 67, 0.3), 0px 1px 3px 1px rgba(60, 64, 67, 0.15);\n",
              "      fill: #174EA6;\n",
              "    }\n",
              "\n",
              "    [theme=dark] .colab-df-convert {\n",
              "      background-color: #3B4455;\n",
              "      fill: #D2E3FC;\n",
              "    }\n",
              "\n",
              "    [theme=dark] .colab-df-convert:hover {\n",
              "      background-color: #434B5C;\n",
              "      box-shadow: 0px 1px 3px 1px rgba(0, 0, 0, 0.15);\n",
              "      filter: drop-shadow(0px 1px 2px rgba(0, 0, 0, 0.3));\n",
              "      fill: #FFFFFF;\n",
              "    }\n",
              "  </style>\n",
              "\n",
              "      <script>\n",
              "        const buttonEl =\n",
              "          document.querySelector('#df-b7f3c705-9c84-483f-82d5-44d36f244288 button.colab-df-convert');\n",
              "        buttonEl.style.display =\n",
              "          google.colab.kernel.accessAllowed ? 'block' : 'none';\n",
              "\n",
              "        async function convertToInteractive(key) {\n",
              "          const element = document.querySelector('#df-b7f3c705-9c84-483f-82d5-44d36f244288');\n",
              "          const dataTable =\n",
              "            await google.colab.kernel.invokeFunction('convertToInteractive',\n",
              "                                                     [key], {});\n",
              "          if (!dataTable) return;\n",
              "\n",
              "          const docLinkHtml = 'Like what you see? Visit the ' +\n",
              "            '<a target=\"_blank\" href=https://colab.research.google.com/notebooks/data_table.ipynb>data table notebook</a>'\n",
              "            + ' to learn more about interactive tables.';\n",
              "          element.innerHTML = '';\n",
              "          dataTable['output_type'] = 'display_data';\n",
              "          await google.colab.output.renderOutput(dataTable, element);\n",
              "          const docLink = document.createElement('div');\n",
              "          docLink.innerHTML = docLinkHtml;\n",
              "          element.appendChild(docLink);\n",
              "        }\n",
              "      </script>\n",
              "    </div>\n",
              "  </div>\n",
              "  "
            ]
          },
          "metadata": {},
          "execution_count": 351
        }
      ]
    },
    {
      "cell_type": "code",
      "source": [
        "# Target variable\n",
        "Y= np.where(data['Close'].shift(-1)>data['Close'],1,-1)"
      ],
      "metadata": {
        "id": "OawQDH3dDddF"
      },
      "id": "OawQDH3dDddF",
      "execution_count": 153,
      "outputs": []
    },
    {
      "cell_type": "code",
      "source": [
        "# Splitting the dataset\n",
        "split_percentage = 0.7\n",
        "split = int(split_percentage*len(data))\n",
        "\n",
        "X_train = X[:split]\n",
        "Y_train = Y[:split]\n",
        "\n",
        "X_test = X[split:]\n",
        "Y_test = Y[split:]"
      ],
      "metadata": {
        "id": "LyRAkHYWDoIW"
      },
      "id": "LyRAkHYWDoIW",
      "execution_count": 155,
      "outputs": []
    },
    {
      "cell_type": "code",
      "source": [
        "# Instantiate KNN learning model(k=15)\n",
        "knn = KNeighborsClassifier(n_neighbors=15)\n",
        "\n",
        "# fit the model\n",
        "knn.fit(X_train, Y_train)\n",
        "\n",
        "# Accuracy Score\n",
        "accuracy_train = accuracy_score(Y_train, knn.predict(X_train))\n",
        "accuracy_test = accuracy_score(Y_test, knn.predict(X_test))\n",
        "\n",
        "print ('Train_data Accuracy: %.2f' %accuracy_train)\n",
        "print ('Test_data Accuracy: %.2f' %accuracy_test)"
      ],
      "metadata": {
        "colab": {
          "base_uri": "https://localhost:8080/"
        },
        "id": "OYrp5fikDtRb",
        "outputId": "d15cedd2-331e-4825-fd9c-9b2266ad52f2"
      },
      "id": "OYrp5fikDtRb",
      "execution_count": 157,
      "outputs": [
        {
          "output_type": "stream",
          "name": "stdout",
          "text": [
            "Train_data Accuracy: 0.62\n",
            "Test_data Accuracy: 0.51\n"
          ]
        }
      ]
    },
    {
      "cell_type": "code",
      "source": [
        "# Predicted Signal\n",
        "data['Predicted_Signal'] = knn.predict(X)\n",
        "\n",
        "# SPY Cumulative Returns\n",
        "data['SPY_returns'] = np.log(data['Close']/data['Close'].shift(1))\n",
        "Cumulative_SPY_returns = data[split:]['SPY_returns'].cumsum()*100\n",
        "\n",
        "# Cumulative Strategy Returns \n",
        "data['Startegy_returns'] = data['SPY_returns']* data['Predicted_Signal'].shift(1)\n",
        "Cumulative_Strategy_returns = data[split:]['Startegy_returns'].cumsum()*100\n",
        "\n",
        "# Plot the results to visualize the performance\n",
        "\n",
        "plt.figure(figsize=(10,5))\n",
        "plt.plot(Cumulative_SPY_returns, color='r',label = 'SPY Returns')\n",
        "plt.plot(Cumulative_Strategy_returns, color='g', label = 'Strategy Returns')\n",
        "plt.legend()\n",
        "plt.show()"
      ],
      "metadata": {
        "colab": {
          "base_uri": "https://localhost:8080/",
          "height": 320
        },
        "id": "XRcYEoXPDzOj",
        "outputId": "0e01385b-0f61-4f53-e7b7-20d13cf1260c"
      },
      "id": "XRcYEoXPDzOj",
      "execution_count": 158,
      "outputs": [
        {
          "output_type": "display_data",
          "data": {
            "text/plain": [
              "<Figure size 720x360 with 1 Axes>"
            ],
            "image/png": "[encoded data removed]"
          },
          "metadata": {
            "needs_background": "light"
          }
        }
      ]
    },
    {
      "cell_type": "code",
      "source": [
        "#The Sharpe ratio is the return earned in excess of the market return per unit of volatility. First, we will calculate the \n",
        "#standard deviation of the cumulative returns, and use it further to \n",
        "#calculate the Sharpe ratio.\n",
        "# Calculate Sharpe ratio\n",
        "Std = Cumulative_Strategy_returns.std()\n",
        "Sharpe = (Cumulative_Strategy_returns-Cumulative_SPY_returns)/Std\n",
        "Sharpe = Sharpe.mean()\n",
        "print('Sharpe ratio: %.2f'%Sharpe )"
      ],
      "metadata": {
        "colab": {
          "base_uri": "https://localhost:8080/"
        },
        "id": "_aiVSWK6EO18",
        "outputId": "55f50f94-dc69-4de2-cd68-c737b61362f5"
      },
      "id": "_aiVSWK6EO18",
      "execution_count": 159,
      "outputs": [
        {
          "output_type": "stream",
          "name": "stdout",
          "text": [
            "Sharpe ratio: 2.88\n"
          ]
        }
      ]
    },
    {
      "cell_type": "code",
      "source": [
        "#Stock Market Prediction with Decision Tree\n",
        "df2 = data['Close']"
      ],
      "metadata": {
        "id": "QyL38wyZEc0Y"
      },
      "id": "QyL38wyZEc0Y",
      "execution_count": 163,
      "outputs": []
    },
    {
      "cell_type": "code",
      "source": [
        "df2 = pd.DataFrame(df2) "
      ],
      "metadata": {
        "id": "5LF-3QL_F-th"
      },
      "id": "5LF-3QL_F-th",
      "execution_count": 164,
      "outputs": []
    },
    {
      "cell_type": "code",
      "source": [
        "df2.tail()"
      ],
      "metadata": {
        "colab": {
          "base_uri": "https://localhost:8080/",
          "height": 238
        },
        "id": "_o3-VOhsGI_e",
        "outputId": "e55eee61-b19a-4ca3-aabf-2086335f6609"
      },
      "id": "_o3-VOhsGI_e",
      "execution_count": 352,
      "outputs": [
        {
          "output_type": "execute_result",
          "data": {
            "text/plain": [
              "             Close  Prediction\n",
              "Date                          \n",
              "2018-12-03  276.05         NaN\n",
              "2018-12-04  273.85         NaN\n",
              "2018-12-06  267.60         NaN\n",
              "2018-12-07  265.20         NaN\n",
              "2018-12-09  222.65         NaN"
            ],
            "text/html": [
              "\n",
              "  <div id=\"df-bb7c2acc-0261-4b66-9b17-e9452205522a\">\n",
              "    <div class=\"colab-df-container\">\n",
              "      <div>\n",
              "<style scoped>\n",
              "    .dataframe tbody tr th:only-of-type {\n",
              "        vertical-align: middle;\n",
              "    }\n",
              "\n",
              "    .dataframe tbody tr th {\n",
              "        vertical-align: top;\n",
              "    }\n",
              "\n",
              "    .dataframe thead th {\n",
              "        text-align: right;\n",
              "    }\n",
              "</style>\n",
              "<table border=\"1\" class=\"dataframe\">\n",
              "  <thead>\n",
              "    <tr style=\"text-align: right;\">\n",
              "      <th></th>\n",
              "      <th>Close</th>\n",
              "      <th>Prediction</th>\n",
              "    </tr>\n",
              "    <tr>\n",
              "      <th>Date</th>\n",
              "      <th></th>\n",
              "      <th></th>\n",
              "    </tr>\n",
              "  </thead>\n",
              "  <tbody>\n",
              "    <tr>\n",
              "      <th>2018-12-03</th>\n",
              "      <td>276.05</td>\n",
              "      <td>NaN</td>\n",
              "    </tr>\n",
              "    <tr>\n",
              "      <th>2018-12-04</th>\n",
              "      <td>273.85</td>\n",
              "      <td>NaN</td>\n",
              "    </tr>\n",
              "    <tr>\n",
              "      <th>2018-12-06</th>\n",
              "      <td>267.60</td>\n",
              "      <td>NaN</td>\n",
              "    </tr>\n",
              "    <tr>\n",
              "      <th>2018-12-07</th>\n",
              "      <td>265.20</td>\n",
              "      <td>NaN</td>\n",
              "    </tr>\n",
              "    <tr>\n",
              "      <th>2018-12-09</th>\n",
              "      <td>222.65</td>\n",
              "      <td>NaN</td>\n",
              "    </tr>\n",
              "  </tbody>\n",
              "</table>\n",
              "</div>\n",
              "      <button class=\"colab-df-convert\" onclick=\"convertToInteractive('df-bb7c2acc-0261-4b66-9b17-e9452205522a')\"\n",
              "              title=\"Convert this dataframe to an interactive table.\"\n",
              "              style=\"display:none;\">\n",
              "        \n",
              "  <svg xmlns=\"http://www.w3.org/2000/svg\" height=\"24px\"viewBox=\"0 0 24 24\"\n",
              "       width=\"24px\">\n",
              "    <path d=\"M0 0h24v24H0V0z\" fill=\"none\"/>\n",
              "    <path d=\"M18.56 5.44l.94 2.06.94-2.06 2.06-.94-2.06-.94-.94-2.06-.94 2.06-2.06.94zm-11 1L8.5 8.5l.94-2.06 2.06-.94-2.06-.94L8.5 2.5l-.94 2.06-2.06.94zm10 10l.94 2.06.94-2.06 2.06-.94-2.06-.94-.94-2.06-.94 2.06-2.06.94z\"/><path d=\"M17.41 7.96l-1.37-1.37c-.4-.4-.92-.59-1.43-.59-.52 0-1.04.2-1.43.59L10.3 9.45l-7.72 7.72c-.78.78-.78 2.05 0 2.83L4 21.41c.39.39.9.59 1.41.59.51 0 1.02-.2 1.41-.59l7.78-7.78 2.81-2.81c.8-.78.8-2.07 0-2.86zM5.41 20L4 18.59l7.72-7.72 1.47 1.35L5.41 20z\"/>\n",
              "  </svg>\n",
              "      </button>\n",
              "      \n",
              "  <style>\n",
              "    .colab-df-container {\n",
              "      display:flex;\n",
              "      flex-wrap:wrap;\n",
              "      gap: 12px;\n",
              "    }\n",
              "\n",
              "    .colab-df-convert {\n",
              "      background-color: #E8F0FE;\n",
              "      border: none;\n",
              "      border-radius: 50%;\n",
              "      cursor: pointer;\n",
              "      display: none;\n",
              "      fill: #1967D2;\n",
              "      height: 32px;\n",
              "      padding: 0 0 0 0;\n",
              "      width: 32px;\n",
              "    }\n",
              "\n",
              "    .colab-df-convert:hover {\n",
              "      background-color: #E2EBFA;\n",
              "      box-shadow: 0px 1px 2px rgba(60, 64, 67, 0.3), 0px 1px 3px 1px rgba(60, 64, 67, 0.15);\n",
              "      fill: #174EA6;\n",
              "    }\n",
              "\n",
              "    [theme=dark] .colab-df-convert {\n",
              "      background-color: #3B4455;\n",
              "      fill: #D2E3FC;\n",
              "    }\n",
              "\n",
              "    [theme=dark] .colab-df-convert:hover {\n",
              "      background-color: #434B5C;\n",
              "      box-shadow: 0px 1px 3px 1px rgba(0, 0, 0, 0.15);\n",
              "      filter: drop-shadow(0px 1px 2px rgba(0, 0, 0, 0.3));\n",
              "      fill: #FFFFFF;\n",
              "    }\n",
              "  </style>\n",
              "\n",
              "      <script>\n",
              "        const buttonEl =\n",
              "          document.querySelector('#df-bb7c2acc-0261-4b66-9b17-e9452205522a button.colab-df-convert');\n",
              "        buttonEl.style.display =\n",
              "          google.colab.kernel.accessAllowed ? 'block' : 'none';\n",
              "\n",
              "        async function convertToInteractive(key) {\n",
              "          const element = document.querySelector('#df-bb7c2acc-0261-4b66-9b17-e9452205522a');\n",
              "          const dataTable =\n",
              "            await google.colab.kernel.invokeFunction('convertToInteractive',\n",
              "                                                     [key], {});\n",
              "          if (!dataTable) return;\n",
              "\n",
              "          const docLinkHtml = 'Like what you see? Visit the ' +\n",
              "            '<a target=\"_blank\" href=https://colab.research.google.com/notebooks/data_table.ipynb>data table notebook</a>'\n",
              "            + ' to learn more about interactive tables.';\n",
              "          element.innerHTML = '';\n",
              "          dataTable['output_type'] = 'display_data';\n",
              "          await google.colab.output.renderOutput(dataTable, element);\n",
              "          const docLink = document.createElement('div');\n",
              "          docLink.innerHTML = docLinkHtml;\n",
              "          element.appendChild(docLink);\n",
              "        }\n",
              "      </script>\n",
              "    </div>\n",
              "  </div>\n",
              "  "
            ]
          },
          "metadata": {},
          "execution_count": 352
        }
      ]
    },
    {
      "cell_type": "code",
      "source": [
        ""
      ],
      "metadata": {
        "id": "O4vNuq8rGLBa"
      },
      "id": "O4vNuq8rGLBa",
      "execution_count": 352,
      "outputs": []
    },
    {
      "cell_type": "code",
      "source": [
        "# Prediction 100 days into the future.\n",
        "future_days = 100\n",
        "df2['Prediction'] = df2['Close'].shift(-future_days)"
      ],
      "metadata": {
        "id": "YAs2e-CqGZYX"
      },
      "id": "YAs2e-CqGZYX",
      "execution_count": 353,
      "outputs": []
    },
    {
      "cell_type": "code",
      "source": [
        "df2.tail()"
      ],
      "metadata": {
        "colab": {
          "base_uri": "https://localhost:8080/",
          "height": 238
        },
        "id": "jUjOxkJgGZbA",
        "outputId": "25ac3839-14b7-4f03-8d6b-1dcb82348c4f"
      },
      "id": "jUjOxkJgGZbA",
      "execution_count": 354,
      "outputs": [
        {
          "output_type": "execute_result",
          "data": {
            "text/plain": [
              "             Close  Prediction\n",
              "Date                          \n",
              "2018-12-03  276.05         NaN\n",
              "2018-12-04  273.85         NaN\n",
              "2018-12-06  267.60         NaN\n",
              "2018-12-07  265.20         NaN\n",
              "2018-12-09  222.65         NaN"
            ],
            "text/html": [
              "\n",
              "  <div id=\"df-073cb626-a3ee-44be-9c12-f838edab2cd8\">\n",
              "    <div class=\"colab-df-container\">\n",
              "      <div>\n",
              "<style scoped>\n",
              "    .dataframe tbody tr th:only-of-type {\n",
              "        vertical-align: middle;\n",
              "    }\n",
              "\n",
              "    .dataframe tbody tr th {\n",
              "        vertical-align: top;\n",
              "    }\n",
              "\n",
              "    .dataframe thead th {\n",
              "        text-align: right;\n",
              "    }\n",
              "</style>\n",
              "<table border=\"1\" class=\"dataframe\">\n",
              "  <thead>\n",
              "    <tr style=\"text-align: right;\">\n",
              "      <th></th>\n",
              "      <th>Close</th>\n",
              "      <th>Prediction</th>\n",
              "    </tr>\n",
              "    <tr>\n",
              "      <th>Date</th>\n",
              "      <th></th>\n",
              "      <th></th>\n",
              "    </tr>\n",
              "  </thead>\n",
              "  <tbody>\n",
              "    <tr>\n",
              "      <th>2018-12-03</th>\n",
              "      <td>276.05</td>\n",
              "      <td>NaN</td>\n",
              "    </tr>\n",
              "    <tr>\n",
              "      <th>2018-12-04</th>\n",
              "      <td>273.85</td>\n",
              "      <td>NaN</td>\n",
              "    </tr>\n",
              "    <tr>\n",
              "      <th>2018-12-06</th>\n",
              "      <td>267.60</td>\n",
              "      <td>NaN</td>\n",
              "    </tr>\n",
              "    <tr>\n",
              "      <th>2018-12-07</th>\n",
              "      <td>265.20</td>\n",
              "      <td>NaN</td>\n",
              "    </tr>\n",
              "    <tr>\n",
              "      <th>2018-12-09</th>\n",
              "      <td>222.65</td>\n",
              "      <td>NaN</td>\n",
              "    </tr>\n",
              "  </tbody>\n",
              "</table>\n",
              "</div>\n",
              "      <button class=\"colab-df-convert\" onclick=\"convertToInteractive('df-073cb626-a3ee-44be-9c12-f838edab2cd8')\"\n",
              "              title=\"Convert this dataframe to an interactive table.\"\n",
              "              style=\"display:none;\">\n",
              "        \n",
              "  <svg xmlns=\"http://www.w3.org/2000/svg\" height=\"24px\"viewBox=\"0 0 24 24\"\n",
              "       width=\"24px\">\n",
              "    <path d=\"M0 0h24v24H0V0z\" fill=\"none\"/>\n",
              "    <path d=\"M18.56 5.44l.94 2.06.94-2.06 2.06-.94-2.06-.94-.94-2.06-.94 2.06-2.06.94zm-11 1L8.5 8.5l.94-2.06 2.06-.94-2.06-.94L8.5 2.5l-.94 2.06-2.06.94zm10 10l.94 2.06.94-2.06 2.06-.94-2.06-.94-.94-2.06-.94 2.06-2.06.94z\"/><path d=\"M17.41 7.96l-1.37-1.37c-.4-.4-.92-.59-1.43-.59-.52 0-1.04.2-1.43.59L10.3 9.45l-7.72 7.72c-.78.78-.78 2.05 0 2.83L4 21.41c.39.39.9.59 1.41.59.51 0 1.02-.2 1.41-.59l7.78-7.78 2.81-2.81c.8-.78.8-2.07 0-2.86zM5.41 20L4 18.59l7.72-7.72 1.47 1.35L5.41 20z\"/>\n",
              "  </svg>\n",
              "      </button>\n",
              "      \n",
              "  <style>\n",
              "    .colab-df-container {\n",
              "      display:flex;\n",
              "      flex-wrap:wrap;\n",
              "      gap: 12px;\n",
              "    }\n",
              "\n",
              "    .colab-df-convert {\n",
              "      background-color: #E8F0FE;\n",
              "      border: none;\n",
              "      border-radius: 50%;\n",
              "      cursor: pointer;\n",
              "      display: none;\n",
              "      fill: #1967D2;\n",
              "      height: 32px;\n",
              "      padding: 0 0 0 0;\n",
              "      width: 32px;\n",
              "    }\n",
              "\n",
              "    .colab-df-convert:hover {\n",
              "      background-color: #E2EBFA;\n",
              "      box-shadow: 0px 1px 2px rgba(60, 64, 67, 0.3), 0px 1px 3px 1px rgba(60, 64, 67, 0.15);\n",
              "      fill: #174EA6;\n",
              "    }\n",
              "\n",
              "    [theme=dark] .colab-df-convert {\n",
              "      background-color: #3B4455;\n",
              "      fill: #D2E3FC;\n",
              "    }\n",
              "\n",
              "    [theme=dark] .colab-df-convert:hover {\n",
              "      background-color: #434B5C;\n",
              "      box-shadow: 0px 1px 3px 1px rgba(0, 0, 0, 0.15);\n",
              "      filter: drop-shadow(0px 1px 2px rgba(0, 0, 0, 0.3));\n",
              "      fill: #FFFFFF;\n",
              "    }\n",
              "  </style>\n",
              "\n",
              "      <script>\n",
              "        const buttonEl =\n",
              "          document.querySelector('#df-073cb626-a3ee-44be-9c12-f838edab2cd8 button.colab-df-convert');\n",
              "        buttonEl.style.display =\n",
              "          google.colab.kernel.accessAllowed ? 'block' : 'none';\n",
              "\n",
              "        async function convertToInteractive(key) {\n",
              "          const element = document.querySelector('#df-073cb626-a3ee-44be-9c12-f838edab2cd8');\n",
              "          const dataTable =\n",
              "            await google.colab.kernel.invokeFunction('convertToInteractive',\n",
              "                                                     [key], {});\n",
              "          if (!dataTable) return;\n",
              "\n",
              "          const docLinkHtml = 'Like what you see? Visit the ' +\n",
              "            '<a target=\"_blank\" href=https://colab.research.google.com/notebooks/data_table.ipynb>data table notebook</a>'\n",
              "            + ' to learn more about interactive tables.';\n",
              "          element.innerHTML = '';\n",
              "          dataTable['output_type'] = 'display_data';\n",
              "          await google.colab.output.renderOutput(dataTable, element);\n",
              "          const docLink = document.createElement('div');\n",
              "          docLink.innerHTML = docLinkHtml;\n",
              "          element.appendChild(docLink);\n",
              "        }\n",
              "      </script>\n",
              "    </div>\n",
              "  </div>\n",
              "  "
            ]
          },
          "metadata": {},
          "execution_count": 354
        }
      ]
    },
    {
      "cell_type": "code",
      "source": [
        "X = np.array(df2.drop(['Prediction'], 1))[:-future_days]\n",
        "print(X)"
      ],
      "metadata": {
        "colab": {
          "base_uri": "https://localhost:8080/"
        },
        "id": "tDJu95AtGZdS",
        "outputId": "e3723726-5eca-4ef6-95a4-11d4c47532a3"
      },
      "id": "tDJu95AtGZdS",
      "execution_count": 355,
      "outputs": [
        {
          "output_type": "stream",
          "name": "stdout",
          "text": [
            "[[167.7 ]\n",
            " [149.3 ]\n",
            " [169.5 ]\n",
            " ...\n",
            " [247.15]\n",
            " [250.2 ]\n",
            " [254.5 ]]\n"
          ]
        }
      ]
    },
    {
      "cell_type": "code",
      "source": [
        "y = np.array(df2['Prediction'])[:-future_days]\n",
        "print(y)"
      ],
      "metadata": {
        "colab": {
          "base_uri": "https://localhost:8080/"
        },
        "id": "mN8H89ujGZfZ",
        "outputId": "07c75045-feaa-48f5-e4f6-7b209a61a77c"
      },
      "id": "mN8H89ujGZfZ",
      "execution_count": 356,
      "outputs": [
        {
          "output_type": "stream",
          "name": "stdout",
          "text": [
            "[135.95 151.55 150.3  ... 267.6  265.2  222.65]\n"
          ]
        }
      ]
    },
    {
      "cell_type": "code",
      "source": [
        "from sklearn.model_selection import train_test_split\n",
        "x_train, x_test, y_train, y_test = train_test_split(X, y, test_size = 0.2)"
      ],
      "metadata": {
        "id": "9-fGyzHjGZhW"
      },
      "id": "9-fGyzHjGZhW",
      "execution_count": 357,
      "outputs": []
    },
    {
      "cell_type": "code",
      "source": [
        "from sklearn.tree import DecisionTreeRegressor\n",
        "from sklearn.linear_model import LinearRegression"
      ],
      "metadata": {
        "id": "3MTIaLcIGZjB"
      },
      "id": "3MTIaLcIGZjB",
      "execution_count": 358,
      "outputs": []
    },
    {
      "cell_type": "code",
      "source": [
        "# Implementing Linear and Decision Tree Regression Algorithms.\n",
        "tree = DecisionTreeRegressor().fit(x_train, y_train)\n",
        "lr = LinearRegression().fit(x_train, y_train)"
      ],
      "metadata": {
        "id": "-mnVrB6SGZlA"
      },
      "id": "-mnVrB6SGZlA",
      "execution_count": 359,
      "outputs": []
    },
    {
      "cell_type": "code",
      "source": [
        "x_future = df2.drop(['Prediction'], 1)[:-future_days]\n",
        "x_future = x_future.tail(future_days)\n",
        "x_future = np.array(x_future)\n",
        "x_future"
      ],
      "metadata": {
        "colab": {
          "base_uri": "https://localhost:8080/"
        },
        "id": "EPP2HOQEGZo5",
        "outputId": "fd0a915f-c0a6-474b-f50c-7761576ee93f"
      },
      "id": "EPP2HOQEGZo5",
      "execution_count": 360,
      "outputs": [
        {
          "output_type": "execute_result",
          "data": {
            "text/plain": [
              "array([[286.85],\n",
              "       [290.85],\n",
              "       [300.65],\n",
              "       [300.85],\n",
              "       [300.15],\n",
              "       [302.75],\n",
              "       [305.95],\n",
              "       [305.55],\n",
              "       [306.6 ],\n",
              "       [316.4 ],\n",
              "       [312.9 ],\n",
              "       [288.35],\n",
              "       [274.85],\n",
              "       [263.25],\n",
              "       [235.65],\n",
              "       [230.9 ],\n",
              "       [323.  ],\n",
              "       [316.4 ],\n",
              "       [313.55],\n",
              "       [305.45],\n",
              "       [308.35],\n",
              "       [308.85],\n",
              "       [307.2 ],\n",
              "       [304.25],\n",
              "       [304.25],\n",
              "       [301.8 ],\n",
              "       [304.  ],\n",
              "       [290.65],\n",
              "       [311.15],\n",
              "       [274.85],\n",
              "       [276.95],\n",
              "       [292.75],\n",
              "       [264.45],\n",
              "       [235.45],\n",
              "       [281.95],\n",
              "       [279.05],\n",
              "       [275.6 ],\n",
              "       [267.95],\n",
              "       [262.85],\n",
              "       [266.6 ],\n",
              "       [262.15],\n",
              "       [270.7 ],\n",
              "       [273.5 ],\n",
              "       [275.  ],\n",
              "       [275.5 ],\n",
              "       [311.2 ],\n",
              "       [274.8 ],\n",
              "       [286.65],\n",
              "       [281.  ],\n",
              "       [234.65],\n",
              "       [236.7 ],\n",
              "       [227.6 ],\n",
              "       [278.2 ],\n",
              "       [278.5 ],\n",
              "       [279.6 ],\n",
              "       [272.4 ],\n",
              "       [260.6 ],\n",
              "       [262.05],\n",
              "       [263.2 ],\n",
              "       [258.85],\n",
              "       [257.9 ],\n",
              "       [262.2 ],\n",
              "       [263.8 ],\n",
              "       [258.75],\n",
              "       [312.25],\n",
              "       [270.25],\n",
              "       [287.8 ],\n",
              "       [255.25],\n",
              "       [277.3 ],\n",
              "       [223.7 ],\n",
              "       [218.2 ],\n",
              "       [275.5 ],\n",
              "       [279.65],\n",
              "       [280.95],\n",
              "       [284.1 ],\n",
              "       [286.2 ],\n",
              "       [286.3 ],\n",
              "       [283.6 ],\n",
              "       [283.15],\n",
              "       [289.1 ],\n",
              "       [291.2 ],\n",
              "       [292.1 ],\n",
              "       [297.55],\n",
              "       [312.95],\n",
              "       [273.1 ],\n",
              "       [275.65],\n",
              "       [273.  ],\n",
              "       [263.75],\n",
              "       [271.25],\n",
              "       [222.4 ],\n",
              "       [209.2 ],\n",
              "       [255.9 ],\n",
              "       [242.65],\n",
              "       [241.1 ],\n",
              "       [247.5 ],\n",
              "       [244.7 ],\n",
              "       [243.55],\n",
              "       [247.15],\n",
              "       [250.2 ],\n",
              "       [254.5 ]])"
            ]
          },
          "metadata": {},
          "execution_count": 360
        }
      ]
    },
    {
      "cell_type": "code",
      "source": [
        "tree_prediction = tree.predict(x_future)\n",
        "print(tree_prediction)"
      ],
      "metadata": {
        "colab": {
          "base_uri": "https://localhost:8080/"
        },
        "id": "U11SVooIGZqq",
        "outputId": "90df7125-aa11-43d5-c955-f116eadf9891"
      },
      "id": "U11SVooIGZqq",
      "execution_count": 361,
      "outputs": [
        {
          "output_type": "stream",
          "name": "stdout",
          "text": [
            "[257.85  260.65  257.5   264.5   269.2   266.7   274.15  272.7   265.75\n",
            " 263.575 285.25  257.75  269.6   277.8   272.15  275.35  267.05  263.575\n",
            " 258.2   262.1   264.5   267.35  265.6   266.65  266.65  264.5   268.9\n",
            " 294.2   267.1   269.6   222.95  258.9   243.25  247.9   238.65  233.1\n",
            " 238.6   243.3   246.3   236.9   246.3   242.25  242.2   246.9   317.6\n",
            " 267.1   273.25  289.7   266.95  236.35  215.15  234.55  237.55  275.65\n",
            " 243.    245.15  240.55  246.3   277.8   237.05  233.35  246.3   236.\n",
            " 234.3   315.3   242.25  257.75  277.8   292.    275.25  237.3   317.6\n",
            " 236.6   266.95  234.9   234.6   233.3   209.6   209.6   233.25  233.75\n",
            " 314.1   275.5   285.25  274.75  233.55  222.    236.    273.85  275.25\n",
            " 263.7   269.8   325.75  325.75  285.1   276.05  276.05  267.6   265.2\n",
            " 277.8  ]\n"
          ]
        }
      ]
    },
    {
      "cell_type": "code",
      "source": [
        "lr_prediction = lr.predict(x_future)\n",
        "print(lr_prediction)"
      ],
      "metadata": {
        "colab": {
          "base_uri": "https://localhost:8080/"
        },
        "id": "PncKLnCeGZsp",
        "outputId": "00683fd4-6e0b-43ec-ceba-f1a8828efbc7"
      },
      "id": "PncKLnCeGZsp",
      "execution_count": 362,
      "outputs": [
        {
          "output_type": "stream",
          "name": "stdout",
          "text": [
            "[273.27628401 276.55545588 284.58942695 284.75338554 284.17953046\n",
            " 286.31099218 288.93432967 288.60641248 289.4671951  297.50116617\n",
            " 294.63189079 274.50597346 263.43876841 253.92917    231.30288413\n",
            " 227.40886754 302.91179975 297.50116617 295.16475621 288.52443319\n",
            " 290.90183279 291.31172927 289.95907088 287.54068163 287.54068163\n",
            " 285.53218886 287.33573338 276.39149728 293.19725309 263.43876841\n",
            " 265.16033364 278.11306251 254.91292156 231.13892553 269.25929847\n",
            " 266.88189887 264.05361314 257.78219694 253.60125282 256.67547644\n",
            " 253.02739774 260.0366276  262.33204791 263.56173736 263.97163384\n",
            " 293.23824274 263.39777876 273.11232542 268.48049516 230.48309116\n",
            " 232.16366674 224.70355075 266.18507485 266.43101274 267.332785\n",
            " 261.43027564 251.75671864 252.94541844 253.88818035 250.32208095\n",
            " 249.54327763 253.06838739 254.38005613 250.24010165 294.09902536\n",
            " 259.66772077 274.05508733 247.37082627 265.44726118 221.50635818\n",
            " 216.99749686 263.97163384 267.37377465 268.43950551 271.02185335\n",
            " 272.74341858 272.82539788 270.61195687 270.24305003 275.12081818\n",
            " 276.84238341 277.58019708 282.04806875 294.67288043 262.00413072\n",
            " 264.09460279 261.92215142 254.33906648 260.48751373 220.44062732\n",
            " 209.61936017 247.9036917  237.04143489 235.77075579 241.01743078\n",
            " 238.72201047 237.77924856 240.73050324 243.23087179 246.75598155]\n"
          ]
        }
      ]
    },
    {
      "cell_type": "code",
      "source": [
        "predictions = tree_prediction \n",
        "valid = df2[X.shape[0]:]\n",
        "valid['Predictions'] = predictions"
      ],
      "metadata": {
        "id": "CslskGDrGZum"
      },
      "id": "CslskGDrGZum",
      "execution_count": 363,
      "outputs": []
    },
    {
      "cell_type": "code",
      "source": [
        "plt.figure(figsize=(16,8))\n",
        "plt.title(\"Model\")\n",
        "plt.xlabel('Days')\n",
        "plt.ylabel('Close Price RS')\n",
        "plt.plot(df2['Close'])\n",
        "plt.plot(valid[['Close', 'Predictions']])\n",
        "plt.legend([\"Original\", \"Valid\", 'Predicted'])\n",
        "plt.show()"
      ],
      "metadata": {
        "colab": {
          "base_uri": "https://localhost:8080/",
          "height": 513
        },
        "id": "wJzos9ZOG-DD",
        "outputId": "9fec24bd-fb30-4de5-804d-134ef16fdd96"
      },
      "id": "wJzos9ZOG-DD",
      "execution_count": 364,
      "outputs": [
        {
          "output_type": "display_data",
          "data": {
            "text/plain": [
              "<Figure size 1152x576 with 1 Axes>"
            ],
            "image/png": "[encoded data removed]"
          },
          "metadata": {
            "needs_background": "light"
          }
        }
      ]
    },
    {
      "cell_type": "code",
      "source": [
        "#Cluster analysis on stock selection\n",
        "!pip install fundamentalanalysis"
      ],
      "metadata": {
        "colab": {
          "base_uri": "https://localhost:8080/"
        },
        "id": "hoaps5RwG-IK",
        "outputId": "fab6cb61-9184-4de1-f022-a5f913036ebb"
      },
      "id": "hoaps5RwG-IK",
      "execution_count": 365,
      "outputs": [
        {
          "output_type": "stream",
          "name": "stdout",
          "text": [
            "Looking in indexes: https://pypi.org/simple, https://us-python.pkg.dev/colab-wheels/public/simple/\n",
            "Requirement already satisfied: fundamentalanalysis in /usr/local/lib/python3.7/dist-packages (0.2.14)\n"
          ]
        }
      ]
    },
    {
      "cell_type": "code",
      "source": [
        "import os\n",
        "%matplotlib inline"
      ],
      "metadata": {
        "id": "X-9YzcVcG-Kc"
      },
      "id": "X-9YzcVcG-Kc",
      "execution_count": 366,
      "outputs": []
    },
    {
      "cell_type": "code",
      "source": [
        "import pandas as pd #For data related tasks"
      ],
      "metadata": {
        "id": "YJYVl5kgG-O0"
      },
      "id": "YJYVl5kgG-O0",
      "execution_count": 368,
      "outputs": []
    },
    {
      "cell_type": "code",
      "source": [
        "#stock price prediction using LMSM Model\n",
        "import numpy as np \n",
        "import pandas as pd \n",
        "import matplotlib.pyplot as plt \n",
        "from sklearn.preprocessing import MinMaxScaler\n",
        "from keras.models import Sequential\n",
        "from keras.layers import Dense,LSTM,Dropout"
      ],
      "metadata": {
        "id": "tBhoT4DOG-S4"
      },
      "id": "tBhoT4DOG-S4",
      "execution_count": 369,
      "outputs": []
    },
    {
      "cell_type": "code",
      "source": [
        ""
      ],
      "metadata": {
        "id": "nU6VHB0WTxfQ"
      },
      "id": "nU6VHB0WTxfQ",
      "execution_count": 369,
      "outputs": []
    },
    {
      "cell_type": "code",
      "source": [
        "data[\"Close\"]=pd.to_numeric(data.Close,errors='coerce')\n",
        "data = data.dropna()\n",
        "trainData = data.iloc[:,4:5].values"
      ],
      "metadata": {
        "id": "XYCsHFrCG-Vr"
      },
      "id": "XYCsHFrCG-Vr",
      "execution_count": 370,
      "outputs": []
    },
    {
      "cell_type": "code",
      "source": [
        "sc = MinMaxScaler(feature_range=(0,1))\n",
        "trainData = sc.fit_transform(trainData)\n",
        "trainData.shape"
      ],
      "metadata": {
        "colab": {
          "base_uri": "https://localhost:8080/"
        },
        "id": "F1NTX7BeG-ZB",
        "outputId": "93dbaa21-f3bd-4fe9-a9c6-646c593d8937"
      },
      "id": "F1NTX7BeG-ZB",
      "execution_count": 371,
      "outputs": [
        {
          "output_type": "execute_result",
          "data": {
            "text/plain": [
              "(1235, 1)"
            ]
          },
          "metadata": {},
          "execution_count": 371
        }
      ]
    },
    {
      "cell_type": "code",
      "source": [
        "X_train = []\n",
        "y_train = []\n",
        "\n",
        "for i in range (60,1149): #60 : timestep // 1149 : length of the data\n",
        "    X_train.append(trainData[i-60:i,0]) \n",
        "    y_train.append(trainData[i,0])\n",
        "\n",
        "X_train,y_train = np.array(X_train),np.array(y_train)"
      ],
      "metadata": {
        "id": "G4G0t1MaGZwu"
      },
      "id": "G4G0t1MaGZwu",
      "execution_count": 372,
      "outputs": []
    },
    {
      "cell_type": "code",
      "source": [
        "X_train = np.reshape(X_train,(X_train.shape[0],X_train.shape[1],1)) #adding the batch_size axis"
      ],
      "metadata": {
        "id": "Jojd3OfzGZyf"
      },
      "id": "Jojd3OfzGZyf",
      "execution_count": 373,
      "outputs": []
    },
    {
      "cell_type": "code",
      "source": [
        "model = Sequential()\n",
        "\n",
        "model.add(LSTM(units=100, return_sequences = True, input_shape =(X_train.shape[1],1)))\n",
        "model.add(Dropout(0.2))\n",
        "\n",
        "model.add(LSTM(units=100, return_sequences = True))\n",
        "model.add(Dropout(0.2))\n",
        "\n",
        "model.add(LSTM(units=100, return_sequences = True))\n",
        "model.add(Dropout(0.2))\n",
        "\n",
        "model.add(LSTM(units=100, return_sequences = False))\n",
        "model.add(Dropout(0.2))\n",
        "\n",
        "model.add(Dense(units =1))\n",
        "model.compile(optimizer='adam',loss=\"mean_squared_error\")"
      ],
      "metadata": {
        "id": "UIMo66IoG-Fd"
      },
      "id": "UIMo66IoG-Fd",
      "execution_count": 374,
      "outputs": []
    },
    {
      "cell_type": "code",
      "source": [
        "hist = model.fit(X_train, y_train, epochs = 20, batch_size = 32, verbose=2)"
      ],
      "metadata": {
        "colab": {
          "base_uri": "https://localhost:8080/"
        },
        "id": "lYaBEeJLGZ2B",
        "outputId": "c8c60a9b-d2de-4bb1-a1cb-fd25e723e536"
      },
      "id": "lYaBEeJLGZ2B",
      "execution_count": 241,
      "outputs": [
        {
          "output_type": "stream",
          "name": "stdout",
          "text": [
            "Epoch 1/20\n",
            "35/35 - 26s - loss: 0.0174 - 26s/epoch - 733ms/step\n",
            "Epoch 2/20\n",
            "35/35 - 12s - loss: 0.0034 - 12s/epoch - 343ms/step\n",
            "Epoch 3/20\n",
            "35/35 - 12s - loss: 0.0030 - 12s/epoch - 336ms/step\n",
            "Epoch 4/20\n",
            "35/35 - 12s - loss: 0.0035 - 12s/epoch - 338ms/step\n",
            "Epoch 5/20\n",
            "35/35 - 11s - loss: 0.0032 - 11s/epoch - 311ms/step\n",
            "Epoch 6/20\n",
            "35/35 - 10s - loss: 0.0027 - 10s/epoch - 294ms/step\n",
            "Epoch 7/20\n",
            "35/35 - 10s - loss: 0.0026 - 10s/epoch - 298ms/step\n",
            "Epoch 8/20\n",
            "35/35 - 11s - loss: 0.0029 - 11s/epoch - 313ms/step\n",
            "Epoch 9/20\n",
            "35/35 - 10s - loss: 0.0026 - 10s/epoch - 290ms/step\n",
            "Epoch 10/20\n",
            "35/35 - 10s - loss: 0.0029 - 10s/epoch - 287ms/step\n",
            "Epoch 11/20\n",
            "35/35 - 10s - loss: 0.0022 - 10s/epoch - 290ms/step\n",
            "Epoch 12/20\n",
            "35/35 - 10s - loss: 0.0038 - 10s/epoch - 295ms/step\n",
            "Epoch 13/20\n",
            "35/35 - 8s - loss: 0.0024 - 8s/epoch - 221ms/step\n",
            "Epoch 14/20\n",
            "35/35 - 6s - loss: 0.0019 - 6s/epoch - 179ms/step\n",
            "Epoch 15/20\n",
            "35/35 - 6s - loss: 0.0019 - 6s/epoch - 178ms/step\n",
            "Epoch 16/20\n",
            "35/35 - 6s - loss: 0.0020 - 6s/epoch - 182ms/step\n",
            "Epoch 17/20\n",
            "35/35 - 6s - loss: 0.0019 - 6s/epoch - 178ms/step\n",
            "Epoch 18/20\n",
            "35/35 - 6s - loss: 0.0022 - 6s/epoch - 179ms/step\n",
            "Epoch 19/20\n",
            "35/35 - 6s - loss: 0.0018 - 6s/epoch - 181ms/step\n",
            "Epoch 20/20\n",
            "35/35 - 6s - loss: 0.0019 - 6s/epoch - 179ms/step\n"
          ]
        }
      ]
    },
    {
      "cell_type": "code",
      "source": [
        "plt.plot(hist.history['loss'])\n",
        "plt.title('Training model loss')\n",
        "plt.ylabel('loss')\n",
        "plt.xlabel('epoch')\n",
        "plt.legend(['train'], loc='upper left')\n",
        "plt.show()"
      ],
      "metadata": {
        "colab": {
          "base_uri": "https://localhost:8080/",
          "height": 295
        },
        "id": "_ikH_rFDGYOz",
        "outputId": "448fddf6-6db8-4849-c9db-955e47ef0b1d"
      },
      "id": "_ikH_rFDGYOz",
      "execution_count": 242,
      "outputs": [
        {
          "output_type": "display_data",
          "data": {
            "text/plain": [
              "<Figure size 432x288 with 1 Axes>"
            ],
            "image/png": "[encoded data removed]"
          },
          "metadata": {
            "needs_background": "light"
          }
        }
      ]
    },
    {
      "cell_type": "code",
      "source": [
        "testData = data\n",
        "testData[\"Close\"]=pd.to_numeric(testData['Close'] ,errors='coerce')\n",
        "testData = testData.dropna()\n",
        "testData = testData.iloc[:,6:7]\n",
        "y_test = testData.iloc[60:,0:].values \n",
        "#input array for the model\n",
        "inputClosing = testData.iloc[:,0:].values \n",
        "inputClosing_scaled = sc.transform(inputClosing)\n",
        "inputClosing_scaled.shape\n",
        "X_test = []\n",
        "length = len(testData)\n",
        "timestep = 60\n",
        "for i in range(timestep,length):  \n",
        "    X_test.append(inputClosing_scaled[i-timestep:i,0])\n",
        "X_test = np.array(X_test)\n",
        "X_test = np.reshape(X_test,(X_test.shape[0],X_test.shape[1],1))\n",
        "X_test.shape\n",
        "  \n",
        "\n"
      ],
      "metadata": {
        "colab": {
          "base_uri": "https://localhost:8080/"
        },
        "id": "NI4RYQyYGYib",
        "outputId": "3cc918ba-7539-469f-f35e-345e54bd888e"
      },
      "id": "NI4RYQyYGYib",
      "execution_count": 274,
      "outputs": [
        {
          "output_type": "execute_result",
          "data": {
            "text/plain": [
              "(1153, 60, 1)"
            ]
          },
          "metadata": {},
          "execution_count": 274
        }
      ]
    },
    {
      "cell_type": "code",
      "source": [
        "y_pred = model.predict(X_test)\n",
        "y_pred"
      ],
      "metadata": {
        "colab": {
          "base_uri": "https://localhost:8080/"
        },
        "id": "J53vcFZeGYnk",
        "outputId": "08dd4a98-339e-4520-c57e-2895ebeb156f"
      },
      "id": "J53vcFZeGYnk",
      "execution_count": 275,
      "outputs": [
        {
          "output_type": "execute_result",
          "data": {
            "text/plain": [
              "array([[3.167728 ],\n",
              "       [3.168014 ],\n",
              "       [3.1679668],\n",
              "       ...,\n",
              "       [3.1690779],\n",
              "       [3.168724 ],\n",
              "       [3.168487 ]], dtype=float32)"
            ]
          },
          "metadata": {},
          "execution_count": 275
        }
      ]
    },
    {
      "cell_type": "code",
      "source": [
        "predicted_price = sc.inverse_transform(y_pred)"
      ],
      "metadata": {
        "id": "G_2ajyqdGYpu"
      },
      "id": "G_2ajyqdGYpu",
      "execution_count": 276,
      "outputs": []
    },
    {
      "cell_type": "code",
      "source": [
        "plt.plot(y_test, color = 'red', label = 'Actual Stock Price')\n",
        "plt.plot(predicted_price, color = 'green', label = 'Predicted Stock Price')\n",
        "plt.title('tata stock price prediction')\n",
        "plt.xlabel('Time')\n",
        "plt.ylabel('Stock Price')\n",
        "plt.legend()\n",
        "plt.show()"
      ],
      "metadata": {
        "colab": {
          "base_uri": "https://localhost:8080/",
          "height": 295
        },
        "id": "QRTgHTBsPsoj",
        "outputId": "ef186a98-8539-4f5d-beed-09d793f03f45"
      },
      "id": "QRTgHTBsPsoj",
      "execution_count": 277,
      "outputs": [
        {
          "output_type": "display_data",
          "data": {
            "text/plain": [
              "<Figure size 432x288 with 1 Axes>"
            ],
            "image/png": "[encoded data removed]"
          },
          "metadata": {
            "needs_background": "light"
          }
        }
      ]
    },
    {
      "cell_type": "code",
      "source": [
        ""
      ],
      "metadata": {
        "id": "Ho1z8F9TilgR"
      },
      "id": "Ho1z8F9TilgR",
      "execution_count": null,
      "outputs": []
    }
  ],
  "metadata": {
    "kernelspec": {
      "display_name": "Python 3 (ipykernel)",
      "language": "python",
      "name": "python3"
    },
    "language_info": {
      "codemirror_mode": {
        "name": "ipython",
        "version": 3
      },
      "file_extension": ".py",
      "mimetype": "text/x-python",
      "name": "python",
      "nbconvert_exporter": "python",
      "pygments_lexer": "ipython3",
      "version": "3.9.7"
    },
    "colab": {
      "name": "miles stone 3 data preprocessing.ipynb",
      "provenance": []
    }
  },
  "nbformat": 4,
  "nbformat_minor": 5
}